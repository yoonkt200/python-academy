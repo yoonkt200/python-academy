{
 "cells": [
  {
   "cell_type": "markdown",
   "id": "386f0f14-9b55-4daf-b80f-e7177ff6b285",
   "metadata": {},
   "source": [
    "----\n",
    "## 5. 클래스와 객체 지향 프로그래밍"
   ]
  },
  {
   "cell_type": "markdown",
   "id": "52443b15-da3e-4ef6-a4e5-f2d605480643",
   "metadata": {},
   "source": [
    "![variable](../../img/oop1.png)"
   ]
  },
  {
   "cell_type": "markdown",
   "id": "f0011e68-55ce-4c1f-964e-904182f61658",
   "metadata": {},
   "source": [
    "![variable](../../img/oop2.png)"
   ]
  },
  {
   "cell_type": "markdown",
   "id": "9b3cc750-6533-4701-9500-9566a1b26383",
   "metadata": {},
   "source": [
    "### 2) 클래스와 객체"
   ]
  },
  {
   "cell_type": "code",
   "execution_count": 2,
   "id": "055e00a3-7d0d-4ccc-a68a-d788d85e430b",
   "metadata": {},
   "outputs": [
    {
     "name": "stdout",
     "output_type": "stream",
     "text": [
      "8\n",
      "4\n",
      "16\n"
     ]
    }
   ],
   "source": [
    "class Calculator:\n",
    "    def __init__(self):\n",
    "        self.result = 0\n",
    "\n",
    "    def plus(self, a, b):\n",
    "        self.result = a + b\n",
    "        return self.result\n",
    "\n",
    "calculator1 = Calculator()\n",
    "calculator2 = Calculator()\n",
    "\n",
    "print(calculator1.plus(3,5))\n",
    "print(calculator2.plus(1,3))\n",
    "print(calculator2.plus(7,9))"
   ]
  },
  {
   "cell_type": "code",
   "execution_count": 6,
   "id": "a7008b8b-0a50-414a-acc0-2c86c799e515",
   "metadata": {},
   "outputs": [
    {
     "name": "stdout",
     "output_type": "stream",
     "text": [
      "6\n",
      "-2\n",
      "14\n"
     ]
    }
   ],
   "source": [
    "class Calculator:\n",
    "    def __init__(self, a):\n",
    "        self.result = a\n",
    "\n",
    "    def plus(self, a):\n",
    "        self.result = self.result + a\n",
    "        return self.result\n",
    "\n",
    "    def minus(self, a):\n",
    "        self.result = self.result - a\n",
    "        return self.result\n",
    "\n",
    "calculator1 = Calculator(3)\n",
    "calculator2 = Calculator(5)\n",
    "\n",
    "print(calculator1.plus(3))\n",
    "print(calculator2.minus(7))\n",
    "print(calculator2.plus(16))"
   ]
  },
  {
   "cell_type": "code",
   "execution_count": 9,
   "id": "1aec65d9-01c3-4cad-b047-74c540b8050e",
   "metadata": {},
   "outputs": [
    {
     "name": "stdout",
     "output_type": "stream",
     "text": [
      "14\n",
      "-2\n",
      "16\n",
      "50\n"
     ]
    }
   ],
   "source": [
    "class Calculator:\n",
    "    def __init__(self, a, b):\n",
    "        self.first = a\n",
    "        self.second = b\n",
    "        \n",
    "    def reset(self, a, b):\n",
    "        self.first = a\n",
    "        self.second = b\n",
    "\n",
    "    def plus(self):\n",
    "        result = self.first + self.second\n",
    "        return result\n",
    "\n",
    "    def minus(self):\n",
    "        result = self.first - self.second\n",
    "        return result\n",
    "    \n",
    "    def divide(self):\n",
    "        result = self.first / self.second\n",
    "        return result\n",
    "    \n",
    "    def multiple(self):\n",
    "        result = self.first * self.second\n",
    "        return result\n",
    "\n",
    "calculator1 = Calculator(5, 9)\n",
    "calculator2 = Calculator(7, 9)\n",
    "\n",
    "print(calculator1.plus())\n",
    "print(calculator2.minus())\n",
    "print(calculator2.plus())\n",
    "\n",
    "calculator1.reset(10, 5)\n",
    "\n",
    "print(calculator1.multiple())"
   ]
  },
  {
   "cell_type": "code",
   "execution_count": null,
   "id": "ab3e21be-5195-4b76-bd89-d52b9cec6ffd",
   "metadata": {},
   "outputs": [],
   "source": []
  }
 ],
 "metadata": {
  "kernelspec": {
   "display_name": "Python 3 (ipykernel)",
   "language": "python",
   "name": "python3"
  },
  "language_info": {
   "codemirror_mode": {
    "name": "ipython",
    "version": 3
   },
   "file_extension": ".py",
   "mimetype": "text/x-python",
   "name": "python",
   "nbconvert_exporter": "python",
   "pygments_lexer": "ipython3",
   "version": "3.7.10"
  }
 },
 "nbformat": 4,
 "nbformat_minor": 5
}
