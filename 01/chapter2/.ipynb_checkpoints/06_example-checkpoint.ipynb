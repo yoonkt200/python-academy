{
 "cells": [
  {
   "cell_type": "markdown",
   "id": "cd1faccf-e384-4962-a1e5-3a2809d0b02c",
   "metadata": {},
   "source": [
    "----\n",
    "## 6. 간단한 가계부 프로그램 만들기"
   ]
  },
  {
   "cell_type": "code",
   "execution_count": 6,
   "id": "9096c7f6-9294-4ae7-a8e9-7523130a6372",
   "metadata": {},
   "outputs": [],
   "source": [
    "class AccountBook:\n",
    "    def __init__(self):\n",
    "        self.total_price = 0\n",
    "        self.year_price_dict = {}\n",
    "        self.month_price_dict = {}\n",
    "        self.day_price_dict = {}\n",
    "\n",
    "    def write_account(self, year, month, day, price):\n",
    "        self.total_price = self.total_price + price\n",
    "        self.write_year_account(year, price)\n",
    "        self.write_month_account(month, price)\n",
    "        self.write_day_account(day, price)\n",
    "            \n",
    "    def write_year_account(self, year, price):\n",
    "        if year in self.year_price_dict:\n",
    "            self.year_price_dict[year] = self.year_price_dict[year] + price\n",
    "        else:\n",
    "            self.year_price_dict[year] = price\n",
    "    \n",
    "    def write_month_account(self, month, price):\n",
    "        if month in self.month_price_dict:\n",
    "            self.month_price_dict[month] = self.month_price_dict[month] + price\n",
    "        else:\n",
    "            self.month_price_dict[month] = price\n",
    "    \n",
    "    def write_day_account(self, day, price):\n",
    "        if day in self.day_price_dict:\n",
    "            self.day_price_dict[day] = self.day_price_dict[day] + price\n",
    "        else:\n",
    "            self.day_price_dict[day] = price\n",
    "    \n",
    "    def print_year_account(self, year):\n",
    "        if year in self.year_price_dict:\n",
    "            print(\"total\", year, \"year account:\", self.year_price_dict[year])\n",
    "        else:\n",
    "            print(\"total\", year, \"year account:\", 0)\n",
    "    \n",
    "    def print_month_account(self, month):\n",
    "        if month in self.month_price_dict:\n",
    "            print(\"total\", month, \"month account:\", self.month_price_dict[month])\n",
    "        else:\n",
    "            print(\"total\", month, \"month account:\", 0)\n",
    "    \n",
    "    def print_day_account(self, day):\n",
    "        if day in self.day_price_dict:\n",
    "            print(\"total\", day, \"day account:\", self.day_price_dict[day])\n",
    "        else:\n",
    "            print(\"total\", day, \"day account:\", 0)\n",
    "    \n",
    "    def get_account_total_price(self):\n",
    "        return self.total_price"
   ]
  },
  {
   "cell_type": "code",
   "execution_count": 7,
   "id": "102fb5d5-2e0b-4ad0-800a-0425e97b45ac",
   "metadata": {},
   "outputs": [],
   "source": [
    "account_book1 = AccountBook()"
   ]
  },
  {
   "cell_type": "code",
   "execution_count": 8,
   "id": "07a1c2b4-a935-4f63-978b-4c2779cc9bbc",
   "metadata": {},
   "outputs": [],
   "source": [
    "account_book1.write_account(1992, 6, 13, 50000)\n",
    "account_book1.write_account(1998, 6, 18, 15000)\n",
    "account_book1.write_account(1994, 8, 11, 310000)\n",
    "account_book1.write_account(1992, 9, 18, 500)\n",
    "account_book1.write_account(1994, 10, 13, 21800)\n",
    "account_book1.write_account(1998, 8, 21, 289100)\n",
    "account_book1.write_account(2000, 6, 13, 13000)"
   ]
  },
  {
   "cell_type": "code",
   "execution_count": 9,
   "id": "1d65d154-1502-42a4-89ae-5b62312bcfad",
   "metadata": {},
   "outputs": [
    {
     "name": "stdout",
     "output_type": "stream",
     "text": [
      "total 1994 year account: 331800\n"
     ]
    }
   ],
   "source": [
    "account_book1.print_year_account(1994)"
   ]
  },
  {
   "cell_type": "code",
   "execution_count": 10,
   "id": "6062ec63-4112-4c52-bd03-2f6c72876dc8",
   "metadata": {},
   "outputs": [
    {
     "name": "stdout",
     "output_type": "stream",
     "text": [
      "total 1992 year account: 50500\n"
     ]
    }
   ],
   "source": [
    "account_book1.print_year_account(1992)"
   ]
  },
  {
   "cell_type": "code",
   "execution_count": 11,
   "id": "5bc5a3d1-bd44-4660-8861-f3c5cb49646a",
   "metadata": {},
   "outputs": [
    {
     "name": "stdout",
     "output_type": "stream",
     "text": [
      "total 2000 year account: 13000\n"
     ]
    }
   ],
   "source": [
    "account_book1.print_year_account(2000)"
   ]
  },
  {
   "cell_type": "code",
   "execution_count": 12,
   "id": "b5f14c28-cc22-4e3b-8fc9-bf9d6068934e",
   "metadata": {},
   "outputs": [
    {
     "name": "stdout",
     "output_type": "stream",
     "text": [
      "total 2001 year account: 0\n"
     ]
    }
   ],
   "source": [
    "account_book1.print_year_account(2001)"
   ]
  },
  {
   "cell_type": "code",
   "execution_count": 13,
   "id": "62ea7229-5118-485f-a721-d7472c1bb3d0",
   "metadata": {},
   "outputs": [
    {
     "name": "stdout",
     "output_type": "stream",
     "text": [
      "total 6 month account: 78000\n"
     ]
    }
   ],
   "source": [
    "account_book1.print_month_account(6)"
   ]
  },
  {
   "cell_type": "code",
   "execution_count": 14,
   "id": "e55ae834-7636-4c51-8468-deb91e0c1376",
   "metadata": {},
   "outputs": [
    {
     "name": "stdout",
     "output_type": "stream",
     "text": [
      "total 8 month account: 599100\n"
     ]
    }
   ],
   "source": [
    "account_book1.print_month_account(8)"
   ]
  },
  {
   "cell_type": "code",
   "execution_count": 15,
   "id": "3f9e74e8-3764-42e8-b8ee-b5fbc8f41768",
   "metadata": {},
   "outputs": [
    {
     "name": "stdout",
     "output_type": "stream",
     "text": [
      "total 13 day account: 84800\n"
     ]
    }
   ],
   "source": [
    "account_book1.print_day_account(13)"
   ]
  },
  {
   "cell_type": "code",
   "execution_count": 16,
   "id": "44415a35-d6e6-4432-aa46-c07048d59c6e",
   "metadata": {},
   "outputs": [
    {
     "name": "stdout",
     "output_type": "stream",
     "text": [
      "699400\n"
     ]
    }
   ],
   "source": [
    "print(account_book1.get_account_total_price())"
   ]
  },
  {
   "cell_type": "code",
   "execution_count": null,
   "id": "a88e1e24-58c1-4021-8875-d6c58a099af3",
   "metadata": {},
   "outputs": [],
   "source": []
  }
 ],
 "metadata": {
  "kernelspec": {
   "display_name": "Python 3",
   "language": "python",
   "name": "python3"
  },
  "language_info": {
   "codemirror_mode": {
    "name": "ipython",
    "version": 3
   },
   "file_extension": ".py",
   "mimetype": "text/x-python",
   "name": "python",
   "nbconvert_exporter": "python",
   "pygments_lexer": "ipython3",
   "version": "3.8.10"
  }
 },
 "nbformat": 4,
 "nbformat_minor": 5
}
