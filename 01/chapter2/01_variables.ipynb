{
 "cells": [
  {
   "cell_type": "markdown",
   "id": "20950f25-8a57-4d69-9acf-721953e2fa60",
   "metadata": {},
   "source": [
    "## 1. 변수 선언하기"
   ]
  },
  {
   "cell_type": "markdown",
   "id": "84228c3a-0035-4a23-8faa-a2402887828b",
   "metadata": {},
   "source": [
    "### 1) 숫자형 변수"
   ]
  },
  {
   "cell_type": "code",
   "execution_count": 1,
   "id": "f99bae32-3014-4bda-a1ed-d272947f8a44",
   "metadata": {},
   "outputs": [],
   "source": [
    "a = 1992\n",
    "b = 613\n",
    "c = -825\n",
    "d = 0"
   ]
  },
  {
   "cell_type": "code",
   "execution_count": 2,
   "id": "4ac3236e-6694-434a-be39-825d02fa0034",
   "metadata": {},
   "outputs": [],
   "source": [
    "e = 8.11\n",
    "f = -19.94\n",
    "g = 9.18E10\n",
    "h = 9.18e-10"
   ]
  },
  {
   "cell_type": "markdown",
   "id": "7c80f7dc-f0cc-438d-8d8b-9ee4312d06b8",
   "metadata": {},
   "source": [
    "----\n",
    "### 2) 숫자형 변수를 활용한 계산 프로그래밍"
   ]
  },
  {
   "cell_type": "code",
   "execution_count": 3,
   "id": "fbf637f8-f608-41d0-a252-3a575e316021",
   "metadata": {},
   "outputs": [
    {
     "data": {
      "text/plain": [
       "2605"
      ]
     },
     "execution_count": 3,
     "metadata": {},
     "output_type": "execute_result"
    }
   ],
   "source": [
    "# 더하기\n",
    "a+b"
   ]
  },
  {
   "cell_type": "code",
   "execution_count": 4,
   "id": "f7f1f811-77be-4cf3-9e56-4dec167f2507",
   "metadata": {},
   "outputs": [
    {
     "data": {
      "text/plain": [
       "91799999175.0"
      ]
     },
     "execution_count": 4,
     "metadata": {},
     "output_type": "execute_result"
    }
   ],
   "source": [
    "# 더하기\n",
    "c+g"
   ]
  },
  {
   "cell_type": "code",
   "execution_count": 5,
   "id": "dd0aa152-833f-4800-affc-abeb1e4788d0",
   "metadata": {},
   "outputs": [
    {
     "data": {
      "text/plain": [
       "-19.940000000918"
      ]
     },
     "execution_count": 5,
     "metadata": {},
     "output_type": "execute_result"
    }
   ],
   "source": [
    "# 빼기\n",
    "f-h"
   ]
  },
  {
   "cell_type": "code",
   "execution_count": 6,
   "id": "dde6a425-9d31-4d76-9578-a865cc4212ba",
   "metadata": {},
   "outputs": [
    {
     "data": {
      "text/plain": [
       "-7.5735e-07"
      ]
     },
     "execution_count": 6,
     "metadata": {},
     "output_type": "execute_result"
    }
   ],
   "source": [
    "# 곱하기\n",
    "c*h"
   ]
  },
  {
   "cell_type": "code",
   "execution_count": 7,
   "id": "c8918461-bb1a-416e-a251-c39866fbcdac",
   "metadata": {},
   "outputs": [
    {
     "data": {
      "text/plain": [
       "2169934640522.8757"
      ]
     },
     "execution_count": 7,
     "metadata": {},
     "output_type": "execute_result"
    }
   ],
   "source": [
    "# 나누기\n",
    "a / h"
   ]
  },
  {
   "cell_type": "code",
   "execution_count": 8,
   "id": "51b220c8-c3f1-4a2f-8718-974923268918",
   "metadata": {},
   "outputs": [
    {
     "data": {
      "text/plain": [
       "230346397"
      ]
     },
     "execution_count": 8,
     "metadata": {},
     "output_type": "execute_result"
    }
   ],
   "source": [
    "# 제곱 연산자\n",
    "b ** 3"
   ]
  },
  {
   "cell_type": "code",
   "execution_count": 9,
   "id": "3383cf80-d904-408c-a468-43f2f4c2abdd",
   "metadata": {},
   "outputs": [
    {
     "data": {
      "text/plain": [
       "398"
      ]
     },
     "execution_count": 9,
     "metadata": {},
     "output_type": "execute_result"
    }
   ],
   "source": [
    "# 몫 반환 연산자\n",
    "a // 5"
   ]
  },
  {
   "cell_type": "code",
   "execution_count": 11,
   "id": "2c7e11bc-fa58-46f1-9945-283a9b6337e3",
   "metadata": {},
   "outputs": [
    {
     "data": {
      "text/plain": [
       "2"
      ]
     },
     "execution_count": 11,
     "metadata": {},
     "output_type": "execute_result"
    }
   ],
   "source": [
    "# 나머지 반환 연산자\n",
    "a % 5"
   ]
  },
  {
   "cell_type": "markdown",
   "id": "0bfe57ad-c9eb-4d71-9f4c-12b10cf8b203",
   "metadata": {},
   "source": [
    "-----\n",
    "### 3) 문자열 변수"
   ]
  },
  {
   "cell_type": "code",
   "execution_count": 12,
   "id": "2fe39e3e-965d-4a43-8204-9fcc4016fe49",
   "metadata": {},
   "outputs": [],
   "source": [
    "a = \"Hello World!\"\n",
    "b = '19920613'"
   ]
  },
  {
   "cell_type": "code",
   "execution_count": 13,
   "id": "fbc0a26a-da04-4616-aeb8-a1ec7fa49814",
   "metadata": {},
   "outputs": [],
   "source": [
    "c = \"Python's String\""
   ]
  },
  {
   "cell_type": "code",
   "execution_count": 14,
   "id": "ace7419a-3b9b-4242-8843-b00bf747baf9",
   "metadata": {},
   "outputs": [],
   "source": [
    "d = \"Python\\\"s String\""
   ]
  },
  {
   "cell_type": "code",
   "execution_count": 15,
   "id": "11aaf91a-cc60-427e-b815-e8f9245e5c64",
   "metadata": {},
   "outputs": [],
   "source": [
    "e = \"\"\"\n",
    "My Favorite \n",
    "is Python\n",
    "\"\"\""
   ]
  },
  {
   "cell_type": "markdown",
   "id": "a73477a1-64e2-4f15-b646-7181ec4898df",
   "metadata": {},
   "source": [
    "-----\n",
    "### 4) 문자열 변수를 활용한 프로그래밍"
   ]
  },
  {
   "cell_type": "code",
   "execution_count": 16,
   "id": "d705ec2d-3b5d-4590-8a31-18bd1dc0ae76",
   "metadata": {},
   "outputs": [
    {
     "data": {
      "text/plain": [
       "'Hello World!19920613'"
      ]
     },
     "execution_count": 16,
     "metadata": {},
     "output_type": "execute_result"
    }
   ],
   "source": [
    "a+b"
   ]
  },
  {
   "cell_type": "code",
   "execution_count": 22,
   "id": "e9f24193-594a-4b4a-a1a7-30fcd8d03b0a",
   "metadata": {},
   "outputs": [
    {
     "name": "stdout",
     "output_type": "stream",
     "text": [
      "Hello World! 19920613\n"
     ]
    }
   ],
   "source": [
    "print(a,b)"
   ]
  },
  {
   "cell_type": "code",
   "execution_count": 18,
   "id": "17a62721-708e-4a0e-b823-53c997305d49",
   "metadata": {},
   "outputs": [
    {
     "data": {
      "text/plain": [
       "'Hello World!19920613'"
      ]
     },
     "execution_count": 18,
     "metadata": {},
     "output_type": "execute_result"
    }
   ],
   "source": [
    "\"\".join([a,b])"
   ]
  },
  {
   "cell_type": "code",
   "execution_count": 23,
   "id": "26ef1855-367e-4831-ae01-d175c33713a4",
   "metadata": {},
   "outputs": [
    {
     "data": {
      "text/plain": [
       "'Hello World!Hello World!Hello World!Hello World!Hello World!'"
      ]
     },
     "execution_count": 23,
     "metadata": {},
     "output_type": "execute_result"
    }
   ],
   "source": [
    "a * 5"
   ]
  },
  {
   "cell_type": "code",
   "execution_count": 25,
   "id": "050bf0ae-7dc2-432c-8117-9d4f06a41924",
   "metadata": {},
   "outputs": [
    {
     "data": {
      "text/plain": [
       "15"
      ]
     },
     "execution_count": 25,
     "metadata": {},
     "output_type": "execute_result"
    }
   ],
   "source": [
    "len(d)"
   ]
  },
  {
   "cell_type": "code",
   "execution_count": 26,
   "id": "260bb7fe-d0ca-4842-adbf-3d7faf34cb84",
   "metadata": {},
   "outputs": [
    {
     "data": {
      "text/plain": [
       "'H'"
      ]
     },
     "execution_count": 26,
     "metadata": {},
     "output_type": "execute_result"
    }
   ],
   "source": [
    "a[0]"
   ]
  },
  {
   "cell_type": "code",
   "execution_count": 27,
   "id": "936e9c3c-0959-4527-916d-664d0ea04ba3",
   "metadata": {},
   "outputs": [
    {
     "data": {
      "text/plain": [
       "'lo'"
      ]
     },
     "execution_count": 27,
     "metadata": {},
     "output_type": "execute_result"
    }
   ],
   "source": [
    "a[3:5]"
   ]
  },
  {
   "cell_type": "code",
   "execution_count": 29,
   "id": "87d5ff43-2ba7-4543-ad41-181d2fb56ba8",
   "metadata": {},
   "outputs": [
    {
     "data": {
      "text/plain": [
       "'!'"
      ]
     },
     "execution_count": 29,
     "metadata": {},
     "output_type": "execute_result"
    }
   ],
   "source": [
    "a[-1]"
   ]
  },
  {
   "cell_type": "code",
   "execution_count": 30,
   "id": "3d8e53d1-c2a2-4e99-9aa5-75a1a796d6e8",
   "metadata": {},
   "outputs": [
    {
     "data": {
      "text/plain": [
       "'Hello Worl'"
      ]
     },
     "execution_count": 30,
     "metadata": {},
     "output_type": "execute_result"
    }
   ],
   "source": [
    "a[:-2]"
   ]
  },
  {
   "cell_type": "code",
   "execution_count": 31,
   "id": "b7f86d2a-9692-4211-b67a-af9e8842cd8a",
   "metadata": {},
   "outputs": [
    {
     "data": {
      "text/plain": [
       "'lo Wor'"
      ]
     },
     "execution_count": 31,
     "metadata": {},
     "output_type": "execute_result"
    }
   ],
   "source": [
    "a[3:-3]"
   ]
  },
  {
   "cell_type": "markdown",
   "id": "471a3bbd-9cab-475e-808f-227b73c2846d",
   "metadata": {},
   "source": [
    "-----\n",
    "### 5) 문자열 관련 응용 함수"
   ]
  },
  {
   "cell_type": "code",
   "execution_count": 32,
   "id": "386d6bb1-b123-4a8b-8e7b-e28d8b60ef41",
   "metadata": {},
   "outputs": [
    {
     "data": {
      "text/plain": [
       "['Hello', 'World!']"
      ]
     },
     "execution_count": 32,
     "metadata": {},
     "output_type": "execute_result"
    }
   ],
   "source": [
    "a.split(\" \")"
   ]
  },
  {
   "cell_type": "code",
   "execution_count": 33,
   "id": "5ad2579d-64d4-4249-bd64-4f0c8a0720b6",
   "metadata": {},
   "outputs": [
    {
     "data": {
      "text/plain": [
       "'Hello'"
      ]
     },
     "execution_count": 33,
     "metadata": {},
     "output_type": "execute_result"
    }
   ],
   "source": [
    "b = a.split(\" \")\n",
    "b[0]"
   ]
  },
  {
   "cell_type": "code",
   "execution_count": 34,
   "id": "a456c1c1-0139-4023-b530-7a577f2049ef",
   "metadata": {},
   "outputs": [
    {
     "data": {
      "text/plain": [
       "'Destroy World!'"
      ]
     },
     "execution_count": 34,
     "metadata": {},
     "output_type": "execute_result"
    }
   ],
   "source": [
    "a.replace(\"Hello\", \"Destroy\")"
   ]
  },
  {
   "cell_type": "code",
   "execution_count": 35,
   "id": "a225fa85-e712-4f18-be87-5bb6eeeea8de",
   "metadata": {},
   "outputs": [
    {
     "data": {
      "text/plain": [
       "3"
      ]
     },
     "execution_count": 35,
     "metadata": {},
     "output_type": "execute_result"
    }
   ],
   "source": [
    "a.count(\"l\")"
   ]
  }
 ],
 "metadata": {
  "kernelspec": {
   "display_name": "Python 3",
   "language": "python",
   "name": "python3"
  },
  "language_info": {
   "codemirror_mode": {
    "name": "ipython",
    "version": 3
   },
   "file_extension": ".py",
   "mimetype": "text/x-python",
   "name": "python",
   "nbconvert_exporter": "python",
   "pygments_lexer": "ipython3",
   "version": "3.8.10"
  }
 },
 "nbformat": 4,
 "nbformat_minor": 5
}
