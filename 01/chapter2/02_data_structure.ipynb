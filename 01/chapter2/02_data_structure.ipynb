{
 "cells": [
  {
   "cell_type": "markdown",
   "id": "e0c2bfaa-285f-4db2-9d41-7a1c7f9db680",
   "metadata": {},
   "source": [
    "## 2. 파이썬의 자료구조"
   ]
  },
  {
   "cell_type": "markdown",
   "id": "67b3cddc-c120-4d10-a401-b592f9e60792",
   "metadata": {},
   "source": [
    "![variable](../../img/datastructure.png)"
   ]
  },
  {
   "cell_type": "markdown",
   "id": "d441aebd-8733-4998-9130-347d2dd290fd",
   "metadata": {},
   "source": [
    "-----\n",
    "### 1) 리스트 자료구조"
   ]
  },
  {
   "cell_type": "code",
   "execution_count": 6,
   "id": "fbcb285a-329c-417c-8284-4ebda6ecea4a",
   "metadata": {},
   "outputs": [],
   "source": [
    "a = [1,2,3,4,5]"
   ]
  },
  {
   "cell_type": "code",
   "execution_count": 7,
   "id": "ed9d38e9-b818-423a-b93f-0c2a997993da",
   "metadata": {},
   "outputs": [],
   "source": [
    "b = [\"Python\", \"Hello\", \"World\", \"!\"]"
   ]
  },
  {
   "cell_type": "code",
   "execution_count": 8,
   "id": "c73c7cba-7ee4-410a-938f-02529f467c10",
   "metadata": {},
   "outputs": [],
   "source": [
    "c = [1,2,3, \"Pytohn\", \"Hello\"]"
   ]
  },
  {
   "cell_type": "code",
   "execution_count": 9,
   "id": "c8c70927-4985-4ab6-a318-53993862b2e1",
   "metadata": {},
   "outputs": [],
   "source": [
    "d = [1,2,3, \"Pytohn\", \"Hello\", [1,2,3]]"
   ]
  },
  {
   "cell_type": "code",
   "execution_count": 10,
   "id": "f77eaf9f-1121-4c83-9a86-19674afcb78e",
   "metadata": {},
   "outputs": [
    {
     "data": {
      "text/plain": [
       "5"
      ]
     },
     "execution_count": 10,
     "metadata": {},
     "output_type": "execute_result"
    }
   ],
   "source": [
    "a[0] + a[3]"
   ]
  },
  {
   "cell_type": "code",
   "execution_count": 11,
   "id": "52414f91-8203-4c81-a5d9-f037f2c13376",
   "metadata": {},
   "outputs": [
    {
     "data": {
      "text/plain": [
       "'Python!'"
      ]
     },
     "execution_count": 11,
     "metadata": {},
     "output_type": "execute_result"
    }
   ],
   "source": [
    "b[0] + b[-1]"
   ]
  },
  {
   "cell_type": "code",
   "execution_count": 12,
   "id": "1ac06df8-3849-400e-8cf7-9a2e0e01b9a8",
   "metadata": {},
   "outputs": [
    {
     "data": {
      "text/plain": [
       "[1, 2, 3, 'Pytohn']"
      ]
     },
     "execution_count": 12,
     "metadata": {},
     "output_type": "execute_result"
    }
   ],
   "source": [
    "d[:4]"
   ]
  },
  {
   "cell_type": "code",
   "execution_count": 13,
   "id": "1e18cf2c-9a76-4d52-983f-925f91dab941",
   "metadata": {},
   "outputs": [
    {
     "data": {
      "text/plain": [
       "3"
      ]
     },
     "execution_count": 13,
     "metadata": {},
     "output_type": "execute_result"
    }
   ],
   "source": [
    "d[-1][2]"
   ]
  },
  {
   "cell_type": "code",
   "execution_count": 14,
   "id": "99139202-d96d-4659-ae60-b1c4ef9330d3",
   "metadata": {},
   "outputs": [
    {
     "data": {
      "text/plain": [
       "[1, 2, 3, 4, 5, 1, 2, 3, 4, 5]"
      ]
     },
     "execution_count": 14,
     "metadata": {},
     "output_type": "execute_result"
    }
   ],
   "source": [
    "a+a"
   ]
  },
  {
   "cell_type": "code",
   "execution_count": 15,
   "id": "226bd4be-7871-4283-a4fb-3002a8408faf",
   "metadata": {},
   "outputs": [
    {
     "data": {
      "text/plain": [
       "[1, 2, 3, 4, 5, 'Python', 'Hello', 'World', '!']"
      ]
     },
     "execution_count": 15,
     "metadata": {},
     "output_type": "execute_result"
    }
   ],
   "source": [
    "a+b"
   ]
  },
  {
   "cell_type": "code",
   "execution_count": 16,
   "id": "915421db-0518-43fb-abf2-0c052bd7e36b",
   "metadata": {},
   "outputs": [
    {
     "ename": "TypeError",
     "evalue": "unsupported operand type(s) for +: 'int' and 'str'",
     "output_type": "error",
     "traceback": [
      "\u001b[0;31m---------------------------------------------------\u001b[0m",
      "\u001b[0;31mTypeError\u001b[0m         Traceback (most recent call last)",
      "\u001b[0;32m<ipython-input-16-37428d87d6a9>\u001b[0m in \u001b[0;36m<module>\u001b[0;34m\u001b[0m\n\u001b[0;32m----> 1\u001b[0;31m \u001b[0ma\u001b[0m\u001b[0;34m[\u001b[0m\u001b[0;36m0\u001b[0m\u001b[0;34m]\u001b[0m \u001b[0;34m+\u001b[0m \u001b[0mb\u001b[0m\u001b[0;34m[\u001b[0m\u001b[0;36m0\u001b[0m\u001b[0;34m]\u001b[0m\u001b[0;34m\u001b[0m\u001b[0;34m\u001b[0m\u001b[0m\n\u001b[0m",
      "\u001b[0;31mTypeError\u001b[0m: unsupported operand type(s) for +: 'int' and 'str'"
     ]
    }
   ],
   "source": [
    "a[0] + b[0]"
   ]
  },
  {
   "cell_type": "code",
   "execution_count": null,
   "id": "2a56fa81-814f-4cb5-ac7d-da7fb2a40572",
   "metadata": {},
   "outputs": [],
   "source": [
    "a.append(1)"
   ]
  },
  {
   "cell_type": "code",
   "execution_count": 17,
   "id": "5dc95d88-abf1-4496-aa8b-c05a089c747b",
   "metadata": {},
   "outputs": [
    {
     "data": {
      "text/plain": [
       "[1, 2, 3, 4, 5]"
      ]
     },
     "execution_count": 17,
     "metadata": {},
     "output_type": "execute_result"
    }
   ],
   "source": [
    "a"
   ]
  },
  {
   "cell_type": "code",
   "execution_count": 18,
   "id": "d0fb21f1-57fb-4273-a89d-cd35abf3a318",
   "metadata": {},
   "outputs": [],
   "source": [
    "a.sort()"
   ]
  },
  {
   "cell_type": "code",
   "execution_count": 19,
   "id": "08943048-b36e-43fe-8edb-839de72d4614",
   "metadata": {},
   "outputs": [
    {
     "data": {
      "text/plain": [
       "[1, 2, 3, 4, 5]"
      ]
     },
     "execution_count": 19,
     "metadata": {},
     "output_type": "execute_result"
    }
   ],
   "source": [
    "a"
   ]
  },
  {
   "cell_type": "code",
   "execution_count": 20,
   "id": "f2759bdd-05f0-41ad-ae98-316d70626cbf",
   "metadata": {},
   "outputs": [],
   "source": [
    "a.reverse()"
   ]
  },
  {
   "cell_type": "code",
   "execution_count": 21,
   "id": "70a44118-5f96-46b8-a701-9fcf1f9e9ab5",
   "metadata": {},
   "outputs": [
    {
     "data": {
      "text/plain": [
       "[5, 4, 3, 2, 1]"
      ]
     },
     "execution_count": 21,
     "metadata": {},
     "output_type": "execute_result"
    }
   ],
   "source": [
    "a"
   ]
  },
  {
   "cell_type": "markdown",
   "id": "faa4f188-5065-440c-bd25-4a1de7aba203",
   "metadata": {},
   "source": [
    "-----\n",
    "### 2) 튜플 자료구조"
   ]
  },
  {
   "cell_type": "code",
   "execution_count": 22,
   "id": "6dc4d58c-ccd7-436c-910d-f14752769f70",
   "metadata": {},
   "outputs": [],
   "source": [
    "a = (1,)"
   ]
  },
  {
   "cell_type": "code",
   "execution_count": 23,
   "id": "fce31c77-a8c2-4055-9cef-b00ba5f42a38",
   "metadata": {},
   "outputs": [],
   "source": [
    "b = (1,2,3,4,5)"
   ]
  },
  {
   "cell_type": "code",
   "execution_count": 24,
   "id": "ce7dbf0f-a62e-4d48-b8f1-138a6d414e4a",
   "metadata": {},
   "outputs": [],
   "source": [
    "c = (\"Hello\", \"Python\")"
   ]
  },
  {
   "cell_type": "code",
   "execution_count": 25,
   "id": "979f8150-8099-4053-b9c6-eb0f53e97607",
   "metadata": {},
   "outputs": [],
   "source": [
    "d = (1,2,3, (\"World\", \"!\"))"
   ]
  },
  {
   "cell_type": "code",
   "execution_count": 26,
   "id": "0c47b091-5941-4086-b1ec-acf78fda1b0c",
   "metadata": {},
   "outputs": [],
   "source": [
    "e = (1,2,3, [1,2,3])"
   ]
  },
  {
   "cell_type": "markdown",
   "id": "a6817ea8-f43b-4668-b417-2dcff1de171d",
   "metadata": {},
   "source": [
    "-----\n",
    "### 3) 집합 자료구조"
   ]
  },
  {
   "cell_type": "code",
   "execution_count": 27,
   "id": "6577b641-7bbe-4f29-8fe6-378b1546b4f4",
   "metadata": {},
   "outputs": [],
   "source": [
    "a = set([1,1,2,3])"
   ]
  },
  {
   "cell_type": "code",
   "execution_count": 28,
   "id": "73d6eba6-00eb-4095-bf62-1bcebef668f1",
   "metadata": {},
   "outputs": [
    {
     "data": {
      "text/plain": [
       "{1, 2, 3}"
      ]
     },
     "execution_count": 28,
     "metadata": {},
     "output_type": "execute_result"
    }
   ],
   "source": [
    "a"
   ]
  },
  {
   "cell_type": "code",
   "execution_count": 29,
   "id": "3b0d6e30-43c4-47ff-ab6d-809f0530777d",
   "metadata": {},
   "outputs": [],
   "source": [
    "b = set(\"Hello\")"
   ]
  },
  {
   "cell_type": "code",
   "execution_count": 30,
   "id": "fe61e229-5197-45fa-958c-119195b0e662",
   "metadata": {},
   "outputs": [
    {
     "data": {
      "text/plain": [
       "{'H', 'e', 'l', 'o'}"
      ]
     },
     "execution_count": 30,
     "metadata": {},
     "output_type": "execute_result"
    }
   ],
   "source": [
    "b"
   ]
  },
  {
   "cell_type": "code",
   "execution_count": 31,
   "id": "76198554-377d-4a69-ae62-3f3157271747",
   "metadata": {},
   "outputs": [
    {
     "data": {
      "text/plain": [
       "[1, 2, 3]"
      ]
     },
     "execution_count": 31,
     "metadata": {},
     "output_type": "execute_result"
    }
   ],
   "source": [
    "list(a)"
   ]
  },
  {
   "cell_type": "code",
   "execution_count": 32,
   "id": "b2d17aa7-f88f-4d00-8838-77fa9aa85739",
   "metadata": {},
   "outputs": [
    {
     "data": {
      "text/plain": [
       "('H', 'e', 'o', 'l')"
      ]
     },
     "execution_count": 32,
     "metadata": {},
     "output_type": "execute_result"
    }
   ],
   "source": [
    "tuple(b)"
   ]
  },
  {
   "cell_type": "code",
   "execution_count": 33,
   "id": "d38d99f7-97c2-46d6-a6d3-27636f24f223",
   "metadata": {},
   "outputs": [],
   "source": [
    "s1 = set([1,2,3,4,5])\n",
    "s2 = set([3,4,5,6,7])"
   ]
  },
  {
   "cell_type": "code",
   "execution_count": 34,
   "id": "50e69596-3628-448f-b93f-8be07f694197",
   "metadata": {},
   "outputs": [
    {
     "data": {
      "text/plain": [
       "{3, 4, 5}"
      ]
     },
     "execution_count": 34,
     "metadata": {},
     "output_type": "execute_result"
    }
   ],
   "source": [
    "s1.intersection(s2)"
   ]
  },
  {
   "cell_type": "code",
   "execution_count": 35,
   "id": "e0830deb-6be2-403a-8e22-0fb178ae841b",
   "metadata": {},
   "outputs": [
    {
     "data": {
      "text/plain": [
       "{1, 2, 3, 4, 5, 6, 7}"
      ]
     },
     "execution_count": 35,
     "metadata": {},
     "output_type": "execute_result"
    }
   ],
   "source": [
    "s1.union(s2)"
   ]
  },
  {
   "cell_type": "code",
   "execution_count": 36,
   "id": "cdb64316-05ab-49d5-834c-3d7c736910b7",
   "metadata": {},
   "outputs": [
    {
     "data": {
      "text/plain": [
       "{1, 2}"
      ]
     },
     "execution_count": 36,
     "metadata": {},
     "output_type": "execute_result"
    }
   ],
   "source": [
    "s1.difference(s2)"
   ]
  },
  {
   "cell_type": "code",
   "execution_count": 37,
   "id": "13cf8a0f-1cc1-403e-8937-2f6e1e8d3706",
   "metadata": {},
   "outputs": [],
   "source": [
    "s1.add(8)"
   ]
  },
  {
   "cell_type": "code",
   "execution_count": 38,
   "id": "b367b532-f723-4935-8f01-7db6375f4c8a",
   "metadata": {},
   "outputs": [],
   "source": [
    "s1.remove(1)"
   ]
  },
  {
   "cell_type": "code",
   "execution_count": 39,
   "id": "5969551a-8740-4a3d-95b3-395ba7dc6125",
   "metadata": {},
   "outputs": [
    {
     "data": {
      "text/plain": [
       "{2, 3, 4, 5, 8}"
      ]
     },
     "execution_count": 39,
     "metadata": {},
     "output_type": "execute_result"
    }
   ],
   "source": [
    "s1"
   ]
  },
  {
   "cell_type": "markdown",
   "id": "3c479bff-5c32-4f67-884c-6b23ad12b795",
   "metadata": {},
   "source": [
    "-----\n",
    "### 4) bool 자료구조"
   ]
  },
  {
   "cell_type": "code",
   "execution_count": 40,
   "id": "d8b4e0e3-d8e4-4a8d-a202-dc07d547139f",
   "metadata": {},
   "outputs": [],
   "source": [
    "bool1 = True"
   ]
  },
  {
   "cell_type": "code",
   "execution_count": 41,
   "id": "7e30002b-cf51-4fa3-b394-a3dadf1de2a3",
   "metadata": {},
   "outputs": [
    {
     "data": {
      "text/plain": [
       "True"
      ]
     },
     "execution_count": 41,
     "metadata": {},
     "output_type": "execute_result"
    }
   ],
   "source": [
    "bool1"
   ]
  },
  {
   "cell_type": "code",
   "execution_count": 42,
   "id": "f5972cb1-a82b-4f75-85a6-5a0b65c2aef6",
   "metadata": {},
   "outputs": [],
   "source": [
    "bool2 = False"
   ]
  },
  {
   "cell_type": "code",
   "execution_count": 43,
   "id": "7dc6803c-19b7-48ae-ab06-8a034580c897",
   "metadata": {},
   "outputs": [
    {
     "data": {
      "text/plain": [
       "False"
      ]
     },
     "execution_count": 43,
     "metadata": {},
     "output_type": "execute_result"
    }
   ],
   "source": [
    "bool2"
   ]
  },
  {
   "cell_type": "markdown",
   "id": "20fdb529-4085-4f8e-a106-9893c2ca31ba",
   "metadata": {},
   "source": [
    "-----\n",
    "### 5) 딕셔너리 자료구조"
   ]
  },
  {
   "cell_type": "code",
   "execution_count": 44,
   "id": "8551bcaa-10a4-4173-a471-30d8f3138dd2",
   "metadata": {},
   "outputs": [],
   "source": [
    "dic = {\"name\": \"Lee\", \"age\": 30, \"occupation\": \"Data Scientist\"}"
   ]
  },
  {
   "cell_type": "code",
   "execution_count": 45,
   "id": "2b40fcd3-1ad9-4d6c-96ab-aedefb2635a6",
   "metadata": {},
   "outputs": [
    {
     "data": {
      "text/plain": [
       "'Kim'"
      ]
     },
     "execution_count": 45,
     "metadata": {},
     "output_type": "execute_result"
    }
   ],
   "source": [
    "dic1 = {\"name_list\": [\"Lee\", \"Kim\", \"Shim\"]}\n",
    "dic1[\"name_list\"][1]"
   ]
  },
  {
   "cell_type": "code",
   "execution_count": 46,
   "id": "8a42d471-040e-46c2-87c5-9d27de5fd5df",
   "metadata": {},
   "outputs": [
    {
     "data": {
      "text/plain": [
       "'Lee'"
      ]
     },
     "execution_count": 46,
     "metadata": {},
     "output_type": "execute_result"
    }
   ],
   "source": [
    "dic2 = {\"people\": {\"name\": \"Lee\", \"age\": 30, \"occupation\": \"Data Scientist\"}}\n",
    "dic2[\"people\"][\"name\"]"
   ]
  },
  {
   "cell_type": "code",
   "execution_count": 47,
   "id": "7c43cc77-ea1a-4d21-9a73-da650747f401",
   "metadata": {},
   "outputs": [],
   "source": [
    "dic1[\"score_list\"] = [85, 90, 75]"
   ]
  },
  {
   "cell_type": "code",
   "execution_count": 48,
   "id": "b3ca0d51-bd9f-4c7c-8939-f384b96e7ca9",
   "metadata": {},
   "outputs": [
    {
     "data": {
      "text/plain": [
       "{'name_list': ['Lee', 'Kim', 'Shim'], 'score_list': [85, 90, 75]}"
      ]
     },
     "execution_count": 48,
     "metadata": {},
     "output_type": "execute_result"
    }
   ],
   "source": [
    "dic1"
   ]
  },
  {
   "cell_type": "code",
   "execution_count": 49,
   "id": "f4bf9054-6b5a-4d06-be22-44236e81d4b2",
   "metadata": {},
   "outputs": [],
   "source": [
    "del dic1[\"name_list\"]"
   ]
  },
  {
   "cell_type": "code",
   "execution_count": 50,
   "id": "7d0f50b6-58bb-455e-9f70-a724dcba1695",
   "metadata": {},
   "outputs": [
    {
     "data": {
      "text/plain": [
       "{'score_list': [85, 90, 75]}"
      ]
     },
     "execution_count": 50,
     "metadata": {},
     "output_type": "execute_result"
    }
   ],
   "source": [
    "dic1"
   ]
  },
  {
   "cell_type": "code",
   "execution_count": 51,
   "id": "a5dc8a1a-a5a7-4c12-9445-b50e67b58d1e",
   "metadata": {},
   "outputs": [
    {
     "data": {
      "text/plain": [
       "dict_keys(['people'])"
      ]
     },
     "execution_count": 51,
     "metadata": {},
     "output_type": "execute_result"
    }
   ],
   "source": [
    "dic2.keys()"
   ]
  },
  {
   "cell_type": "code",
   "execution_count": 52,
   "id": "0c4ff527-633b-4216-9282-7e758d463b29",
   "metadata": {},
   "outputs": [
    {
     "data": {
      "text/plain": [
       "dict_keys(['name', 'age', 'occupation'])"
      ]
     },
     "execution_count": 52,
     "metadata": {},
     "output_type": "execute_result"
    }
   ],
   "source": [
    "dic2[\"people\"].keys()"
   ]
  },
  {
   "cell_type": "code",
   "execution_count": 53,
   "id": "b64a7760-87c3-4ead-8f74-55ee7010be94",
   "metadata": {},
   "outputs": [
    {
     "data": {
      "text/plain": [
       "dict_values(['Lee', 30, 'Data Scientist'])"
      ]
     },
     "execution_count": 53,
     "metadata": {},
     "output_type": "execute_result"
    }
   ],
   "source": [
    "dic2[\"people\"].values()"
   ]
  }
 ],
 "metadata": {
  "kernelspec": {
   "display_name": "Python 3 (ipykernel)",
   "language": "python",
   "name": "python3"
  },
  "language_info": {
   "codemirror_mode": {
    "name": "ipython",
    "version": 3
   },
   "file_extension": ".py",
   "mimetype": "text/x-python",
   "name": "python",
   "nbconvert_exporter": "python",
   "pygments_lexer": "ipython3",
   "version": "3.7.10"
  }
 },
 "nbformat": 4,
 "nbformat_minor": 5
}
