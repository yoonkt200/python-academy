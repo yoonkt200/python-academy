{
 "cells": [
  {
   "cell_type": "markdown",
   "id": "148ee226-0435-4e6b-aea3-6e9c98fee653",
   "metadata": {},
   "source": [
    "## 3. 파이썬의 제어문"
   ]
  },
  {
   "cell_type": "markdown",
   "id": "be1ca010-f059-44a7-a9dc-284ed1c3ae04",
   "metadata": {},
   "source": [
    "![variable](../../img/control1.png)"
   ]
  },
  {
   "cell_type": "markdown",
   "id": "92a2c551-5f56-40bb-8370-f342201d560e",
   "metadata": {},
   "source": [
    "---"
   ]
  },
  {
   "cell_type": "markdown",
   "id": "e0a8e89f-c827-4932-b1f2-e0917511ab92",
   "metadata": {},
   "source": [
    "![variable](../../img/control2.png)"
   ]
  },
  {
   "cell_type": "markdown",
   "id": "53ce94a6-56e7-44a9-a58c-f3e5efd6dff6",
   "metadata": {},
   "source": [
    "### 1) 조건문"
   ]
  },
  {
   "cell_type": "code",
   "execution_count": 1,
   "id": "57d06609-a09a-4b86-b12b-ca02f594d0f6",
   "metadata": {},
   "outputs": [],
   "source": [
    "refrigerator = [\"meat\", \"drinks\", \"eggs\"]"
   ]
  },
  {
   "cell_type": "code",
   "execution_count": 2,
   "id": "b7048717-235d-400f-8c26-1e013df425ed",
   "metadata": {},
   "outputs": [
    {
     "name": "stdout",
     "output_type": "stream",
     "text": [
      "cook meat\n"
     ]
    }
   ],
   "source": [
    "if \"meat\" in refrigerator:\n",
    "    print(\"cook meat\")\n",
    "else:\n",
    "    print(\"doing nothing\")"
   ]
  },
  {
   "cell_type": "code",
   "execution_count": 3,
   "id": "0009e18c-fc09-444f-b4fe-cadc6597f76a",
   "metadata": {},
   "outputs": [
    {
     "name": "stdout",
     "output_type": "stream",
     "text": [
      "cook pork\n"
     ]
    }
   ],
   "source": [
    "meat = \"pork\"\n",
    "if meat == \"beef\":\n",
    "    print(\"cook beef\")\n",
    "elif meat == \"chicken\":\n",
    "    print(\"cook chicken\")\n",
    "elif meat == \"pork\":\n",
    "    print(\"cook pork\")\n",
    "else:\n",
    "    print(\"other meat in here!\")"
   ]
  },
  {
   "cell_type": "code",
   "execution_count": 4,
   "id": "15899a30-9d49-4bc5-bec9-a60f7b7a632c",
   "metadata": {},
   "outputs": [
    {
     "data": {
      "text/plain": [
       "False"
      ]
     },
     "execution_count": 4,
     "metadata": {},
     "output_type": "execute_result"
    }
   ],
   "source": [
    "meat == \"beef\""
   ]
  },
  {
   "cell_type": "code",
   "execution_count": 5,
   "id": "4f7dd542-da52-4b0e-83e4-203055118a51",
   "metadata": {},
   "outputs": [
    {
     "name": "stdout",
     "output_type": "stream",
     "text": [
      "cook here\n"
     ]
    }
   ],
   "source": [
    "if True:\n",
    "    print(\"cook here\")\n",
    "else:\n",
    "    print(\"doing nothing\")"
   ]
  },
  {
   "cell_type": "code",
   "execution_count": 6,
   "id": "67b2bb8d-3392-4084-85e0-598e88302d0e",
   "metadata": {},
   "outputs": [
    {
     "name": "stdout",
     "output_type": "stream",
     "text": [
      "beef price is lower than 5000\n",
      "beef price:4900\n",
      "pork price is lower than 1200\n",
      "pork price:1000\n"
     ]
    }
   ],
   "source": [
    "beef_price = 4900\n",
    "pork_price = 1000\n",
    "if beef_price < 5000:\n",
    "    print(\"beef price is lower than 5000\")\n",
    "    print(\"beef price:\" + str(beef_price))\n",
    "    if pork_price < 1200:\n",
    "        print(\"pork price is lower than 1200\")\n",
    "        print(\"pork price:\" + str(pork_price))\n",
    "    else:\n",
    "        print(\"pork price is higher than 1200\")\n",
    "        print(\"pork price:\" + str(pork_price))\n",
    "else:\n",
    "    print(\"beef price is higher than 5000\")\n",
    "    print(\"beef price:\" + str(beef_price))\n",
    "    if pork_price < 1200:\n",
    "        print(\"pork price is lower than 1200\")\n",
    "        print(\"pork price:\" + str(pork_price))\n",
    "    else:\n",
    "        print(\"pork price is higher than 1200\")\n",
    "        print(\"pork price:\" + str(pork_price))"
   ]
  },
  {
   "cell_type": "code",
   "execution_count": 7,
   "id": "2109ce41-c5a9-4536-81bc-2e6b28324ff9",
   "metadata": {},
   "outputs": [
    {
     "name": "stdout",
     "output_type": "stream",
     "text": [
      "a exist!\n"
     ]
    }
   ],
   "source": [
    "a = \"abc\"\n",
    "if a:\n",
    "    print(\"a exist!\")"
   ]
  },
  {
   "cell_type": "code",
   "execution_count": 8,
   "id": "79f75195-f787-4369-80d6-1079be06481e",
   "metadata": {},
   "outputs": [
    {
     "name": "stdout",
     "output_type": "stream",
     "text": [
      "list is exist!\n"
     ]
    }
   ],
   "source": [
    "b = [1,2,3]\n",
    "if b:\n",
    "    print(\"list is exist!\")"
   ]
  },
  {
   "cell_type": "code",
   "execution_count": 9,
   "id": "29330ea7-bcaf-46fb-8c77-0848d148d62e",
   "metadata": {},
   "outputs": [
    {
     "name": "stdout",
     "output_type": "stream",
     "text": [
      "list is empty\n"
     ]
    }
   ],
   "source": [
    "c = []\n",
    "if c:\n",
    "    print(\"list is exist!\")\n",
    "else:\n",
    "    print(\"list is empty\")"
   ]
  },
  {
   "cell_type": "code",
   "execution_count": 10,
   "id": "242062f1-f6e2-46a5-a7e2-7732f32f39ef",
   "metadata": {},
   "outputs": [
    {
     "name": "stdout",
     "output_type": "stream",
     "text": [
      "2 is exist!\n"
     ]
    }
   ],
   "source": [
    "b = [1,2,3]\n",
    "if 2 in b:\n",
    "    print(\"2 is exist!\")\n",
    "else:\n",
    "    print(\"2 is not exist!\")"
   ]
  },
  {
   "cell_type": "code",
   "execution_count": 11,
   "id": "0a287a6a-40d9-4e1f-a9b2-7777b95eb1d8",
   "metadata": {},
   "outputs": [
    {
     "name": "stdout",
     "output_type": "stream",
     "text": [
      "name key is exist!\n"
     ]
    }
   ],
   "source": [
    "c = {\"name\": \"Lee\", \"age\": 30, \"occupation\": \"Data Scientist\"}\n",
    "if \"name\" in c:\n",
    "    print(\"name key is exist!\")\n",
    "else:\n",
    "    print(\"name key is not exist!\")"
   ]
  },
  {
   "cell_type": "markdown",
   "id": "1e5eee53-01b4-4b60-926f-6754a56cf0d0",
   "metadata": {},
   "source": [
    "----\n",
    "### 2) 반복문"
   ]
  },
  {
   "cell_type": "code",
   "execution_count": 12,
   "id": "29037833-ab71-4382-bf0d-9e39de8276ba",
   "metadata": {},
   "outputs": [
    {
     "name": "stdout",
     "output_type": "stream",
     "text": [
      "1\n",
      "2\n",
      "3\n",
      "4\n",
      "5\n"
     ]
    }
   ],
   "source": [
    "a = [1, 2, 3, 4, 5]\n",
    "for number in a:\n",
    "    print(number)"
   ]
  },
  {
   "cell_type": "code",
   "execution_count": 13,
   "id": "c9711d1f-881e-4217-8727-813f911c483d",
   "metadata": {},
   "outputs": [
    {
     "name": "stdout",
     "output_type": "stream",
     "text": [
      "3\n",
      "7\n",
      "11\n"
     ]
    }
   ],
   "source": [
    "a = [(1,2), (3,4), (5,6)]\n",
    "for (first, last) in a:\n",
    "    print(first + last)"
   ]
  },
  {
   "cell_type": "code",
   "execution_count": 14,
   "id": "82eba3b9-a24f-4130-9c02-d6920acece79",
   "metadata": {},
   "outputs": [
    {
     "name": "stdout",
     "output_type": "stream",
     "text": [
      "3\n",
      "3\n",
      "6\n",
      "9\n",
      "6\n"
     ]
    }
   ],
   "source": [
    "b = [1,2,3,4,5]\n",
    "c = [2,1,3,5,1]\n",
    "for first, last in zip(b, c):\n",
    "    print(first + last)"
   ]
  },
  {
   "cell_type": "code",
   "execution_count": 15,
   "id": "e741fb03-b8f8-4a51-8ba2-3ddac0b79687",
   "metadata": {},
   "outputs": [
    {
     "name": "stdout",
     "output_type": "stream",
     "text": [
      "35\n",
      "12\n",
      "81\n"
     ]
    }
   ],
   "source": [
    "d = {\"lee\": 35, 'kim': 12, \"park\": 81}\n",
    "for name in d:\n",
    "    print(d[name])"
   ]
  },
  {
   "cell_type": "code",
   "execution_count": 16,
   "id": "49c70566-ca75-42cf-b1d6-1567e3055b13",
   "metadata": {},
   "outputs": [
    {
     "name": "stdout",
     "output_type": "stream",
     "text": [
      "lee 35\n",
      "lee 90\n",
      "lee 81\n",
      "kim 12\n",
      "kim 10\n",
      "kim 60\n",
      "park 81\n",
      "park 3\n",
      "park 19\n"
     ]
    }
   ],
   "source": [
    "d = {\"lee\": [35, 90, 81], 'kim': [12, 10, 60], \"park\": [81, 3, 19]}\n",
    "for name in d:\n",
    "    for score in d[name]:\n",
    "        print(name, str(score))"
   ]
  },
  {
   "cell_type": "code",
   "execution_count": 17,
   "id": "8a3f26f6-7f9c-4118-8eed-58c48c4ffc4a",
   "metadata": {},
   "outputs": [
    {
     "name": "stdout",
     "output_type": "stream",
     "text": [
      "0\n",
      "1\n",
      "2\n",
      "4\n"
     ]
    }
   ],
   "source": [
    "for i in range(10):\n",
    "    if i == 3:\n",
    "        continue\n",
    "    if i == 5:\n",
    "        break\n",
    "    print(i)"
   ]
  },
  {
   "cell_type": "code",
   "execution_count": 18,
   "id": "6d2f5aed-ab32-4971-b920-928a1b634390",
   "metadata": {},
   "outputs": [
    {
     "name": "stdout",
     "output_type": "stream",
     "text": [
      "0\n",
      "1\n",
      "2\n",
      "3\n",
      "4\n"
     ]
    }
   ],
   "source": [
    "count = 0\n",
    "while count < 5:\n",
    "    print(count)\n",
    "    count = count + 1"
   ]
  }
 ],
 "metadata": {
  "kernelspec": {
   "display_name": "Python 3 (ipykernel)",
   "language": "python",
   "name": "python3"
  },
  "language_info": {
   "codemirror_mode": {
    "name": "ipython",
    "version": 3
   },
   "file_extension": ".py",
   "mimetype": "text/x-python",
   "name": "python",
   "nbconvert_exporter": "python",
   "pygments_lexer": "ipython3",
   "version": "3.7.10"
  }
 },
 "nbformat": 4,
 "nbformat_minor": 5
}
