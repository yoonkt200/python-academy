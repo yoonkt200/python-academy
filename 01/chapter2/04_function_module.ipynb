{
 "cells": [
  {
   "cell_type": "markdown",
   "id": "01f2c7d1-2107-437d-88c4-a766731a9d97",
   "metadata": {},
   "source": [
    "----\n",
    "## 4. 함수와 모듈\n",
    "\n",
    "### 1) 함수"
   ]
  },
  {
   "cell_type": "code",
   "execution_count": 1,
   "id": "ccd3037d-1d6e-41e1-9480-c80ed9416fc6",
   "metadata": {},
   "outputs": [],
   "source": [
    "def plus(a, b):\n",
    "    return a+b"
   ]
  },
  {
   "cell_type": "code",
   "execution_count": 2,
   "id": "ef068fa0-47a9-46cc-84cf-921442a62d0f",
   "metadata": {},
   "outputs": [
    {
     "data": {
      "text/plain": [
       "8"
      ]
     },
     "execution_count": 2,
     "metadata": {},
     "output_type": "execute_result"
    }
   ],
   "source": [
    "plus(3,5)"
   ]
  },
  {
   "cell_type": "code",
   "execution_count": 3,
   "id": "846ff63f-2d0a-4917-9850-b8087da0a5ad",
   "metadata": {},
   "outputs": [],
   "source": [
    "def plus(a, b):\n",
    "    return a+b\n",
    "\n",
    "def just_print():\n",
    "    print(\"hello world!\")\n",
    "    print(\"this is function!\")\n",
    "    \n",
    "def default_return(a=1):\n",
    "    return a\n",
    "\n",
    "def two_return(a, b):\n",
    "    return a*b, a+b"
   ]
  },
  {
   "cell_type": "code",
   "execution_count": 4,
   "id": "d7f62086-b080-4497-b147-a377c868eec0",
   "metadata": {},
   "outputs": [
    {
     "name": "stdout",
     "output_type": "stream",
     "text": [
      "8\n"
     ]
    }
   ],
   "source": [
    "print(plus(3, 5))"
   ]
  },
  {
   "cell_type": "code",
   "execution_count": 5,
   "id": "d99cb14f-e6e3-4a7c-be1a-e43348e30a29",
   "metadata": {},
   "outputs": [
    {
     "name": "stdout",
     "output_type": "stream",
     "text": [
      "hello world!\n",
      "this is function!\n"
     ]
    }
   ],
   "source": [
    "just_print()"
   ]
  },
  {
   "cell_type": "code",
   "execution_count": 6,
   "id": "5cc64ab4-388b-411f-91e3-f77f80435f25",
   "metadata": {},
   "outputs": [
    {
     "name": "stdout",
     "output_type": "stream",
     "text": [
      "1\n"
     ]
    }
   ],
   "source": [
    "print(default_return())"
   ]
  },
  {
   "cell_type": "code",
   "execution_count": 7,
   "id": "a648bc6a-3c53-4501-a4b6-aad0020f6913",
   "metadata": {},
   "outputs": [
    {
     "name": "stdout",
     "output_type": "stream",
     "text": [
      "5\n"
     ]
    }
   ],
   "source": [
    "print(default_return(5))"
   ]
  },
  {
   "cell_type": "code",
   "execution_count": 8,
   "id": "7effcde9-e569-4489-b166-e73c26e0581d",
   "metadata": {},
   "outputs": [
    {
     "name": "stdout",
     "output_type": "stream",
     "text": [
      "(15, 8)\n"
     ]
    }
   ],
   "source": [
    "print(two_return(3, 5))"
   ]
  },
  {
   "cell_type": "code",
   "execution_count": 9,
   "id": "020e7ae8-aaea-4c2f-aea1-d94b5cfb447e",
   "metadata": {},
   "outputs": [],
   "source": [
    "plus = lambda a, b: a+b"
   ]
  },
  {
   "cell_type": "code",
   "execution_count": 10,
   "id": "76d2097a-e104-4381-8a2b-f4c886624cb8",
   "metadata": {},
   "outputs": [
    {
     "data": {
      "text/plain": [
       "8"
      ]
     },
     "execution_count": 10,
     "metadata": {},
     "output_type": "execute_result"
    }
   ],
   "source": [
    "plus(3,5)"
   ]
  },
  {
   "cell_type": "markdown",
   "id": "ab2386e1-2087-4947-ba22-7cbed5b3a009",
   "metadata": {},
   "source": [
    "----\n",
    "### 2) 모듈"
   ]
  },
  {
   "cell_type": "code",
   "execution_count": 11,
   "id": "b603026c-8897-4d1a-89fd-3a1245ad40b4",
   "metadata": {},
   "outputs": [
    {
     "data": {
      "text/plain": [
       "4.0"
      ]
     },
     "execution_count": 11,
     "metadata": {},
     "output_type": "execute_result"
    }
   ],
   "source": [
    "import math\n",
    "\n",
    "math.sqrt(16)"
   ]
  },
  {
   "cell_type": "code",
   "execution_count": 12,
   "id": "0dc6668e-d503-4606-8dfd-95e8c333b0d5",
   "metadata": {},
   "outputs": [],
   "source": [
    "import pandas as pd\n",
    "from pandas import DataFrame\n",
    "\n",
    "df1 = DataFrame()\n",
    "df2 = pd.DataFrame()"
   ]
  }
 ],
 "metadata": {
  "kernelspec": {
   "display_name": "Python 3",
   "language": "python",
   "name": "python3"
  },
  "language_info": {
   "codemirror_mode": {
    "name": "ipython",
    "version": 3
   },
   "file_extension": ".py",
   "mimetype": "text/x-python",
   "name": "python",
   "nbconvert_exporter": "python",
   "pygments_lexer": "ipython3",
   "version": "3.8.10"
  }
 },
 "nbformat": 4,
 "nbformat_minor": 5
}
