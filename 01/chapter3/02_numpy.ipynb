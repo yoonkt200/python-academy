{
 "cells": [
  {
   "cell_type": "markdown",
   "id": "58f7bff2-d24b-497c-92ab-8fe1430bc04d",
   "metadata": {},
   "source": [
    "## 2. 넘파이(Numpy) 라이브러리 사용하기"
   ]
  },
  {
   "cell_type": "markdown",
   "id": "9b957530-5336-45a0-ac8a-27d4f5057bf1",
   "metadata": {},
   "source": [
    "### 1) 넘파이의 생성 및 차원 알아보기"
   ]
  },
  {
   "cell_type": "code",
   "execution_count": 1,
   "id": "4e3da597-b79a-4472-a00e-0ae223124f63",
   "metadata": {},
   "outputs": [],
   "source": [
    "import numpy as np"
   ]
  },
  {
   "cell_type": "code",
   "execution_count": 2,
   "id": "f17962e7-8b53-476e-ab09-da54a0dfeb8e",
   "metadata": {},
   "outputs": [
    {
     "data": {
      "text/plain": [
       "array([[ 0,  1,  2,  3,  4],\n",
       "       [ 5,  6,  7,  8,  9],\n",
       "       [10, 11, 12, 13, 14]])"
      ]
     },
     "execution_count": 2,
     "metadata": {},
     "output_type": "execute_result"
    }
   ],
   "source": [
    "arr1 = np.arange(15).reshape(3, 5)\n",
    "arr1"
   ]
  },
  {
   "cell_type": "code",
   "execution_count": 6,
   "id": "5d6cf3ec-bb1e-41ca-8fbe-41955fa0a637",
   "metadata": {},
   "outputs": [
    {
     "data": {
      "text/plain": [
       "array(42)"
      ]
     },
     "execution_count": 6,
     "metadata": {},
     "output_type": "execute_result"
    }
   ],
   "source": [
    "arr2 = np.array(42)\n",
    "arr2"
   ]
  },
  {
   "cell_type": "code",
   "execution_count": 7,
   "id": "17dcdcae-686b-4b04-9dc8-454bf2618dde",
   "metadata": {},
   "outputs": [
    {
     "data": {
      "text/plain": [
       "array([1, 2, 3, 4, 5])"
      ]
     },
     "execution_count": 7,
     "metadata": {},
     "output_type": "execute_result"
    }
   ],
   "source": [
    "arr3 = np.array((1, 2, 3, 4, 5))\n",
    "arr3"
   ]
  },
  {
   "cell_type": "code",
   "execution_count": 8,
   "id": "cb550e43-a9f2-462b-84b1-b0e20df11936",
   "metadata": {},
   "outputs": [
    {
     "data": {
      "text/plain": [
       "array([[1, 2, 3],\n",
       "       [4, 5, 6]])"
      ]
     },
     "execution_count": 8,
     "metadata": {},
     "output_type": "execute_result"
    }
   ],
   "source": [
    "arr4 = np.array([[1, 2, 3], [4, 5, 6]])\n",
    "arr4"
   ]
  },
  {
   "cell_type": "code",
   "execution_count": 12,
   "id": "e62d9741-68f3-418a-8b59-6ad672a92c3d",
   "metadata": {},
   "outputs": [
    {
     "data": {
      "text/plain": [
       "array([[[1, 2, 3],\n",
       "        [4, 5, 6]],\n",
       "\n",
       "       [[1, 2, 3],\n",
       "        [4, 5, 6]]])"
      ]
     },
     "execution_count": 12,
     "metadata": {},
     "output_type": "execute_result"
    }
   ],
   "source": [
    "arr5 = np.array([[[1, 2, 3], [4, 5, 6]], [[1, 2, 3], [4, 5, 6]]])\n",
    "arr5"
   ]
  },
  {
   "cell_type": "code",
   "execution_count": 9,
   "id": "5ec013d9-f922-4cb7-9278-f54a958cd519",
   "metadata": {},
   "outputs": [
    {
     "data": {
      "text/plain": [
       "0"
      ]
     },
     "execution_count": 9,
     "metadata": {},
     "output_type": "execute_result"
    }
   ],
   "source": [
    "arr2.ndim"
   ]
  },
  {
   "cell_type": "code",
   "execution_count": 10,
   "id": "62d10002-e77a-46e2-885e-9656da7f7932",
   "metadata": {},
   "outputs": [
    {
     "data": {
      "text/plain": [
       "1"
      ]
     },
     "execution_count": 10,
     "metadata": {},
     "output_type": "execute_result"
    }
   ],
   "source": [
    "arr3.ndim"
   ]
  },
  {
   "cell_type": "code",
   "execution_count": 11,
   "id": "4da84189-34b9-4849-92ac-dbb9da904bd4",
   "metadata": {},
   "outputs": [
    {
     "data": {
      "text/plain": [
       "2"
      ]
     },
     "execution_count": 11,
     "metadata": {},
     "output_type": "execute_result"
    }
   ],
   "source": [
    "arr4.ndim"
   ]
  },
  {
   "cell_type": "code",
   "execution_count": 13,
   "id": "d98f5347-e9b8-4e07-9a62-5fbdd3199a6e",
   "metadata": {},
   "outputs": [
    {
     "data": {
      "text/plain": [
       "3"
      ]
     },
     "execution_count": 13,
     "metadata": {},
     "output_type": "execute_result"
    }
   ],
   "source": [
    "arr5.ndim"
   ]
  },
  {
   "cell_type": "code",
   "execution_count": 15,
   "id": "18305bf0-e8a6-4925-bdbf-541ca57fb17f",
   "metadata": {},
   "outputs": [
    {
     "data": {
      "text/plain": [
       "(3, 5)"
      ]
     },
     "execution_count": 15,
     "metadata": {},
     "output_type": "execute_result"
    }
   ],
   "source": [
    "arr1.shape"
   ]
  },
  {
   "cell_type": "code",
   "execution_count": 17,
   "id": "a045e352-3c50-4c59-ac7a-7403c3c28036",
   "metadata": {},
   "outputs": [
    {
     "data": {
      "text/plain": [
       "dtype('int64')"
      ]
     },
     "execution_count": 17,
     "metadata": {},
     "output_type": "execute_result"
    }
   ],
   "source": [
    "arr1.dtype"
   ]
  },
  {
   "cell_type": "code",
   "execution_count": 18,
   "id": "15fcd822-10fb-4f04-88cf-74811bde2b52",
   "metadata": {},
   "outputs": [],
   "source": [
    "zero_arr = np.zeros((3,4))"
   ]
  },
  {
   "cell_type": "code",
   "execution_count": 19,
   "id": "15168b28-93a3-4056-830f-a0323f8adb83",
   "metadata": {},
   "outputs": [
    {
     "data": {
      "text/plain": [
       "array([[0., 0., 0., 0.],\n",
       "       [0., 0., 0., 0.],\n",
       "       [0., 0., 0., 0.]])"
      ]
     },
     "execution_count": 19,
     "metadata": {},
     "output_type": "execute_result"
    }
   ],
   "source": [
    "zero_arr"
   ]
  },
  {
   "cell_type": "code",
   "execution_count": 20,
   "id": "a319b6dd-1864-4f84-8c29-def51ede81f7",
   "metadata": {},
   "outputs": [],
   "source": [
    "one_arr = np.ones((3,4))"
   ]
  },
  {
   "cell_type": "code",
   "execution_count": 21,
   "id": "f0705a3a-ef18-4dcd-9443-261be92f91e8",
   "metadata": {},
   "outputs": [
    {
     "data": {
      "text/plain": [
       "array([[1., 1., 1., 1.],\n",
       "       [1., 1., 1., 1.],\n",
       "       [1., 1., 1., 1.]])"
      ]
     },
     "execution_count": 21,
     "metadata": {},
     "output_type": "execute_result"
    }
   ],
   "source": [
    "one_arr"
   ]
  },
  {
   "cell_type": "markdown",
   "id": "4bf333c7-b4ac-4eea-b241-e5a387bf520d",
   "metadata": {},
   "source": [
    "----\n",
    "### 2) 넘파이의 기본 사용법과 함수들"
   ]
  },
  {
   "cell_type": "code",
   "execution_count": 22,
   "id": "740d3273-8bd5-446c-b3d4-9109a7f1fd7e",
   "metadata": {},
   "outputs": [
    {
     "data": {
      "text/plain": [
       "1"
      ]
     },
     "execution_count": 22,
     "metadata": {},
     "output_type": "execute_result"
    }
   ],
   "source": [
    "arr = np.array([1, 2, 3, 4])\n",
    "arr[0]"
   ]
  },
  {
   "cell_type": "code",
   "execution_count": 23,
   "id": "48c7315c-51df-4795-8f47-42c09335d90e",
   "metadata": {},
   "outputs": [
    {
     "data": {
      "text/plain": [
       "5"
      ]
     },
     "execution_count": 23,
     "metadata": {},
     "output_type": "execute_result"
    }
   ],
   "source": [
    "arr[0] + arr[-1]"
   ]
  },
  {
   "cell_type": "code",
   "execution_count": 24,
   "id": "84ceee3b-572f-4f23-a474-01d2682cd8fa",
   "metadata": {},
   "outputs": [
    {
     "data": {
      "text/plain": [
       "3"
      ]
     },
     "execution_count": 24,
     "metadata": {},
     "output_type": "execute_result"
    }
   ],
   "source": [
    "arr = np.array([[1,2,3,4,5], [6,7,8,9,10]])\n",
    "arr[0, 2]"
   ]
  },
  {
   "cell_type": "code",
   "execution_count": 25,
   "id": "25ebfb76-2069-40b1-b91e-4f94bff48ae4",
   "metadata": {},
   "outputs": [
    {
     "data": {
      "text/plain": [
       "3"
      ]
     },
     "execution_count": 25,
     "metadata": {},
     "output_type": "execute_result"
    }
   ],
   "source": [
    "arr[0][2]"
   ]
  },
  {
   "cell_type": "code",
   "execution_count": 26,
   "id": "82ddb57c-df6d-43e5-8afe-ac184f37a07c",
   "metadata": {},
   "outputs": [
    {
     "data": {
      "text/plain": [
       "6"
      ]
     },
     "execution_count": 26,
     "metadata": {},
     "output_type": "execute_result"
    }
   ],
   "source": [
    "arr = np.array([[[1, 2, 3], [4, 5, 6]], [[7, 8, 9], [10, 11, 12]]])\n",
    "arr[0, 1, 2]"
   ]
  },
  {
   "cell_type": "code",
   "execution_count": 27,
   "id": "5f4dda28-02c3-45b6-888c-9aee04946228",
   "metadata": {},
   "outputs": [
    {
     "data": {
      "text/plain": [
       "6"
      ]
     },
     "execution_count": 27,
     "metadata": {},
     "output_type": "execute_result"
    }
   ],
   "source": [
    "arr[0][1][2]"
   ]
  },
  {
   "cell_type": "code",
   "execution_count": 28,
   "id": "92b2a19e-d632-407f-ab5d-6de122bbc621",
   "metadata": {},
   "outputs": [
    {
     "data": {
      "text/plain": [
       "array([2, 3, 4, 5])"
      ]
     },
     "execution_count": 28,
     "metadata": {},
     "output_type": "execute_result"
    }
   ],
   "source": [
    "arr = np.array([1, 2, 3, 4, 5, 6, 7])\n",
    "arr[1:5]"
   ]
  },
  {
   "cell_type": "code",
   "execution_count": 29,
   "id": "e779df6e-e721-4cde-a9cc-9ff844511f7d",
   "metadata": {},
   "outputs": [
    {
     "data": {
      "text/plain": [
       "array([1, 2, 3, 4])"
      ]
     },
     "execution_count": 29,
     "metadata": {},
     "output_type": "execute_result"
    }
   ],
   "source": [
    "arr[:4]"
   ]
  },
  {
   "cell_type": "code",
   "execution_count": 31,
   "id": "8a9b0376-c3a9-46d5-886f-a888b8be5ec1",
   "metadata": {},
   "outputs": [
    {
     "data": {
      "text/plain": [
       "array([3, 4, 5, 6, 7])"
      ]
     },
     "execution_count": 31,
     "metadata": {},
     "output_type": "execute_result"
    }
   ],
   "source": [
    "arr[-5:]"
   ]
  },
  {
   "cell_type": "code",
   "execution_count": 32,
   "id": "2e398a0a-35ea-42f6-b9fe-0005ad2a7f21",
   "metadata": {},
   "outputs": [
    {
     "data": {
      "text/plain": [
       "array([5, 6])"
      ]
     },
     "execution_count": 32,
     "metadata": {},
     "output_type": "execute_result"
    }
   ],
   "source": [
    "arr[-3:-1]"
   ]
  },
  {
   "cell_type": "code",
   "execution_count": 36,
   "id": "5dfa4e7e-b0e4-407d-b4b6-6a187f5d3b60",
   "metadata": {},
   "outputs": [
    {
     "data": {
      "text/plain": [
       "array([1, 3, 5, 7])"
      ]
     },
     "execution_count": 36,
     "metadata": {},
     "output_type": "execute_result"
    }
   ],
   "source": [
    "arr[::2]"
   ]
  },
  {
   "cell_type": "code",
   "execution_count": 37,
   "id": "c05a147f-844a-4c01-b106-e7c7c1954a86",
   "metadata": {},
   "outputs": [
    {
     "data": {
      "text/plain": [
       "array([7, 8, 9])"
      ]
     },
     "execution_count": 37,
     "metadata": {},
     "output_type": "execute_result"
    }
   ],
   "source": [
    "arr = np.array([[1, 2, 3, 4, 5], [6, 7, 8, 9, 10]])\n",
    "arr[1, 1:4]"
   ]
  },
  {
   "cell_type": "code",
   "execution_count": 38,
   "id": "efaa4553-93c9-4d24-aef0-5a818a976336",
   "metadata": {},
   "outputs": [
    {
     "data": {
      "text/plain": [
       "array([7, 8, 9])"
      ]
     },
     "execution_count": 38,
     "metadata": {},
     "output_type": "execute_result"
    }
   ],
   "source": [
    "arr[1][1:4]"
   ]
  },
  {
   "cell_type": "code",
   "execution_count": 54,
   "id": "a22e0caf-9a4f-49be-8505-2b991d9bae5c",
   "metadata": {},
   "outputs": [],
   "source": [
    "arr = np.array([[[1, 2, 3], \n",
    "                 [4, 5, 6]], \n",
    "                [[7, 8, 9], \n",
    "                 [10, 11, 12]]])"
   ]
  },
  {
   "cell_type": "code",
   "execution_count": 55,
   "id": "061a8e91-e6b9-4e7a-a641-05332a034011",
   "metadata": {},
   "outputs": [
    {
     "data": {
      "text/plain": [
       "array([[[ 1,  2,  3],\n",
       "        [ 4,  5,  6]],\n",
       "\n",
       "       [[ 7,  8,  9],\n",
       "        [10, 11, 12]]])"
      ]
     },
     "execution_count": 55,
     "metadata": {},
     "output_type": "execute_result"
    }
   ],
   "source": [
    "arr[0:2]"
   ]
  },
  {
   "cell_type": "code",
   "execution_count": 56,
   "id": "f22d4ece-2afb-49ab-a404-bb6fea6a3749",
   "metadata": {},
   "outputs": [
    {
     "data": {
      "text/plain": [
       "array([[[ 4,  5,  6]],\n",
       "\n",
       "       [[10, 11, 12]]])"
      ]
     },
     "execution_count": 56,
     "metadata": {},
     "output_type": "execute_result"
    }
   ],
   "source": [
    "arr[0:2, 1:2]"
   ]
  },
  {
   "cell_type": "markdown",
   "id": "d3f12b61-d46d-4886-946a-95c02cfab4e9",
   "metadata": {},
   "source": [
    "----\n",
    "### 3) 넘파이의 응용 함수들"
   ]
  },
  {
   "cell_type": "code",
   "execution_count": 57,
   "id": "5bfd1758-8b38-497e-a913-a1ae6781dd80",
   "metadata": {},
   "outputs": [
    {
     "data": {
      "text/plain": [
       "array([[ 1,  2,  3],\n",
       "       [ 4,  5,  6],\n",
       "       [ 7,  8,  9],\n",
       "       [10, 11, 12]])"
      ]
     },
     "execution_count": 57,
     "metadata": {},
     "output_type": "execute_result"
    }
   ],
   "source": [
    "arr = np.array([1, 2, 3, 4, 5, 6, 7, 8, 9, 10, 11, 12])\n",
    "arr2 = arr.reshape(4, 3)\n",
    "arr2"
   ]
  },
  {
   "cell_type": "code",
   "execution_count": 58,
   "id": "bfef6cec-5806-4680-88a5-0a37866c3d98",
   "metadata": {},
   "outputs": [
    {
     "data": {
      "text/plain": [
       "array([[[ 1,  2],\n",
       "        [ 3,  4],\n",
       "        [ 5,  6]],\n",
       "\n",
       "       [[ 7,  8],\n",
       "        [ 9, 10],\n",
       "        [11, 12]]])"
      ]
     },
     "execution_count": 58,
     "metadata": {},
     "output_type": "execute_result"
    }
   ],
   "source": [
    "arr3 = arr.reshape(2, 3, 2)\n",
    "arr3"
   ]
  },
  {
   "cell_type": "code",
   "execution_count": 60,
   "id": "87ea4d8a-21f7-40cc-931f-fd9d09e81b4f",
   "metadata": {},
   "outputs": [
    {
     "data": {
      "text/plain": [
       "array([[[ 1,  2,  3],\n",
       "        [ 4,  5,  6]],\n",
       "\n",
       "       [[ 7,  8,  9],\n",
       "        [10, 11, 12]]])"
      ]
     },
     "execution_count": 60,
     "metadata": {},
     "output_type": "execute_result"
    }
   ],
   "source": [
    "arr4 = arr.reshape(2, 2, -1)\n",
    "arr4"
   ]
  },
  {
   "cell_type": "code",
   "execution_count": 61,
   "id": "156b3414-dc0c-4262-8edc-4f24e9f8f741",
   "metadata": {},
   "outputs": [
    {
     "data": {
      "text/plain": [
       "array([1, 2, 3, 4, 5, 6])"
      ]
     },
     "execution_count": 61,
     "metadata": {},
     "output_type": "execute_result"
    }
   ],
   "source": [
    "arr = np.array([[1, 2, 3], [4, 5, 6]])\n",
    "arr2 = arr.reshape(-1)\n",
    "arr2"
   ]
  },
  {
   "cell_type": "code",
   "execution_count": 63,
   "id": "09e44c12-3f79-4262-9407-2631fe6f82d2",
   "metadata": {},
   "outputs": [
    {
     "name": "stdout",
     "output_type": "stream",
     "text": [
      "1\n",
      "2\n",
      "3\n"
     ]
    }
   ],
   "source": [
    "arr = np.array([1, 2, 3])\n",
    "for x in arr:\n",
    "    print(x)"
   ]
  },
  {
   "cell_type": "code",
   "execution_count": 64,
   "id": "8a4904d9-ac09-4602-bfd5-b76c23af4579",
   "metadata": {},
   "outputs": [
    {
     "name": "stdout",
     "output_type": "stream",
     "text": [
      "[1 2 3]\n",
      "[4 5 6]\n"
     ]
    }
   ],
   "source": [
    "arr = np.array([[1, 2, 3], [4, 5, 6]])\n",
    "for x in arr:\n",
    "    print(x)"
   ]
  },
  {
   "cell_type": "code",
   "execution_count": null,
   "id": "f5cd7d29-e220-4d7b-aa05-761d4652efcb",
   "metadata": {},
   "outputs": [],
   "source": [
    "arr = np.array([[1, 2, 3], [4, 5, 6]])\n",
    "for x in arr:\n",
    "    for y in x:\n",
    "        print(y)"
   ]
  },
  {
   "cell_type": "code",
   "execution_count": 67,
   "id": "4f99f331-61fa-487e-8d99-197f35940773",
   "metadata": {},
   "outputs": [
    {
     "name": "stdout",
     "output_type": "stream",
     "text": [
      "1\n",
      "2\n",
      "3\n",
      "4\n",
      "5\n",
      "6\n",
      "7\n",
      "8\n",
      "9\n",
      "10\n",
      "11\n",
      "12\n"
     ]
    }
   ],
   "source": [
    "arr = np.array([[[1, 2, 3], [4, 5, 6]], [[7, 8, 9], [10, 11, 12]]])\n",
    "for x in arr:\n",
    "    for y in x:\n",
    "        for z in y:\n",
    "            print(z)"
   ]
  },
  {
   "cell_type": "code",
   "execution_count": 66,
   "id": "e7aaa452-42b5-44ba-bd36-8484d3fbe637",
   "metadata": {},
   "outputs": [
    {
     "name": "stdout",
     "output_type": "stream",
     "text": [
      "1\n",
      "2\n",
      "3\n",
      "4\n",
      "5\n",
      "6\n",
      "7\n",
      "8\n"
     ]
    }
   ],
   "source": [
    "arr = np.array([[[1, 2], [3, 4]], [[5, 6], [7, 8]]])\n",
    "for x in np.nditer(arr):\n",
    "    print(x)"
   ]
  },
  {
   "cell_type": "markdown",
   "id": "b2d49f23-1e35-4033-a0bb-e8dbbea79206",
   "metadata": {},
   "source": [
    "----\n",
    "### 4) 넘파이의 고급 함수들"
   ]
  },
  {
   "cell_type": "code",
   "execution_count": 68,
   "id": "9dd23750-7653-43cd-81fe-66611526bcb6",
   "metadata": {},
   "outputs": [
    {
     "data": {
      "text/plain": [
       "array([1, 2, 3, 4, 5, 6])"
      ]
     },
     "execution_count": 68,
     "metadata": {},
     "output_type": "execute_result"
    }
   ],
   "source": [
    "arr1 = np.array([1, 2, 3])\n",
    "arr2 = np.array([4, 5, 6])\n",
    "arr = np.concatenate((arr1, arr2))\n",
    "arr"
   ]
  },
  {
   "cell_type": "code",
   "execution_count": 69,
   "id": "0ec7c02a-aa09-4975-a25f-e89677eb923c",
   "metadata": {},
   "outputs": [
    {
     "data": {
      "text/plain": [
       "array([[1, 2, 5, 6],\n",
       "       [3, 4, 7, 8]])"
      ]
     },
     "execution_count": 69,
     "metadata": {},
     "output_type": "execute_result"
    }
   ],
   "source": [
    "arr1 = np.array([[1, 2], [3, 4]])\n",
    "arr2 = np.array([[5, 6], [7, 8]])\n",
    "arr = np.concatenate((arr1, arr2), axis=1)\n",
    "arr"
   ]
  },
  {
   "cell_type": "code",
   "execution_count": 70,
   "id": "554c1cc4-d48a-47a9-99f1-e590715e4eaf",
   "metadata": {},
   "outputs": [
    {
     "data": {
      "text/plain": [
       "array([[1, 2],\n",
       "       [3, 4],\n",
       "       [5, 6],\n",
       "       [7, 8]])"
      ]
     },
     "execution_count": 70,
     "metadata": {},
     "output_type": "execute_result"
    }
   ],
   "source": [
    "arr1 = np.array([[1, 2], [3, 4]])\n",
    "arr2 = np.array([[5, 6], [7, 8]])\n",
    "arr = np.concatenate((arr1, arr2), axis=0)\n",
    "arr"
   ]
  },
  {
   "cell_type": "code",
   "execution_count": 71,
   "id": "9d98803c-e654-4035-acbe-37eab1fd2e69",
   "metadata": {},
   "outputs": [
    {
     "data": {
      "text/plain": [
       "array([[1, 4],\n",
       "       [2, 5],\n",
       "       [3, 6]])"
      ]
     },
     "execution_count": 71,
     "metadata": {},
     "output_type": "execute_result"
    }
   ],
   "source": [
    "arr1 = np.array([1, 2, 3])\n",
    "arr2 = np.array([4, 5, 6])\n",
    "arr = np.stack((arr1, arr2), axis=1)\n",
    "arr"
   ]
  },
  {
   "cell_type": "code",
   "execution_count": 72,
   "id": "8f119a87-44dd-47d2-b588-a9bd9f542829",
   "metadata": {},
   "outputs": [
    {
     "data": {
      "text/plain": [
       "array([1, 2, 3, 4, 5, 6])"
      ]
     },
     "execution_count": 72,
     "metadata": {},
     "output_type": "execute_result"
    }
   ],
   "source": [
    "arr1 = np.array([1, 2, 3])\n",
    "arr2 = np.array([4, 5, 6])\n",
    "arr = np.hstack((arr1, arr2))\n",
    "arr"
   ]
  },
  {
   "cell_type": "code",
   "execution_count": 73,
   "id": "4fcda67a-51f4-4c8c-8612-44bbf7b9170f",
   "metadata": {},
   "outputs": [
    {
     "data": {
      "text/plain": [
       "array([[1, 2, 3],\n",
       "       [4, 5, 6]])"
      ]
     },
     "execution_count": 73,
     "metadata": {},
     "output_type": "execute_result"
    }
   ],
   "source": [
    "arr1 = np.array([1, 2, 3])\n",
    "arr2 = np.array([4, 5, 6])\n",
    "arr = np.vstack((arr1, arr2))\n",
    "arr"
   ]
  },
  {
   "cell_type": "code",
   "execution_count": 76,
   "id": "636c6ba6-d76a-4421-96c4-81bc4dabe2d3",
   "metadata": {},
   "outputs": [
    {
     "data": {
      "text/plain": [
       "[array([1, 2]), array([3, 4]), array([5, 6])]"
      ]
     },
     "execution_count": 76,
     "metadata": {},
     "output_type": "execute_result"
    }
   ],
   "source": [
    "arr = np.array([1, 2, 3, 4, 5, 6])\n",
    "arr2 = np.array_split(arr, 3)\n",
    "arr2"
   ]
  },
  {
   "cell_type": "code",
   "execution_count": 78,
   "id": "814082e6-95ad-47a0-879f-87039edaf9ed",
   "metadata": {},
   "outputs": [
    {
     "name": "stdout",
     "output_type": "stream",
     "text": [
      "[1 2]\n",
      "[3 4]\n",
      "[5 6]\n"
     ]
    }
   ],
   "source": [
    "print(arr2[0])\n",
    "print(arr2[1])\n",
    "print(arr2[2])"
   ]
  },
  {
   "cell_type": "code",
   "execution_count": 79,
   "id": "b79fbdea-a87b-4c9a-bc0f-d6adfd5e2874",
   "metadata": {},
   "outputs": [
    {
     "data": {
      "text/plain": [
       "[array([[1, 2],\n",
       "        [3, 4]]),\n",
       " array([[5, 6],\n",
       "        [7, 8]]),\n",
       " array([[ 9, 10],\n",
       "        [11, 12]])]"
      ]
     },
     "execution_count": 79,
     "metadata": {},
     "output_type": "execute_result"
    }
   ],
   "source": [
    "arr = np.array([[1, 2], [3, 4], [5, 6], [7, 8], [9, 10], [11, 12]])\n",
    "arr2 = np.array_split(arr, 3)\n",
    "arr2"
   ]
  },
  {
   "cell_type": "code",
   "execution_count": 80,
   "id": "a1e2d89c-0263-44de-ae09-97acf7e2a890",
   "metadata": {},
   "outputs": [
    {
     "data": {
      "text/plain": [
       "[array([[ 1],\n",
       "        [ 4],\n",
       "        [ 7],\n",
       "        [10],\n",
       "        [13],\n",
       "        [16]]),\n",
       " array([[ 2],\n",
       "        [ 5],\n",
       "        [ 8],\n",
       "        [11],\n",
       "        [14],\n",
       "        [17]]),\n",
       " array([[ 3],\n",
       "        [ 6],\n",
       "        [ 9],\n",
       "        [12],\n",
       "        [15],\n",
       "        [18]])]"
      ]
     },
     "execution_count": 80,
     "metadata": {},
     "output_type": "execute_result"
    }
   ],
   "source": [
    "arr = np.array([[1, 2, 3], [4, 5, 6], [7, 8, 9], [10, 11, 12], [13, 14, 15], [16, 17, 18]])\n",
    "arr2 = np.array_split(arr, 3, axis=1)\n",
    "arr2"
   ]
  },
  {
   "cell_type": "code",
   "execution_count": 84,
   "id": "cfbc540e-7f64-4bd1-9d8a-b74cea852c0a",
   "metadata": {},
   "outputs": [
    {
     "data": {
      "text/plain": [
       "array([[ 1],\n",
       "       [ 4],\n",
       "       [ 7],\n",
       "       [10],\n",
       "       [13],\n",
       "       [16]])"
      ]
     },
     "execution_count": 84,
     "metadata": {},
     "output_type": "execute_result"
    }
   ],
   "source": [
    "arr2[0]"
   ]
  },
  {
   "cell_type": "code",
   "execution_count": 85,
   "id": "48cf6918-012a-44a8-9247-580ae45c12bc",
   "metadata": {},
   "outputs": [
    {
     "data": {
      "text/plain": [
       "(array([3, 5, 6]),)"
      ]
     },
     "execution_count": 85,
     "metadata": {},
     "output_type": "execute_result"
    }
   ],
   "source": [
    "arr = np.array([1, 2, 3, 4, 5, 4, 4])\n",
    "x = np.where(arr == 4)\n",
    "x"
   ]
  },
  {
   "cell_type": "code",
   "execution_count": 86,
   "id": "f87fe499-485f-406f-bb27-a218ec79dedb",
   "metadata": {},
   "outputs": [
    {
     "data": {
      "text/plain": [
       "(array([1, 3, 5, 7]),)"
      ]
     },
     "execution_count": 86,
     "metadata": {},
     "output_type": "execute_result"
    }
   ],
   "source": [
    "arr = np.array([1, 2, 3, 4, 5, 6, 7, 8])\n",
    "x = np.where(arr%2 == 0)\n",
    "x"
   ]
  },
  {
   "cell_type": "code",
   "execution_count": 87,
   "id": "fe240e83-594c-4fba-9eec-f71b6413a6c7",
   "metadata": {},
   "outputs": [
    {
     "data": {
      "text/plain": [
       "array([41, 43])"
      ]
     },
     "execution_count": 87,
     "metadata": {},
     "output_type": "execute_result"
    }
   ],
   "source": [
    "arr = np.array([41, 42, 43, 44])\n",
    "x = [True, False, True, False]\n",
    "arr[x]"
   ]
  },
  {
   "cell_type": "code",
   "execution_count": 88,
   "id": "64347314-7f33-4b55-bdfb-1f9d61050791",
   "metadata": {},
   "outputs": [
    {
     "data": {
      "text/plain": [
       "array([43, 44])"
      ]
     },
     "execution_count": 88,
     "metadata": {},
     "output_type": "execute_result"
    }
   ],
   "source": [
    "arr = np.array([41, 42, 43, 44])\n",
    "filter_arr = arr > 42\n",
    "arr[filter_arr]"
   ]
  },
  {
   "cell_type": "code",
   "execution_count": 89,
   "id": "e6503f5f-7261-4d0e-a525-984e7df8401d",
   "metadata": {},
   "outputs": [
    {
     "data": {
      "text/plain": [
       "array([2, 4, 6])"
      ]
     },
     "execution_count": 89,
     "metadata": {},
     "output_type": "execute_result"
    }
   ],
   "source": [
    "arr = np.array([1, 2, 3, 4, 5, 6, 7])\n",
    "filter_arr = arr % 2 == 0\n",
    "arr[filter_arr]"
   ]
  },
  {
   "cell_type": "markdown",
   "id": "792ebe8b-a8cc-4d6c-b091-9c4aae2fd491",
   "metadata": {},
   "source": [
    "----\n",
    "### 5) 넘파이 데이터 연산 방법"
   ]
  },
  {
   "cell_type": "code",
   "execution_count": 90,
   "id": "19599377-7c91-4cda-95cd-3c35c96a70e4",
   "metadata": {},
   "outputs": [],
   "source": [
    "arr4 = np.array([[1,2,3],[4,5,6]])\n",
    "arr5 = np.array([[7,8,9],[10,11,12]])"
   ]
  },
  {
   "cell_type": "code",
   "execution_count": 91,
   "id": "f5b7749c-e964-47fd-ac10-076f0014aa53",
   "metadata": {},
   "outputs": [
    {
     "name": "stdout",
     "output_type": "stream",
     "text": [
      "arr4 + arr5 = \n",
      "[[ 8 10 12]\n",
      " [14 16 18]] \n",
      "\n",
      "arr4 - arr5 = \n",
      "[[-6 -6 -6]\n",
      " [-6 -6 -6]] \n",
      "\n",
      "arr4 * arr5 = \n",
      "[[ 7 16 27]\n",
      " [40 55 72]] \n",
      "\n",
      "arr4 / arr5 = \n",
      "[[0.14285714 0.25       0.33333333]\n",
      " [0.4        0.45454545 0.5       ]] \n",
      "\n"
     ]
    }
   ],
   "source": [
    "print(\"arr4 + arr5 = \") \n",
    "print(arr4 + arr5,\"\\n\") \n",
    "print(\"arr4 - arr5 = \") \n",
    "print(arr4 - arr5,\"\\n\") \n",
    "print(\"arr4 * arr5 = \") \n",
    "print(arr4 * arr5,\"\\n\") \n",
    "print(\"arr4 / arr5 = \") \n",
    "print(arr4 / arr5,\"\\n\")"
   ]
  },
  {
   "cell_type": "code",
   "execution_count": null,
   "id": "78a50e4c-d920-4e03-a43e-5e0239779443",
   "metadata": {},
   "outputs": [],
   "source": []
  }
 ],
 "metadata": {
  "kernelspec": {
   "display_name": "Python 3 (ipykernel)",
   "language": "python",
   "name": "python3"
  },
  "language_info": {
   "codemirror_mode": {
    "name": "ipython",
    "version": 3
   },
   "file_extension": ".py",
   "mimetype": "text/x-python",
   "name": "python",
   "nbconvert_exporter": "python",
   "pygments_lexer": "ipython3",
   "version": "3.7.10"
  }
 },
 "nbformat": 4,
 "nbformat_minor": 5
}
