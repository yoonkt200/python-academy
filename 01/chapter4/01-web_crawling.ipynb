{
 "cells": [
  {
   "cell_type": "markdown",
   "id": "4c6e2ae5-ad0f-475b-ac70-1ae8948a28ce",
   "metadata": {},
   "source": [
    "## 1. 웹 크롤링에 필요한 라이브러리"
   ]
  },
  {
   "cell_type": "markdown",
   "id": "5677d811-cc49-4ad8-bbd1-d3515aa6c764",
   "metadata": {},
   "source": [
    "[Windows 운영체제 기준]\n",
    "\n",
    "1. https://chromedriver.chromium.org/downloads 링크에서 현재 컴퓨터에 설치된 크롬 브라우저의 버전과 동일한 버전의 드라이버를 다운로드하기 위한 페이지로 이동한다. 이 책 에서는 91.0.4472.101 버전의 예시로 진행된다. \n",
    "2. https://chromedriver.storage.googleapis.com/index.html?path=91.0.4472.101/ 와 같은 형식의 페이지에 접속하여, chromedriver_win32.zip 파일을 다운로드하고 압축 해제한다. \n",
    "3. 현재 실행중인 노트북과 같은 경로로 chromedriver.exe 파일을 이동(혹은 복사)한다.\n",
    "\n",
    "[MacOS 운영체제 기준]\n",
    "\n",
    "1. 터미널 앱에서 homebrew를 이용하여 아래의 명령어로 chromedriver를 설치한다. (brew 설치 방법은 https://brew.sh/index_ko 참고)\n",
    "> brew install chromedriver\n",
    "\n",
    "2. 개발자 확인 오류가 뜬다면, 아래와 같이 명령어를 실행하여 폴더의 버전을 확인하고, 폴더 내로 이동한다. 그리고 xattr 명령어를 실행한다. \n",
    "> cd /usr/local/Caskroom/chromedriver/ ",
    "\n",
    "> ls ",
    "\n",
    "> cd 91.0.4472.19 ",
    "\n",
    "> xattr -d com.apple.quarantine chromedriver"
   ]
  },
  {
   "cell_type": "markdown",
   "id": "e4560384-bacc-4d72-aad1-4d478437a0a7",
   "metadata": {},
   "source": [
    "### 1) requests 라이브러리"
   ]
  },
  {
   "cell_type": "code",
   "execution_count": 1,
   "id": "e4e2324a-7440-47f3-9adf-ecb834b4fc66",
   "metadata": {},
   "outputs": [],
   "source": [
    "import requests\n",
    "\n",
    "# 크롤링할 주소 정의\n",
    "source_url = \"https://naver.com\"\n",
    "\n",
    "# 주소에 get 요청을 보내 응답 가져오기\n",
    "req = requests.get(source_url)\n",
    "\n",
    "# 가져온 응답에서 html 구조의 데이터 추출\n",
    "html = req.content\n",
    "print(html)"
   ]
  },
  {
   "cell_type": "markdown",
   "id": "5ae895e7-4514-4d3b-8917-94f69692cc5a",
   "metadata": {},
   "source": [
    "----\n",
    "### 2) BeautifulSoup 라이브러리"
   ]
  },
  {
   "cell_type": "code",
   "execution_count": 2,
   "id": "a04f4471-1451-4594-bbe1-bb936751c8c0",
   "metadata": {},
   "outputs": [],
   "source": [
    "from bs4 import BeautifulSoup\n",
    "\n",
    "# 크롤링할 주소 정의\n",
    "source_url = \"https://naver.com\"\n",
    "\n",
    "# 주소에 get 요청을 보내 응답 가져오기\n",
    "req = requests.get(source_url)\n",
    "\n",
    "# 가져온 응답에서 html 구조의 데이터 추출\n",
    "html = req.content\n",
    "\n",
    "# BeautifulSoup 라이브러리로 html 구조의 데이터를 파이썬 객체로 구조화\n",
    "soup = BeautifulSoup(html, 'lxml')\n",
    "\n",
    "# div라는 태그, title_view 클래스를 가지고 있는 데이터를 추출\n",
    "contents_table = soup.find(name=\"div\", attrs={\"class\":\"tile_view\"})\n",
    "\n",
    "# 위에서 추출한 데이터에서 img 태그를 모두 추출\n",
    "img_list = contents_table.find_all(name='img')"
   ]
  },
  {
   "cell_type": "code",
   "execution_count": 3,
   "id": "383e13ac-c586-4731-a91e-11b6d04800a4",
   "metadata": {},
   "outputs": [
    {
     "name": "stdout",
     "output_type": "stream",
     "text": [
      "https://s.pstatic.net/static/newsstand/up/2020/0610/nsd151458769.png\n",
      "https://s.pstatic.net/static/newsstand/2020/logo/light/0604/044.png\n",
      "https://s.pstatic.net/static/newsstand/2020/logo/light/0604/014.png\n",
      "https://s.pstatic.net/static/newsstand/2020/logo/light/0604/020.png\n",
      "https://s.pstatic.net/static/newsstand/2020/logo/light/0604/330.png\n",
      "https://s.pstatic.net/static/newsstand/2020/logo/light/0604/047.png\n",
      "https://s.pstatic.net/static/newsstand/2020/logo/light/0604/031.png\n",
      "https://s.pstatic.net/static/newsstand/2020/logo/light/0604/011.png\n",
      "https://s.pstatic.net/static/newsstand/2020/logo/light/0604/308.png\n",
      "https://s.pstatic.net/static/newsstand/2020/logo/light/0604/015.png\n",
      "https://s.pstatic.net/static/newsstand/2020/logo/light/0604/052.png\n",
      "https://s.pstatic.net/static/newsstand/2020/logo/light/0604/056.png\n",
      "https://s.pstatic.net/static/newsstand/up/2020/0903/nsd185255316.png\n",
      "https://s.pstatic.net/static/newsstand/2020/logo/light/0604/376.png\n",
      "https://s.pstatic.net/static/newsstand/2020/logo/light/0604/006.png\n",
      "https://s.pstatic.net/static/newsstand/up/2021/0420/nsd105139164.png\n",
      "https://s.pstatic.net/static/newsstand/2020/logo/light/0604/440.png\n",
      "https://s.pstatic.net/static/newsstand/2020/logo/light/0604/969.png\n",
      "https://s.pstatic.net/static/newsstand/2020/logo/light/0604/806.png\n",
      "https://s.pstatic.net/static/newsstand/up/2021/0907/nsd9423633.png\n",
      "https://s.pstatic.net/static/newsstand/2020/logo/light/0604/356.png\n",
      "https://s.pstatic.net/static/newsstand/2020/logo/light/0604/917.png\n",
      "https://s.pstatic.net/static/newsstand/2020/logo/light/0604/355.png\n",
      "https://s.pstatic.net/static/newsstand/2020/logo/light/0604/144.png\n"
     ]
    }
   ],
   "source": [
    "for img in img_list:\n",
    "    print(img.get('src'))"
   ]
  },
  {
   "cell_type": "markdown",
   "id": "5aba7ce0-92b7-4df3-b56f-50984046d7c4",
   "metadata": {},
   "source": [
    "----\n",
    "### 3) Selenium 라이브러리"
   ]
  },
  {
   "cell_type": "code",
   "execution_count": 8,
   "id": "917932f9-b291-435c-aee3-26f9cd91896a",
   "metadata": {},
   "outputs": [
    {
     "ename": "TypeError",
     "evalue": "object of type 'Response' has no len()",
     "output_type": "error",
     "traceback": [
      "\u001b[0;31m---------------------------------------------------------------------------\u001b[0m",
      "\u001b[0;31mTypeError\u001b[0m                                 Traceback (most recent call last)",
      "\u001b[0;32m<ipython-input-8-2df7dd6f6f8e>\u001b[0m in \u001b[0;36m<module>\u001b[0;34m\u001b[0m\n\u001b[1;32m      5\u001b[0m \u001b[0mreq\u001b[0m \u001b[0;34m=\u001b[0m \u001b[0mrequests\u001b[0m\u001b[0;34m.\u001b[0m\u001b[0mget\u001b[0m\u001b[0;34m(\u001b[0m\u001b[0msource_url\u001b[0m\u001b[0;34m)\u001b[0m\u001b[0;34m\u001b[0m\u001b[0;34m\u001b[0m\u001b[0m\n\u001b[1;32m      6\u001b[0m \u001b[0mhtml\u001b[0m \u001b[0;34m=\u001b[0m \u001b[0mreq\u001b[0m\u001b[0;34m.\u001b[0m\u001b[0mcontent\u001b[0m\u001b[0;34m\u001b[0m\u001b[0;34m\u001b[0m\u001b[0m\n\u001b[0;32m----> 7\u001b[0;31m \u001b[0msoup\u001b[0m\u001b[0;34m=\u001b[0m\u001b[0mBeautifulSoup\u001b[0m\u001b[0;34m(\u001b[0m\u001b[0mreq\u001b[0m\u001b[0;34m,\u001b[0m \u001b[0;34m\"html.parser\"\u001b[0m\u001b[0;34m)\u001b[0m\u001b[0;34m\u001b[0m\u001b[0;34m\u001b[0m\u001b[0m\n\u001b[0m\u001b[1;32m      8\u001b[0m \u001b[0mcontents_table\u001b[0m \u001b[0;34m=\u001b[0m \u001b[0msoup\u001b[0m\u001b[0;34m.\u001b[0m\u001b[0mfind\u001b[0m\u001b[0;34m(\u001b[0m\u001b[0mname\u001b[0m\u001b[0;34m=\u001b[0m\u001b[0;34m\"table\"\u001b[0m\u001b[0;34m)\u001b[0m\u001b[0;34m\u001b[0m\u001b[0;34m\u001b[0m\u001b[0m\n\u001b[1;32m      9\u001b[0m \u001b[0mtable_body\u001b[0m \u001b[0;34m=\u001b[0m \u001b[0mcontents_table\u001b[0m\u001b[0;34m.\u001b[0m\u001b[0mfind\u001b[0m\u001b[0;34m(\u001b[0m\u001b[0mname\u001b[0m\u001b[0;34m=\u001b[0m\u001b[0;34m\"tbody\"\u001b[0m\u001b[0;34m)\u001b[0m\u001b[0;34m\u001b[0m\u001b[0;34m\u001b[0m\u001b[0m\n",
      "\u001b[0;32m~/anaconda3/envs/gcn/lib/python3.8/site-packages/bs4/__init__.py\u001b[0m in \u001b[0;36m__init__\u001b[0;34m(self, markup, features, builder, parse_only, from_encoding, exclude_encodings, **kwargs)\u001b[0m\n\u001b[1;32m    190\u001b[0m         \u001b[0;32mif\u001b[0m \u001b[0mhasattr\u001b[0m\u001b[0;34m(\u001b[0m\u001b[0mmarkup\u001b[0m\u001b[0;34m,\u001b[0m \u001b[0;34m'read'\u001b[0m\u001b[0;34m)\u001b[0m\u001b[0;34m:\u001b[0m        \u001b[0;31m# It's a file-type object.\u001b[0m\u001b[0;34m\u001b[0m\u001b[0;34m\u001b[0m\u001b[0m\n\u001b[1;32m    191\u001b[0m             \u001b[0mmarkup\u001b[0m \u001b[0;34m=\u001b[0m \u001b[0mmarkup\u001b[0m\u001b[0;34m.\u001b[0m\u001b[0mread\u001b[0m\u001b[0;34m(\u001b[0m\u001b[0;34m)\u001b[0m\u001b[0;34m\u001b[0m\u001b[0;34m\u001b[0m\u001b[0m\n\u001b[0;32m--> 192\u001b[0;31m         elif len(markup) <= 256 and (\n\u001b[0m\u001b[1;32m    193\u001b[0m                 \u001b[0;34m(\u001b[0m\u001b[0misinstance\u001b[0m\u001b[0;34m(\u001b[0m\u001b[0mmarkup\u001b[0m\u001b[0;34m,\u001b[0m \u001b[0mbytes\u001b[0m\u001b[0;34m)\u001b[0m \u001b[0;32mand\u001b[0m \u001b[0;32mnot\u001b[0m \u001b[0;34mb'<'\u001b[0m \u001b[0;32min\u001b[0m \u001b[0mmarkup\u001b[0m\u001b[0;34m)\u001b[0m\u001b[0;34m\u001b[0m\u001b[0;34m\u001b[0m\u001b[0m\n\u001b[1;32m    194\u001b[0m                 \u001b[0;32mor\u001b[0m \u001b[0;34m(\u001b[0m\u001b[0misinstance\u001b[0m\u001b[0;34m(\u001b[0m\u001b[0mmarkup\u001b[0m\u001b[0;34m,\u001b[0m \u001b[0mstr\u001b[0m\u001b[0;34m)\u001b[0m \u001b[0;32mand\u001b[0m \u001b[0;32mnot\u001b[0m \u001b[0;34m'<'\u001b[0m \u001b[0;32min\u001b[0m \u001b[0mmarkup\u001b[0m\u001b[0;34m)\u001b[0m\u001b[0;34m\u001b[0m\u001b[0;34m\u001b[0m\u001b[0m\n",
      "\u001b[0;31mTypeError\u001b[0m: object of type 'Response' has no len()"
     ]
    }
   ],
   "source": [
    "import requests\n",
    "from bs4 import BeautifulSoup\n",
    "\n",
    "# 크롤링할 주소 정의\n",
    "source_url = \"https://namu.wiki/RecentChanges\"\n",
    "\n",
    "# 주소에 get 요청을 보내 응답 가져오기\n",
    "req = requests.get(source_url)\n",
    "\n",
    "# 가져온 응답에서 html 구조의 데이터 추출\n",
    "html = req.content\n",
    "\n",
    "# BeautifulSoup 라이브러리로 html 구조의 데이터를 파이썬 객체로 구조화\n",
    "soup=BeautifulSoup(req, \"html.parser\")\n",
    "\n",
    "# table라는 태그를 가지고 있는 데이터를 추출\n",
    "contents_table = soup.find(name=\"table\")\n",
    "\n",
    "# 위에서 추출한 데이터에서 tbody 태그를 추출\n",
    "table_body = contents_table.find(name=\"tbody\")\n",
    "\n",
    "# 위에서 추출한 데이터에서 tr 태그를 모두 추출\n",
    "table_rows = table_body.find_all(name=\"tr\")"
   ]
  },
  {
   "cell_type": "code",
   "execution_count": 9,
   "id": "41ddc71b-9fc3-4a3e-9330-1d48a997d7df",
   "metadata": {},
   "outputs": [
    {
     "name": "stdout",
     "output_type": "stream",
     "text": [
      "b'<!DOCTYPE html>\\n<!--[if lt IE 7]> <html class=\"no-js ie6 oldie\" lang=\"en-US\"> <![endif]-->\\n<!--[if IE 7]>    <html class=\"no-js ie7 oldie\" lang=\"en-US\"> <![endif]-->\\n<!--[if IE 8]>    <html class=\"no-js ie8 oldie\" lang=\"en-US\"> <![endif]-->\\n<!--[if gt IE 8]><!--> <html class=\"no-js\" lang=\"en-US\"> <!--<![endif]-->\\n<head>\\n\\n<title>Please Wait... | Cloudflare</title>\\n  \\n<meta name=\"captcha-bypass\" id=\"captcha-bypass\" />\\n<meta charset=\"UTF-8\" />\\n<meta http-equiv=\"Content-Type\" content=\"text/html; charset=UTF-8\" />\\n<meta http-equiv=\"X-UA-Compatible\" content=\"IE=Edge,chrome=1\" />\\n<meta name=\"robots\" content=\"noindex, nofollow\" />\\n<meta name=\"viewport\" content=\"width=device-width,initial-scale=1\" />\\n<link rel=\"stylesheet\" id=\"cf_styles-css\" href=\"/cdn-cgi/styles/cf.errors.css\" type=\"text/css\" media=\"screen,projection\" />\\n<!--[if lt IE 9]><link rel=\"stylesheet\" id=\\'cf_styles-ie-css\\' href=\"/cdn-cgi/styles/cf.errors.ie.css\" type=\"text/css\" media=\"screen,projection\" /><![endif]-->\\n<style type=\"text/css\">body{margin:0;padding:0}</style>\\n\\n\\n<!--[if gte IE 10]><!-->\\n<script>\\n  if (!navigator.cookieEnabled) {\\n    window.addEventListener(\\'DOMContentLoaded\\', function () {\\n      var cookieEl = document.getElementById(\\'cookie-alert\\');\\n      cookieEl.style.display = \\'block\\';\\n    })\\n  }\\n</script>\\n<!--<![endif]-->\\n\\n\\n  \\n    <script type=\"text/javascript\">\\n    //<![CDATA[\\n    (function(){\\n      window._cf_chl_opt={\\n        cvId: \"2\",\\n        cType: \"managed\",\\n        cNounce: \"50149\",\\n        cRay: \"696b16c29f4e61d1\",\\n        cHash: \"bcbabe38e8fd90c\",\\n        cFPWv: \"b\",\\n        cTTimeMs: \"1000\",\\n        cLt: \"n\",\\n        cRq: {\\n          ru: \"aHR0cHM6Ly9uYW11Lndpa2kvUmVjZW50Q2hhbmdlcw==\",\\n          ra: \"cHl0aG9uLXJlcXVlc3RzLzIuMjUuMQ==\",\\n          rm: \"R0VU\",\\n          d: \"upWO8GU5h7xpJtGgKO5IMAi4TGciWzjZEnziItW/bORnhIGAZ7OllMiizAGrONdC9aR0qV1RUY7aQhyAtHvv8TRPK9lezoSTbbkqQ1gheDUKosCdIGgj1v/SwovWzmDrF3KlhoVZirtSjZHxKsoSYo2dv0QNWZianwA8raxQQaL3YVwKopTlwfqPsA3lvBf+tWL1Gnm3uEHh4gsnsGjIhbzcJHxc8nPfc5K94vjejHvJgQWRGhcnt369VuIHg6S00Xg6/rPhckGcXRC2aOurXEHHNIIe1kX4Q7Zlg9HE+K9OgOs5ltzbMdCVnWNRsTJ/fcmoxU12wL7wZjY+0PH97Hoc6jE3uJ8fxUcGAbXMeFnCOzTJz45u7RsEaUkEFVBq5MG4Gl/eK4oukKHEIMOzcSCJleTz51luPt/cuabZgSVMsUo7MzcLH2kQ24cDK+TMDaDGM7PdRhdMVaAkz0oFj6huWBisgoYFFQSSnuqdiOh5c0Pun6ywC/3UymlFCVaXykK30Lcg8bPjznROPjyCDKRRKTU0ZomDwkB+Rx3Ok136RU/b3GfrYBy35bKZuU8sqV20C3m72oqU2ZUV7jpXCLZXboDWeK3K2sK+XyNgihm1x73kFMgCUDgRi6d0eOESbguZ8uIq8QDHb+BCw4BV5pGOxSznvgtuyPfVjqxHczuFqoqiG0R1AyOCdWTzhfeAO8MhiYgacT+hL7/w+OD84NBgyxACqpuICr/XQzmOGmVdD3/jxK2/OUdlAbjpUnzO\",\\n          t: \"MTYzMjk4MDEzNy4zNzQwMDA=\",\\n          m: \"LQvYc2TNdCBvHj49h8gCOo6tfwhPmO/IJNabfcmUIHI=\",\\n          i1: \"nixim5bn46lcBRg7loCQfQ==\",\\n          i2: \"pu8ImtZaRiaCyTHzjebd8g==\",\\n          zh: \"m8uLQymzcNrDBUWxIxJVRWWsai2gcUDknsM9ZyUGxkE=\",\\n          uh: \"5GU+jYv2xJ+bCaE/ARmi/DORbiS/v56CW7E0TH4XWQk=\",\\n          hh: \"jeNn0+60emESsWxgCwQYeRlqvrbki4H9y8kT5uzN11k=\",\\n        }\\n      };\\n    }());\\n    //]]>\\n    </script>\\n  \\n\\n<style type=\"text/css\">\\n  #cf-wrapper #spinner {width:69px; margin:  auto;}\\n  #cf-wrapper #cf-please-wait{text-align:center}\\n  .attribution {margin-top: 32px;}\\n  .bubbles { background-color: #f58220; width:20px; height: 20px; margin:2px; border-radius:100%; display:inline-block; }\\n  #cf-wrapper #challenge-form { padding-top:25px; padding-bottom:25px; }\\n  #cf-hcaptcha-container { text-align:center;}\\n  #cf-hcaptcha-container iframe { display: inline-block;}\\n  @keyframes fader     { 0% {opacity: 0.2;} 50% {opacity: 1.0;} 100% {opacity: 0.2;} }\\n  #cf-wrapper #cf-bubbles { width:69px; }\\n  @-webkit-keyframes fader { 0% {opacity: 0.2;} 50% {opacity: 1.0;} 100% {opacity: 0.2;} }\\n  #cf-bubbles > .bubbles { animation: fader 1.6s infinite;}\\n  #cf-bubbles > .bubbles:nth-child(2) { animation-delay: .2s;}\\n  #cf-bubbles > .bubbles:nth-child(3) { animation-delay: .4s;}\\n</style>\\n</head>\\n<body>\\n  <div id=\"cf-wrapper\">\\n    <div class=\"cf-alert cf-alert-error cf-cookie-error\" id=\"cookie-alert\" data-translate=\"enable_cookies\">Please enable cookies.</div>\\n    <div id=\"cf-error-details\" class=\"cf-error-details-wrapper\">\\n      <div class=\"cf-wrapper cf-header cf-error-overview\">\\n      \\n        <h1 data-translate=\"managed_challenge_headline\">Please wait...</h1>\\n        <h2 class=\"cf-subheadline\"><span data-translate=\"managed_checking_msg\">We are checking your browser...</span> namu.wiki</h2>\\n      \\n      </div>\\n      \\n      <div class=\"cf-section cf-highlight cf-captcha-container\">\\n        <div class=\"cf-wrapper\">\\n          <div class=\"cf-columns two\">\\n            <div class=\"cf-column\">\\n            \\n              <div class=\"cf-highlight-inverse cf-form-stacked\">\\n                <form class=\"challenge-form managed-form\" id=\"challenge-form\" action=\"/RecentChanges?__cf_chl_managed_tk__=pmd_MsgOCmfJKn4cqnXOgUDoz1DxRZAeJ0btS31bIEwZfac-1632980137-0-gqNtZGzNAvujcnBszQc9\" method=\"POST\" enctype=\"application/x-www-form-urlencoded\">\\n  \\n    <div id=\\'cf-please-wait\\'>\\n      <div id=\\'spinner\\'>\\n        <div id=\"cf-bubbles\">\\n            <div class=\"bubbles\"></div>\\n            <div class=\"bubbles\"></div>\\n            <div class=\"bubbles\"></div>\\n        </div>\\n      </div>\\n      <p data-translate=\"please_wait\" id=\"cf-spinner-please-wait\">Please stand by, while we are checking your browser...</p>\\n      <p data-translate=\"redirecting\" id=\"cf-spinner-redirecting\" style=\"display:none\">Redirecting...</p>\\n      </div>\\n  \\n  <input type=\"hidden\" name=\"md\" value=\"R.kC6rHDiUiFeFAuc0am2X8tiZQ2YrxA53hceA89W5k-1632980137-0-ARUaa6YHFL391Fq-WGxVipAY94Xmke9lX3vL20wBoFfLlbeS9TODUjxJLKl3mcOlSnfZLZWrRGk7ryYUMUu74sH4VkscbORZQ2eX7i2h5pP-3-sPXa9w3v5rxnEqhZiedpg5oYsOgBkwGjaEJ0ovabF7Ka8eARGeuFUb-omUuQ66sAA67kOSnHo_Dr22khpehKPYQqQAlpEEU5YDTJ6VCzN9_lrTXSVGuROjPT0o7M1uPUxeQry3T6IaHte8my2PvZPn5fVaKanYCfp-HPv71f_FgI8wwvlPiTluNDQ9l9OXtarH999jHp8Zst1dL-hQ1Q5RFpudPhoUyztJGInDzud4aizQZTSfzloj5HWYDtcateET8o8acmWXY5NzcT2KJ-cVXUtnqr0j4e2JROSzYf7OHDJolfOMIU6cTaxpxVv94MoCV4AeBpZCQsLUtYO-CRjWNDPpjoa6NQ5UDRZReagQvrJ5WX79NsWOfNhVhyE2sLhvAEx1iuIJB9ygylqDm3AC0hDsdHk98GFv6zEbcDx55yCI8e835NarOQkiSoZ6ZWdMmnr9hPaZqCaz_Aa7IFuJLguZM2wQHC7l9WHJUN15DYp1F9DNfXd4qR8r2I_qw3-zXwPR_Zda6sP5UsCxjAGQR4Z1YfrjQS0CFOnm7QIYgw4y6ydp-aOjWzKrZta6rgSRsIyhfmeYkKhHMIXWSA\" />\\n  <input type=\"hidden\" name=\"r\" value=\"D1Zy3kXDXR3azYtEaE8ZY_dssjUGuc8j_WXxMQat3GU-1632980137-0-AZSrKWYiChRia6fUT+G9E3F70AAGo8LGtVoUOGB497+UWaLyMUr24P07QCyGK90jf2SzDj22atpZv9Ry04VaFnmIpOJcKZ1ZQQo/u0sT5/60DT0SHbkgIdWBisD0TUqhFdzptUtDLNKqwqGQXfmSYrFEkpFEb/9VNTDSu2hYnbzrnsMtiiL1oG4A2Ejz7lgKkYev2m9I4EFUTh6v8mKRzeoc6zha3r8y4sb6Jz416pWUUACCghJqFZomlSNp+34Qxxbknu58w8zzCCwyYJXJVVakkoz8r+6xzk5z6KNyFE7+YWvxrEjdjYE4aGAvF0+8434mjLEuVgKPl/vNH6OQ8U9xHJ9GsuXfR3m8S4STE9g4w9Ry1NGc+jb5ps/KRSkXTGWbYOGTiypf2aIlDlixeWQ41hpTjGEmRdCugaD/Mhdvq0TQnxoY6VoizqJGH1wYOyOubLBJoc44nNjuXdWg/xjPLrLRRDnt7v8IJWLHPiJwuMbJiQUu+LKkukIx+0LckwLsQAsBi+x0SBtJxEfZCRfTnKbg5hPV1wl4/xqc5z3uKXW6R+RQmybH/jJSf+/L+cv7mY2TmBvDpY3tc2ZVNi4+MChX35mgDy35jL+bc3eSyNj0p9w4SYm8uMgi7Fl3kPFBkMYLqoQLNY3QNK97fXJbQ3+HkHtFJG26U9oajDACzBMx5YPn8nF0teUc95ZRH/1uaLdteBJdYkEMeSCLwiU75oGgs8f7o5jOBJyVZyMCdepdZFq5fSlNqPe97Qpc+IVllzODcv1c3vtrnohkisZIfeMuIbvj5C6HfvvbGXOd3ei9DsROWgXjmo8dFtVb7SAq0KtBQI0VzdIISvxggRvPBAX7/Kx5QdTKGzEWfSqjTfHjTjL3WrD3us5BhOgQvZioN60VZMU/wfWPUOAQATRqY+Gr2AkM87ivHkpk/fOufEPdimq7qQ2ldOXUM7wTYR9dbDLAkZJEHr2ItVKxn/VtpN8VfmOj4AujV3yVnlXa/xFXwaP8PtIP7QqVGh0Dp0AYodcKvYGKkyHoNf5dzm/cV7ZO/Lu//BUIP8dXLp46T4ar9te2OCuaVYj6xcGKrN5FUzFNgHaF1PnPFl6H9EeDolKngZzBmHqPaM9VPM8MClDzYVd/gJx4PLZUgXB+/jVqwogfnzr6kZmVJO3U+XRT1GaV7mtrVBXajFeHI8YfBqFZikZYc3D9nMTCNhJioH+R1SIjK5COu5cnQlQJk+apFFFEecXbxpEsJJISoIjpfXXhguKcrsBPSliQ82lRaVvPbYyWt7czH2sdFeAofc2WOiOjdl6HwVAXDliM/Fd2nH6aDA3/3zPrWUM8kuNsDMz9FylpoNNlYgApveehuR2+Vs0oVsHAI4GfKBpiaVan0P//MU4WVwLYChJtsVcIAeSfG0BNvkayMLM9OzDzbbmWR4OhG4zoHhcU7pHbnj2q+b0GPTztZjTKBX9YQkbR4U5YcpdCLzY7la8D/mWnDVOjLxS/hGwzPAvKlsM9+3yBLpSKy92s63tx4BFjV0Nmvtrgu4CcVB8gCVnfJ6Nk4tSRPwZKNenmfZ+/KL71Ag6SG3JHnJkTlcsH4JtMdbwYSbi/w7ct+Se1TqCXfgg8jQ7Bj/LTHccShBakEvyPRokx+VBXOo23Ga+3bTSqtB93ASuaBK+m4xXmnnio02e4R9niGXSiyjZAL/5RBWiiUw5yHuwEB10pcD8MFPUhGQMVe6RZRsAILAPeMUFNMZYGjCSX9EoP/tRlmmmYRul4xYKXPNYybo8LOFtVrxIcNEAu9A==\">\\n  <input type=\"hidden\" name=\"cf_captcha_kind\" value=\"h\">\\n  <input type=\"hidden\" name=\"vc\" value=\"c7d1ef3cc916a85031ac7af133fe33e9\">\\n  \\n  <noscript id=\"cf-captcha-bookmark\" class=\"cf-captcha-info\">\\n  <h1 data-translate=\"turn_on_js\" style=\"color:#bd2426;\">Please turn JavaScript on and reload the page.</h1>\\n  </noscript>\\n    <div id=\"no-cookie-warning\" class=\"cookie-warning\" data-translate=\"turn_on_cookies\" style=\"display:none\">\\n      <p data-translate=\"turn_on_cookies\" style=\"color:#bd2426;\">Please enable Cookies and reload the page.</p>\\n    </div>\\n  <script type=\"text/javascript\">\\n  //<![CDATA[\\n    var a = function() {try{return !!window.addEventListener} catch(e) {return !1} },\\n      b = function(b, c) {a() ? document.addEventListener(\"DOMContentLoaded\", b, c) : document.attachEvent(\"onreadystatechange\", b)};\\n      b(function(){\\n        var cookiesEnabled=(navigator.cookieEnabled)? true : false;\\n        if(!cookiesEnabled){\\n          var q = document.getElementById(\\'no-cookie-warning\\');q.style.display = \\'block\\';\\n        }\\n      });\\n  //]]>\\n  </script>\\n  <div id=\"trk_captcha_js\" style=\"background-image:url(\\'/cdn-cgi/images/trace/captcha/nojs/h/transparent.gif?ray=696b16c29f4e61d1\\')\"></div>\\n</form>\\n  \\n  <script type=\"text/javascript\">\\n    //<![CDATA[\\n    (function(){\\n        var isIE = /(MSIE|Trident\\\\/|Edge\\\\/)/i.test(window.navigator.userAgent);\\n        var trkjs = isIE ? new Image() : document.createElement(\\'img\\');\\n        trkjs.setAttribute(\"src\", \"/cdn-cgi/images/trace/managed/js/transparent.gif?ray=696b16c29f4e61d1\");\\n        trkjs.id = \"trk_managed_js\";\\n        trkjs.setAttribute(\"alt\", \"\");\\n        document.body.appendChild(trkjs);\\n        var cpo=document.createElement(\\'script\\');\\n        cpo.type=\\'text/javascript\\';\\n        cpo.src=\"/cdn-cgi/challenge-platform/h/b/orchestrate/managed/v1?ray=696b16c29f4e61d1\";\\n        document.getElementsByTagName(\\'head\\')[0].appendChild(cpo);\\n    }());\\n    //]]>\\n    </script>\\n  \\n\\n\\n              </div>\\n            </div>\\n\\n            <div class=\"cf-column\">\\n              <div class=\"cf-screenshot-container\">\\n              \\n                <span class=\"cf-no-screenshot\"></span>\\n              \\n              </div>\\n            </div>\\n          </div>\\n        </div>\\n      </div>\\n\\n      <div class=\"cf-section cf-wrapper\">\\n        <div class=\"cf-columns two\">\\n          <div class=\"cf-column\">\\n            <h2 data-translate=\"why_captcha_headline\">Why do I have to complete a CAPTCHA?</h2>\\n            \\n            <p data-translate=\"why_captcha_detail\">Completing the CAPTCHA proves you are a human and gives you temporary access to the web property.</p>\\n          </div>\\n\\n          <div class=\"cf-column\">\\n            <h2 data-translate=\"resolve_captcha_headline\">What can I do to prevent this in the future?</h2>\\n            \\n\\n            <p data-translate=\"resolve_captcha_antivirus\">If you are on a personal connection, like at home, you can run an anti-virus scan on your device to make sure it is not infected with malware.</p>\\n\\n            <p data-translate=\"resolve_captcha_network\">If you are at an office or shared network, you can ask the network administrator to run a scan across the network looking for misconfigured or infected devices.</p>\\n            \\n              \\n            \\n          </div>\\n        </div>\\n      </div>\\n      \\n\\n      <div class=\"cf-error-footer cf-wrapper w-240 lg:w-full py-10 sm:py-4 sm:px-8 mx-auto text-center sm:text-left border-solid border-0 border-t border-gray-300\">\\n  <p class=\"text-13\">\\n    <span class=\"cf-footer-item sm:block sm:mb-1\">Cloudflare Ray ID: <strong class=\"font-semibold\">696b16c29f4e61d1</strong></span>\\n    <span class=\"cf-footer-separator sm:hidden\">&bull;</span>\\n    <span class=\"cf-footer-item sm:block sm:mb-1\"><span>Your IP</span>: 61.37.136.81</span>\\n    <span class=\"cf-footer-separator sm:hidden\">&bull;</span>\\n    <span class=\"cf-footer-item sm:block sm:mb-1\"><span>Performance &amp; security by</span> <a rel=\"noopener noreferrer\" href=\"https://www.cloudflare.com/5xx-error-landing\" id=\"brand_link\" target=\"_blank\">Cloudflare</a></span>\\n    \\n  </p>\\n</div><!-- /.error-footer -->\\n\\n\\n    </div>\\n  </div>\\n\\n  <script type=\"text/javascript\">\\n  window._cf_translation = {};\\n  \\n  \\n</script>\\n\\n\\n</body>\\n</html>\\n'\n"
     ]
    }
   ],
   "source": [
    "import requests\n",
    "from bs4 import BeautifulSoup\n",
    "\n",
    "# 크롤링할 주소 정의\n",
    "source_url = \"https://namu.wiki/RecentChanges\"\n",
    "\n",
    "# 주소에 get 요청을 보내 응답 가져오기\n",
    "req = requests.get(source_url)\n",
    "\n",
    "# 가져온 응답에서 html 구조의 데이터 추출\n",
    "html = req.content\n",
    "print(html)"
   ]
  },
  {
   "cell_type": "code",
   "execution_count": 18,
   "id": "40259935-e80f-48cb-9c0f-c22c3a634b91",
   "metadata": {},
   "outputs": [
    {
     "name": "stdout",
     "output_type": "stream",
     "text": [
      "https://namu.wiki/w/%ED%82%B9%20%EC%BD%94%ED%8A%B8%EB%8B%88\n",
      "https://namu.wiki/w/%EC%A1%B0%EB%A7%A4%EB%A0%A5\n",
      "https://namu.wiki/w/%ED%8C%8C%EC%9D%BC:full_trap_errand.jpg\n",
      "https://namu.wiki/w/%EC%97%AC\n",
      "https://namu.wiki/w/%E3%85%8E%EB%A7%90%EC%9D%8C%20%EC%B2%B4%EC%96%B8\n",
      "https://namu.wiki/w/DJ%20Wegun\n",
      "https://namu.wiki/w/%EC%88%98%EC%9B%90%20KT%20%EC%86%8C%EB%8B%89%EB%B6%90%20%EC%95%84%EB%A0%88%EB%82%98\n",
      "https://namu.wiki/w/%ED%94%8C%EB%A1%9C%EC%96%B4%20%EB%A7%88%EC%8A%A4%ED%84%B0\n",
      "https://namu.wiki/w/%EC%86%90%EB%82%98%EC%9D%80\n",
      "https://namu.wiki/w/%EB%B0%A5%EC%83%81%20%EB%92%A4%EC%A7%91%EA%B8%B0\n"
     ]
    }
   ],
   "source": [
    "from selenium import webdriver\n",
    "from bs4 import BeautifulSoup\n",
    "import re\n",
    "\n",
    "# brew 로 설치된 chromedriver의 path (Mac)\n",
    "path = \"/usr/local/bin/chromedriver\"\n",
    "\n",
    "# 윈도우용 크롬 웹드라이버 실행 경로 (Windows)\n",
    "excutable_path = \"chromedriver.exe\"\n",
    "\n",
    "# 크롤링할 페이지 주소\n",
    "source_url = \"https://namu.wiki/RecentChanges\"\n",
    "\n",
    "# 크롬 드라이버를 사용 (맥은 첫 줄, 윈도우는 두번째 줄 실행)\n",
    "driver = webdriver.Chrome(path)\n",
    "# driver = webdriver.Chrome(executable_path=excutable_path)\n",
    "\n",
    "# 드라이버가 브라우징 할 페이지 소스를 입력\n",
    "driver.get(source_url)\n",
    "req = driver.page_source\n",
    "\n",
    "# 사이트의 html 구조에 기반하여 데이터를 파싱\n",
    "soup=BeautifulSoup(req, \"html.parser\")\n",
    "contents_table = soup.find(name=\"table\")\n",
    "table_body = contents_table.find(name=\"tbody\")\n",
    "table_rows = table_body.find_all(name=\"tr\")\n",
    "\n",
    "# a태그의 href 속성을 리스트로 추출하여, 크롤링 할 페이지 리스트를 생성\n",
    "page_url_base = \"https://namu.wiki\"\n",
    "page_urls = []\n",
    "for index in range(0, len(table_rows)):\n",
    "    first_td = table_rows[index].find_all(\"td\")[0]\n",
    "    td_url = first_td.find_all(\"a\")\n",
    "    if len(td_url) > 0:\n",
    "        page_url = page_url_base + td_url[0].get(\"href\")\n",
    "        if \"png\" not in page_url:\n",
    "            page_urls.append(page_url)\n",
    "\n",
    "# 중복 url을 제거\n",
    "page_urls = list(set(page_urls))\n",
    "for page in page_urls[:10]:\n",
    "    print(page)\n",
    "    \n",
    "# 크롤링에 사용한 브라우저를 종료\n",
    "driver.close()"
   ]
  },
  {
   "cell_type": "code",
   "execution_count": 19,
   "id": "d70b5f71-9f00-451e-9f28-8c655487e6ee",
   "metadata": {},
   "outputs": [
    {
     "name": "stdout",
     "output_type": "stream",
     "text": [
      "ㅎ말음 체언 \n",
      "\n",
      "\n",
      "한국어\n",
      "\n",
      "\n",
      "한국민족문화대백과사전: ㅎ말음 체언1. 소개2. 역사3. ㅎ말음 체언/ㅎ종성 체언4. 출현 양상과 표기4.1. 15세기 공시태4.2. 통시적 관점5. 흔적6. 비교: ㅎ말음 용언7. 단어 목록7.1. ㄱ7.2. ㄴ7.3. ㄷ7.4. ㅁ7.5. ㅂ7.5.1. ㅂ계 합용병서7.6. ㅅ7.6.1. ㅅ계 합용병서7.7. ㅇ7.8. ㅈ7.9. ㅊ7.10. ㅋ7.11. ㅌ7.12. ㅍ7.13. ㅎ7.14. 수사7.15. 한자음8. 관련 문서중세 한국어에서 말음(末音)으로 /ㅎ/을 가지고 있는 것처럼 나타나는 체언. 'ㅎ 곡용어'라고도 한다.중세 한국어에서 ㅎ말음 체언은 약 80개가량이 발견된다고 한다.온라인 가나다주의할 것으로 현대 이전까지의 8종성 표기로 인하여 후행 음절에 ㅎ이 드러나는 것은 ㅎ말음 체언으로 보지 않는다. 예를 들어 '바깥'은 과거에 '밧갓헤셔'와 같이 ㅅ종성으로 적고 뒤에 ㅎ을 적었으나, 오늘날에는 ㅌ말음을 형태소 표기로서 적는 것을 인정하여 ㅅ(ㄷ)과 ㅎ으로 나눠적지 않으므로 이는 ㅎ말음 체언에 들어가지 않는다. 역사적으로는 ㄱ말음이 약화되어 ㅎ으로 되었다고 본다. 이를 잘 알 수 있는 것이 'ᅀᅭᇂ~ᅀᅭㅎ→요'로, 유래가 된 한자 '褥'의 경우 한자음으로는 '욕'으로 ㄱ말음이 남아 있는 반면 고유어화된 '요'는 ㄱ이 약화되어 ㅎ말음을 거쳐 '요'가 되었다. /ㄱ/과 /ㅎ/의 이러한 이동은 다른 언어에서도 자주 나타나는데 '카자크'가 '카자흐'가 된다거나, 크로아티아의 현지 발음이 '흐르바츠카'인 등의 사례가 있다. 러시아어에서는 어두의 [h]을 [k]로 발음하기도 한다. 근대기로 넘어오면서 ㅎ말음 체언은 모두 사라졌다.'ㅎ종성(받침) 체언'이라고도 한다. 그러나 '종성'의 정의를 '한글 표기상으로 중성 아래에 적는 말음'이라는 식으로 표기를 지칭하는 용어로 본다면 'ㅎ종성 체언'이라는 말은 (자주 쓰이기는 해도) 어폐가 있다. ㅎ말음 체언 가운데 표기상으로 ㅎ을 종성으로 표기한 사례는 나타나지 않기 때문이다.[1] 모음으로 시작하는 조사 앞에서는 ㅎ이 그대로 유지되고 ㄱ·ㄷ·ㅂ 앞에서는 그것과 결합하여 ㅋ·ㅌ·ㅍ이 되며 휴지나 관형격 표지인 ㅅ·ㆆ 앞에서는 ㅎ이 탈락하는 양상이 오늘날의 ㅎ말음 용언과 양상이 비슷하다(예: '좋다' - 좋아/조ː-/, 좋다/조ː타/, 좋소[조ː쏘])이러한 표기를 ㅎ말음 체언 중 하나인 '곻'을 통해 적으면 다음과 같다.[고 ~ 고ㅎ ~ 고A(격음자음)]휴지 앞·단독형: '고' ('고')속격 ㅅ 앞: '고' ('곳') 모음 앞: '고ㅎ' ('고해')파열음(ㄱ·ㄷ·ㅂ) 앞: '고ㅋ·ㅌ·ㅍ' ('고콰')~는 교체형의 표시로, 'A~B'란 A와 B가 상보적 분포(complementary distribution)를 가진 조건에서 나타나는 두 형태임을 의미한다. 중세 한국어에서도 ㅎ에 후행하는 파열음이 격음화되는 현상이 일어났으므로, '고ㅎ'과 '고ㅋ·ㅌ·ㅍ'는 '고ㅎ'으로만 표시하여도 무방하다. 그러나 한글이 사용되기 시작한 15세기에 단독형 '고'에는 종성이 존재하지 않으므로, 15세기 공시태로서는 '곻'을 상정할 수 없고 [고~고ㅎ]의 교체형을 상정할 수밖에 없다. 그럼에도 불구하고 '곻'이라는 것을 상정할 수 있는 것은 15세기 이전의 통시적 변화까지 염두에 둔 것이다. 이에 대하여서는 다음 문단에서 기술한다.과거의 ㅎ말음 체언이었던 단어들의 어형에 대하여 국어학에서 논할 때, '곻'과 같이 ㅎ종성으로 적는 것은 한 번쯤 생각해볼 문제이다. 현대 한국어에 '먹'에서 등장하는 것과 같은 자음 ㄱ은 휴지 앞·단독형에서 미파음 /먹/+후행음절 경음화[2]로, 모음이 이어질 때 /머ㄱ-/으로 발음되는 것은 자연스러운 자동적 교체이므로 /먹~머ㄱ/ 교체형의 경우 굳이 나눠서 적을 것 없이 '먹-'이라고 적을 수 있다. 그러나 ㅎ의 경우 현대 한국어에서는 초성으로 연음시키지 않고서 ㅎ을 발음할 수 있는 방법이 없기 때문에 문제가 된다. 즉 현대어에서는 /곻/이라는 음소는 존재하지 않는 것이다. 그렇다면 현대 한국어의 음절 체계에서는 /곻~고ㅎ/이 아닌, /고~고ㅎ/의 교체형을 상정할 수밖에 없다. 그러나 연구를 통해서 과거에는 현대 한국어와는 달리 /곻/이 존재했다고 상정하기 때문에 /곻~고ㅎ/의 교체형을 인정하고 '곻'이라고 적는 것이다. 이 때 15세기 한글 창제기에 나타나는 단독형 표기에서 /곻/이 그 어떠한 종성 표기도 수반하지 않고 '고'로 나타난다는 것은 '곻'이라는 표기에 있어 부정적인 증거가 된다. /곻/이라는 게 애초에 존재했던 게 아니라, 단지 후행음절이 이어졌을 때 'ㅎ'이 생겨나는 것일 수도 있기 때문이다. 국어학에서는 15세기의 단독형 표기에서 나타나는 것과 같은 '고'라는 표기에서의 ㅎ이 '원래 없었던 것'이 아니라 '과거에는 있었는데 사라진 것'이라는 것을 보이기 위해 다음과 같은 증거를 든다. 역사적으로 ㄱ말음으로부터 약화되어 ㅎ말음이 형성되었다. ㄱ말음은 /딱/과 같이 한국어 음절 체계상으로 한 음절을 구성하므로 이것이 약화된 ㅎ말음 역시 한 음절을 구성하는 것이 가능했을 것이다.'-과', '-으로', '-을'과 같이 휴지 앞·단독형에서 말음을 가지는 체언에만 결합하는 조사와 결합한다. /ᄯᅡᇂ/에서 모음이 이어지지 않은 상태에서도 말음 ㅎ이 언중들의 인식 속에서 사라졌다면 'ᄯᅡ와, ᄯᅡ로, ᄯᅡ를'과 같이 나타났겠지만 그렇지 않고 'ᄯᅡ화, ᄯᅡ흐로, ᄯᅡ흘'과 같이 나타난다. 'ᄯᅡᇂ>땅'과 같이 초성으로 연음되지 않는 자음 ㅇ으로의 변화한 일부 형태들이 있다. 한국어 음절 체계에서 'ᄯᅡᇂ'이 한 음절로 나타나는 것이 불가능했다고 한다면, 한국어 음절상 가능한 음절인 '땅'으로 변하는 것은 어색하다. 이에 따라 '곻'은 단독형에서 '고'로 나타나기는 하지만 과거에, 그리고 언중의 인식 속에 /곻/이 존재했음을 확인할 수 있다. 이에 따라 현대에서도 이를 언급할 때 '고ㅎ'이 아닌 '곻'으로 적는 것이 합당하게 된다. 그렇긴 해도 입으로 읽을 때는 현대 한국어에서 ㅎ종성을 ㄷ종성과 구분하여 발음하는 것이 불가능하기 때문에 'ᄯᅡᇂ'이라고 적더라도 '따ㅎ[따히읃]' 식으로 언급한다. 대체로 ∅(종성 없음)으로 변화하였으나 간혹 /ㅇ/ 종성으로 나타나는 사례가 있다. 'ᄯᅡㅎ→땅'이 해당 사례. '바다ㅎ' 역시 제주 방언에서는 '바당'이 되었다. 복합어에서 ㅎ말음 체언의 흔적이 남은 단어들이 있는데, '살코기'(살ㅎ+고기), '수컷'(수ㅎ+것), '암컷'(암ㅎ+것), '안팎'(안ㅎ+밖) 등이 그렇다. 특히 '암/수'의 경우 의미의 특성상 동물 어휘와 붙어 무궁무진한 파생형을 만들어냈기 때문에 오늘날까지 불규칙형이 많이 남아있다. 이미 역사적 현상이 되어버린 ㅎ말음 체언과는 달리 ㅎ말음 용언은 20세기까지 표기되지 않다가 형태소 중심 표기에 힘 입어 지금까지 이어졌다. 그러나 1음절에서의 ㅎ말음이 소멸해버린 이후의 등장한 표기이기 때문에 다른 종성 표기에 비해 이질적이며 이에 따라 ㅎ종성을 적지 않거나 잘못 적는 오류가 많이 발생하고 있다. ㄲ의 경우 '묶다-묶'과 같이 품사통용 현상으로 같은 말음의 체언과 용언이 서로 연관을 갖는 일이 있지만, ㅎ말음 용언의 경우 그런 일이 없다. 현재 사용되는 ㅎ말음 용언은 많은 경우 'ᄒᆞ다(하다)'의 줄임에서 온 것이다. '않다', '많다', '파랗다', '같다'[3] 등. 이들은 확실히 ㅎ말음 체언과는 무관하다. __밑줄: 특이한 변화를 보인 어형( )괄호: 오늘날 소멸한 어형아래 목록은 이준환(2010)을 참고하였다.갏~갈>칼: 초성이 거센소리가 된 경우.겨ᅀᅳᆶ~겨ᅀᅳᆯ>겨울곻~고>코: 초성이 거센소리가 됐으며, '코 풀다'가 사전적으로는 '풀다'의 다의어로 되어있으나 '불다'가 '코'의 ㅎ말음으로 영향을 받은 것일 가능성이 있다.곻~고>고: 한복의 고리. 그릏~그르[株]>그루긶~긴>끈긿~길>길 ᄀᆞᅀᆞᆶ~ᄀᆞᅀᆞᆯ>가을ᄀᆞ옳~ᄀᆞ올>고을ᄀᆞᄂᆞᆶ~ᄀᆞᄂᆞᆯ>그늘낳~나>나이나랗~나라>나라(나좋~나조): '저녁'의 옛말. '나종'까지 변화한 것이 발견되나 이후 소멸했다.냏~내[川]>내니맣~니마>이마 님잫~님자>임자 ᄂᆞᄆᆞᆶ~ᄂᆞᄆᆞᆯ>나물ᄂᆞᆶ~ᄂᆞᆯ[刃]>날돓~돌>돌뒿~뒤>뒤드릏~드르[野]>들ᄃᆞᆶ~ᄃᆞᆯ[等]>-들맣~마[薯]>마맗~말>말뚝('맗+ㅅ+독')뫃~모[方]>모묗~뫼>뫼밇~밀[小麥]>밀ᄆᆞᅀᆞᆶ~ᄆᆞᅀᆞᆯ>마을(ᄆᆡᇂ~ᄆᆡ): 들의 옛말밯~바>바닥바닿~바다>바다볋~별>벼랑: ㅇ받침이 된 경우ᄇᆞᆶ~ᄇᆞᆯ>팔: 초성이 거센소리가 된 경우.ᄇᆡᅀᆞᆶ~ᄇᆡᅀᆞᆯ>배알ᄠᅳᆶ~ᄠᅳᆯ>뜰삻~살[皮]>살셔욿~셔울>서울(솧~소): 거푸집의 옛말 숳~수 / 아ᇡ~암- > 수/암스굻~스굴>시골시냏~시내>시내ᄯᅡᇂ~ᄯᅡ>땅: ㅇ받침이 된 경우.(ᄯᆞᆶ~ᄯᆞᆯ): '근원'의 옛말않~안[內]>안앓~알[卵]>알 (얺~언[提])>보리수?(엻~열): 삼[麻]의 옛말옳~올>올해: 의외로 '올해'는 '올+해'가 아니다. '올ㅎ' 자체가 '해'와 무관하게 '이번 연도'라는 의미였다. 경상도 지방의 어르신들이 가끔 '올개'라고 발음하는 것도 동남 방언에 남은 중세 한국어의 흔적이다.웋~우[上]>위: '지붕'이 '집+우ㅎ'으로 만들어진 단어로, ㅇ받침은 ㅎ말음 체언의 흔적이다. 욿~울>울-타리우ᇡ~움>움-집 (위않~위안 / 뒤않~뒤안): '동산'의 옛말잏~이[此]>이(ᄎᆞᆶ~ᄎᆞᆯ): '근원'의 옛말텋~터>터ᄒᆞᄂᆞᆶ~ᄒᆞᄂᆞᆯ>하늘ᄒᆞ낳~ᄒᆞ나>하나둟~둘>둘셓~세>셋: ㅅ받침이 된 경우.넿~네[四]>넷: ㅅ받침이 된 경우.스믏~스믈>스물여렇~여러>여럿: ㅅ받침이 된 경우.엻~열>열ᅀᅭᇂ~ᅀᅭ(褥)>요중세 한국어[1] 이준환(2010), ㅎ말음 체언의 음운론, 구결연구, February 2010, Vol.24, pp.163-199.[2] 이 경우와 같은 미파음 뒤 후행음절 경음화는 표기에 반영하지 않는다. 국어에서 미파음 뒤에 후행하는 파열음은 언제나 경음화되는 자동적 교체를 보이기 때문이다. 가령 [먹다]라고 /ㄱ/에 후행하여 /ㄸ/가 아닌 /ㄷ/를 발음하는 것이 한국어 상에서 아예 불가능하기 때문에 굳이 '먹따'라고 적을 필요가 없는 것이다.[3] 오늘날 ㅎ종성으로 적지는 않지만 기원적으로 '갇-하다' 꼴에서 왔다. 이 문서의 내용 중 전체 또는 일부는 ㅎ 문서의 r105 판, 번 문단에서 가져왔습니다. 이전 역사 보러 가기 이 문서의 내용 중 전체 또는 일부는 다른 문서에서 가져왔습니다. [ 펼치기 · 접기 ]ㅎ 문서의 r105 판, 번 문단 (이전 역사) 문서의 r 판, 번 문단 (이전 역사) 문서의 r 판, 번 문단 (이전 역사) 문서의 r 판, 번 문단 (이전 역사) 문서의 r 판, 번 문단 (이전 역사) 문서의 r 판, 번 문단 (이전 역사) 문서의 r 판, 번 문단 (이전 역사) 문서의 r 판, 번 문단 (이전 역사) 문서의 r 판, 번 문단 (이전 역사) 문서의 r 판, 번 문단 (이전 역사) 문서의 r 판, 번 문단 (이전 역사) 문서의 r 판, 번 문단 (이전 역사) 문서의 r 판, 번 문단 (이전 역사) 문서의 r 판, 번 문단 (이전 역사) 문서의 r 판, 번 문단 (이전 역사) 문서의 r 판, 번 문단 (이전 역사) 문서의 r 판, 번 문단 (이전 역사) 문서의 r 판, 번 문단 (이전 역사) 문서의 r 판, 번 문단 (이전 역사) 문서의 r 판, 번 문단 (이전 역사) 문서의 r 판, 번 문단 (이전 역사) 문서의 r 판, 번 문단 (이전 역사) 문서의 r 판, 번 문단 (이전 역사) 문서의 r 판, 번 문단 (이전 역사) 문서의 r 판, 번 문단 (이전 역사) 문서의 r 판, 번 문단 (이전 역사) 문서의 r 판, 번 문단 (이전 역사) 문서의 r 판, 번 문단 (이전 역사) 문서의 r 판, 번 문단 (이전 역사) 문서의 r 판, 번 문단 (이전 역사) 문서의 r 판, 번 문단 (이전 역사) 문서의 r 판, 번 문단 (이전 역사) 문서의 r 판, 번 문단 (이전 역사) 문서의 r 판, 번 문단 (이전 역사) 문서의 r 판, 번 문단 (이전 역사) 문서의 r 판, 번 문단 (이전 역사) 문서의 r 판, 번 문단 (이전 역사) 문서의 r 판, 번 문단 (이전 역사) 문서의 r 판, 번 문단 (이전 역사) 문서의 r 판, 번 문단 (이전 역사) 문서의 r 판, 번 문단 (이전 역사) 문서의 r 판, 번 문단 (이전 역사) 문서의 r 판, 번 문단 (이전 역사) 문서의 r 판, 번 문단 (이전 역사) 문서의 r 판, 번 문단 (이전 역사) 문서의 r 판, 번 문단 (이전 역사) 문서의 r 판, 번 문단 (이전 역사) 문서의 r 판, 번 문단 (이전 역사) 문서의 r 판, 번 문단 (이전 역사) 문서의 r 판, 번 문단 (이전 역사) 이 문서의 내용 중 전체 또는 일부는 ㅎ 문서의 r105 판, 번 문단에서 가져왔습니다. 이전 역사 보러 가기 이 문서의 내용 중 전체 또는 일부는 다른 문서에서 가져왔습니다. [ 펼치기 · 접기 ]ㅎ 문서의 r105 판, 번 문단 (이전 역사) 문서의 r 판, 번 문단 (이전 역사) 문서의 r 판, 번 문단 (이전 역사) 문서의 r 판, 번 문단 (이전 역사) 문서의 r 판, 번 문단 (이전 역사) 문서의 r 판, 번 문단 (이전 역사) 문서의 r 판, 번 문단 (이전 역사) 문서의 r 판, 번 문단 (이전 역사) 문서의 r 판, 번 문단 (이전 역사) 문서의 r 판, 번 문단 (이전 역사) 문서의 r 판, 번 문단 (이전 역사) 문서의 r 판, 번 문단 (이전 역사) 문서의 r 판, 번 문단 (이전 역사) 문서의 r 판, 번 문단 (이전 역사) 문서의 r 판, 번 문단 (이전 역사) 문서의 r 판, 번 문단 (이전 역사) 문서의 r 판, 번 문단 (이전 역사) 문서의 r 판, 번 문단 (이전 역사) 문서의 r 판, 번 문단 (이전 역사) 문서의 r 판, 번 문단 (이전 역사) 문서의 r 판, 번 문단 (이전 역사) 문서의 r 판, 번 문단 (이전 역사) 문서의 r 판, 번 문단 (이전 역사) 문서의 r 판, 번 문단 (이전 역사) 문서의 r 판, 번 문단 (이전 역사) 문서의 r 판, 번 문단 (이전 역사) 문서의 r 판, 번 문단 (이전 역사) 문서의 r 판, 번 문단 (이전 역사) 문서의 r 판, 번 문단 (이전 역사) 문서의 r 판, 번 문단 (이전 역사) 문서의 r 판, 번 문단 (이전 역사) 문서의 r 판, 번 문단 (이전 역사) 문서의 r 판, 번 문단 (이전 역사) 문서의 r 판, 번 문단 (이전 역사) 문서의 r 판, 번 문단 (이전 역사) 문서의 r 판, 번 문단 (이전 역사) 문서의 r 판, 번 문단 (이전 역사) 문서의 r 판, 번 문단 (이전 역사) 문서의 r 판, 번 문단 (이전 역사) 문서의 r 판, 번 문단 (이전 역사) 문서의 r 판, 번 문단 (이전 역사) 문서의 r 판, 번 문단 (이전 역사) 문서의 r 판, 번 문단 (이전 역사) 문서의 r 판, 번 문단 (이전 역사) 문서의 r 판, 번 문단 (이전 역사) 문서의 r 판, 번 문단 (이전 역사) 문서의 r 판, 번 문단 (이전 역사) 문서의 r 판, 번 문단 (이전 역사) 문서의 r 판, 번 문단 (이전 역사) 문서의 r 판, 번 문단 (이전 역사)\n"
     ]
    }
   ],
   "source": [
    "# 하나의 최근 변경된 문서를 크롤링한다.\n",
    "\n",
    "# 크롬 드라이버를 사용 (맥은 첫 줄, 윈도우는 두번째 줄 실행)\n",
    "driver = webdriver.Chrome(path)\n",
    "# driver = webdriver.Chrome(executable_path=excutable_path)\n",
    "\n",
    "# 드라이버가 브라우징 할 페이지 소스를 입력\n",
    "driver.get(page_urls[0])\n",
    "\n",
    "# 드라이버에게 페이지 소스에서 정보를 가져도록 명령\n",
    "req = driver.page_source\n",
    "\n",
    "# BeautifulSoup 라이브러리로 가져온 정보를 파싱\n",
    "soup=BeautifulSoup(req, \"html.parser\")\n",
    "\n",
    "# article이라는 태그를 가지고 있는 데이터를 추출\n",
    "contents_table = soup.find(name=\"article\")\n",
    "\n",
    "# 위에서 추출한 데이터에서 hi 태그를 모두 추출\n",
    "title = contents_table.find_all(\"h1\")[0]\n",
    "\n",
    "# 위에서 추출한 데이터에서 ul 태그를 모두 추출\n",
    "category = contents_table.find_all(\"ul\")[0]\n",
    "\n",
    "# 위에서 추출한 데이터에서 div 태그이면서 wiki-paragraph 클래스를 가진 데이터를 모두 추출\n",
    "content_paragraphs = contents_table.find_all(name=\"div\", attrs={\"class\":\"wiki-paragraph\"})\n",
    "content_corpus_list = []\n",
    "\n",
    "for paragraphs in content_paragraphs:\n",
    "    content_corpus_list.append(paragraphs.text)\n",
    "content_corpus = \"\".join(content_corpus_list)\n",
    "\n",
    "print(title.text)\n",
    "print(\"\\n\")\n",
    "print(category.text)\n",
    "print(\"\\n\")\n",
    "print(content_corpus)\n",
    "\n",
    "# 크롤링에 사용한 브라우저를 종료\n",
    "driver.close()"
   ]
  },
  {
   "cell_type": "code",
   "execution_count": null,
   "id": "f6dda5fb-c815-4545-ab29-b610f0dbafb0",
   "metadata": {},
   "outputs": [],
   "source": []
  }
 ],
 "metadata": {
  "kernelspec": {
   "display_name": "Python 3 (ipykernel)",
   "language": "python",
   "name": "python3"
  },
  "language_info": {
   "codemirror_mode": {
    "name": "ipython",
    "version": 3
   },
   "file_extension": ".py",
   "mimetype": "text/x-python",
   "name": "python",
   "nbconvert_exporter": "python",
   "pygments_lexer": "ipython3",
   "version": "3.7.10"
  }
 },
 "nbformat": 4,
 "nbformat_minor": 5
}
