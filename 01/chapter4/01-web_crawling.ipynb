{
 "cells": [
  {
   "cell_type": "markdown",
   "id": "4c6e2ae5-ad0f-475b-ac70-1ae8948a28ce",
   "metadata": {},
   "source": [
    "## 1. 웹 크롤링에 필요한 라이브러리"
   ]
  },
  {
   "cell_type": "markdown",
   "id": "e4560384-bacc-4d72-aad1-4d478437a0a7",
   "metadata": {},
   "source": [
    "### 1) requests 라이브러리"
   ]
  },
  {
   "cell_type": "code",
   "execution_count": 26,
   "id": "e4e2324a-7440-47f3-9adf-ecb834b4fc66",
   "metadata": {},
   "outputs": [],
   "source": [
    "import requests\n",
    "\n",
    "source_url = \"https://naver.com\"\n",
    "req = requests.get(source_url)\n",
    "html = req.content\n",
    "# print(html)"
   ]
  },
  {
   "cell_type": "markdown",
   "id": "5ae895e7-4514-4d3b-8917-94f69692cc5a",
   "metadata": {},
   "source": [
    "----\n",
    "### 2) BeautifulSoup 라이브러리"
   ]
  },
  {
   "cell_type": "code",
   "execution_count": 24,
   "id": "a04f4471-1451-4594-bbe1-bb936751c8c0",
   "metadata": {},
   "outputs": [],
   "source": [
    "from bs4 import BeautifulSoup\n",
    "\n",
    "source_url = \"https://naver.com\"\n",
    "req = requests.get(source_url)\n",
    "html = req.content\n",
    "soup = BeautifulSoup(html, 'lxml')\n",
    "contents_table = soup.find(name=\"div\", attrs={\"class\":\"tile_view\"})\n",
    "img_list = contents_table.find_all(name='img')"
   ]
  },
  {
   "cell_type": "code",
   "execution_count": 25,
   "id": "383e13ac-c586-4731-a91e-11b6d04800a4",
   "metadata": {},
   "outputs": [
    {
     "name": "stdout",
     "output_type": "stream",
     "text": [
      "https://s.pstatic.net/static/newsstand/up/2020/0610/nsd151458769.png\n",
      "https://s.pstatic.net/static/newsstand/2020/logo/light/0604/330.png\n",
      "https://s.pstatic.net/static/newsstand/2020/logo/light/0604/326.png\n",
      "https://s.pstatic.net/static/newsstand/2020/logo/light/0604/011.png\n",
      "https://s.pstatic.net/static/newsstand/2020/logo/light/0604/092.png\n",
      "https://s.pstatic.net/static/newsstand/2020/logo/light/0604/057.png\n",
      "https://s.pstatic.net/static/newsstand/2020/logo/light/0604/028.png\n",
      "https://s.pstatic.net/static/newsstand/2020/logo/light/0604/366.png\n",
      "https://s.pstatic.net/static/newsstand/2020/logo/light/0604/055.png\n",
      "https://s.pstatic.net/static/newsstand/2020/logo/light/0604/003.png\n",
      "https://s.pstatic.net/static/newsstand/2020/logo/light/0604/079.png\n",
      "https://s.pstatic.net/static/newsstand/2020/logo/light/0604/139.png\n",
      "https://s.pstatic.net/static/newsstand/2020/logo/light/0604/016.png\n",
      "https://s.pstatic.net/static/newsstand/2020/logo/light/0604/005.png\n",
      "https://s.pstatic.net/static/newsstand/2020/logo/light/0604/241.png\n",
      "https://s.pstatic.net/static/newsstand/up/2020/1119/nsd213345745.png\n",
      "https://s.pstatic.net/static/newsstand/2020/logo/light/0604/332.png\n",
      "https://s.pstatic.net/static/newsstand/2020/logo/light/0604/936.png\n",
      "https://s.pstatic.net/static/newsstand/2020/logo/light/0604/529.png\n",
      "https://s.pstatic.net/static/newsstand/2020/logo/light/0604/952.png\n",
      "https://s.pstatic.net/static/newsstand/2020/logo/light/0604/903.png\n",
      "https://s.pstatic.net/static/newsstand/2020/logo/light/0604/971.png\n",
      "https://s.pstatic.net/static/newsstand/2020/logo/light/0604/396.png\n",
      "https://s.pstatic.net/static/newsstand/2020/logo/light/0604/362.png\n"
     ]
    }
   ],
   "source": [
    "for img in img_list:\n",
    "    print(img.get('src'))"
   ]
  },
  {
   "cell_type": "markdown",
   "id": "5aba7ce0-92b7-4df3-b56f-50984046d7c4",
   "metadata": {},
   "source": [
    "----\n",
    "### 3) Selenium 라이브러리"
   ]
  },
  {
   "cell_type": "code",
   "execution_count": 30,
   "id": "917932f9-b291-435c-aee3-26f9cd91896a",
   "metadata": {},
   "outputs": [
    {
     "ename": "TypeError",
     "evalue": "object of type 'Response' has no len()",
     "output_type": "error",
     "traceback": [
      "\u001b[0;31m---------------------------------------------------------------------------\u001b[0m",
      "\u001b[0;31mTypeError\u001b[0m                                 Traceback (most recent call last)",
      "\u001b[0;32m<ipython-input-30-2df7dd6f6f8e>\u001b[0m in \u001b[0;36m<module>\u001b[0;34m\u001b[0m\n\u001b[1;32m      5\u001b[0m \u001b[0mreq\u001b[0m \u001b[0;34m=\u001b[0m \u001b[0mrequests\u001b[0m\u001b[0;34m.\u001b[0m\u001b[0mget\u001b[0m\u001b[0;34m(\u001b[0m\u001b[0msource_url\u001b[0m\u001b[0;34m)\u001b[0m\u001b[0;34m\u001b[0m\u001b[0;34m\u001b[0m\u001b[0m\n\u001b[1;32m      6\u001b[0m \u001b[0mhtml\u001b[0m \u001b[0;34m=\u001b[0m \u001b[0mreq\u001b[0m\u001b[0;34m.\u001b[0m\u001b[0mcontent\u001b[0m\u001b[0;34m\u001b[0m\u001b[0;34m\u001b[0m\u001b[0m\n\u001b[0;32m----> 7\u001b[0;31m \u001b[0msoup\u001b[0m\u001b[0;34m=\u001b[0m\u001b[0mBeautifulSoup\u001b[0m\u001b[0;34m(\u001b[0m\u001b[0mreq\u001b[0m\u001b[0;34m,\u001b[0m \u001b[0;34m\"html.parser\"\u001b[0m\u001b[0;34m)\u001b[0m\u001b[0;34m\u001b[0m\u001b[0;34m\u001b[0m\u001b[0m\n\u001b[0m\u001b[1;32m      8\u001b[0m \u001b[0mcontents_table\u001b[0m \u001b[0;34m=\u001b[0m \u001b[0msoup\u001b[0m\u001b[0;34m.\u001b[0m\u001b[0mfind\u001b[0m\u001b[0;34m(\u001b[0m\u001b[0mname\u001b[0m\u001b[0;34m=\u001b[0m\u001b[0;34m\"table\"\u001b[0m\u001b[0;34m)\u001b[0m\u001b[0;34m\u001b[0m\u001b[0;34m\u001b[0m\u001b[0m\n\u001b[1;32m      9\u001b[0m \u001b[0mtable_body\u001b[0m \u001b[0;34m=\u001b[0m \u001b[0mcontents_table\u001b[0m\u001b[0;34m.\u001b[0m\u001b[0mfind\u001b[0m\u001b[0;34m(\u001b[0m\u001b[0mname\u001b[0m\u001b[0;34m=\u001b[0m\u001b[0;34m\"tbody\"\u001b[0m\u001b[0;34m)\u001b[0m\u001b[0;34m\u001b[0m\u001b[0;34m\u001b[0m\u001b[0m\n",
      "\u001b[0;32m~/anaconda3/envs/gcn/lib/python3.8/site-packages/bs4/__init__.py\u001b[0m in \u001b[0;36m__init__\u001b[0;34m(self, markup, features, builder, parse_only, from_encoding, exclude_encodings, element_classes, **kwargs)\u001b[0m\n\u001b[1;32m    308\u001b[0m         \u001b[0;32mif\u001b[0m \u001b[0mhasattr\u001b[0m\u001b[0;34m(\u001b[0m\u001b[0mmarkup\u001b[0m\u001b[0;34m,\u001b[0m \u001b[0;34m'read'\u001b[0m\u001b[0;34m)\u001b[0m\u001b[0;34m:\u001b[0m        \u001b[0;31m# It's a file-type object.\u001b[0m\u001b[0;34m\u001b[0m\u001b[0;34m\u001b[0m\u001b[0m\n\u001b[1;32m    309\u001b[0m             \u001b[0mmarkup\u001b[0m \u001b[0;34m=\u001b[0m \u001b[0mmarkup\u001b[0m\u001b[0;34m.\u001b[0m\u001b[0mread\u001b[0m\u001b[0;34m(\u001b[0m\u001b[0;34m)\u001b[0m\u001b[0;34m\u001b[0m\u001b[0;34m\u001b[0m\u001b[0m\n\u001b[0;32m--> 310\u001b[0;31m         elif len(markup) <= 256 and (\n\u001b[0m\u001b[1;32m    311\u001b[0m                 \u001b[0;34m(\u001b[0m\u001b[0misinstance\u001b[0m\u001b[0;34m(\u001b[0m\u001b[0mmarkup\u001b[0m\u001b[0;34m,\u001b[0m \u001b[0mbytes\u001b[0m\u001b[0;34m)\u001b[0m \u001b[0;32mand\u001b[0m \u001b[0;32mnot\u001b[0m \u001b[0;34mb'<'\u001b[0m \u001b[0;32min\u001b[0m \u001b[0mmarkup\u001b[0m\u001b[0;34m)\u001b[0m\u001b[0;34m\u001b[0m\u001b[0;34m\u001b[0m\u001b[0m\n\u001b[1;32m    312\u001b[0m                 \u001b[0;32mor\u001b[0m \u001b[0;34m(\u001b[0m\u001b[0misinstance\u001b[0m\u001b[0;34m(\u001b[0m\u001b[0mmarkup\u001b[0m\u001b[0;34m,\u001b[0m \u001b[0mstr\u001b[0m\u001b[0;34m)\u001b[0m \u001b[0;32mand\u001b[0m \u001b[0;32mnot\u001b[0m \u001b[0;34m'<'\u001b[0m \u001b[0;32min\u001b[0m \u001b[0mmarkup\u001b[0m\u001b[0;34m)\u001b[0m\u001b[0;34m\u001b[0m\u001b[0;34m\u001b[0m\u001b[0m\n",
      "\u001b[0;31mTypeError\u001b[0m: object of type 'Response' has no len()"
     ]
    }
   ],
   "source": [
    "import requests\n",
    "from bs4 import BeautifulSoup\n",
    "\n",
    "source_url = \"https://namu.wiki/RecentChanges\"\n",
    "req = requests.get(source_url)\n",
    "html = req.content\n",
    "soup=BeautifulSoup(req, \"html.parser\")\n",
    "contents_table = soup.find(name=\"table\")\n",
    "table_body = contents_table.find(name=\"tbody\")\n",
    "table_rows = table_body.find_all(name=\"tr\")"
   ]
  },
  {
   "cell_type": "code",
   "execution_count": 31,
   "id": "41ddc71b-9fc3-4a3e-9330-1d48a997d7df",
   "metadata": {},
   "outputs": [
    {
     "name": "stdout",
     "output_type": "stream",
     "text": [
      "b'<!DOCTYPE html>\\n<!--[if lt IE 7]> <html class=\"no-js ie6 oldie\" lang=\"en-US\"> <![endif]-->\\n<!--[if IE 7]>    <html class=\"no-js ie7 oldie\" lang=\"en-US\"> <![endif]-->\\n<!--[if IE 8]>    <html class=\"no-js ie8 oldie\" lang=\"en-US\"> <![endif]-->\\n<!--[if gt IE 8]><!--> <html class=\"no-js\" lang=\"en-US\"> <!--<![endif]-->\\n<head>\\n\\n<title>Please Wait... | Cloudflare</title>\\n  \\n<meta name=\"captcha-bypass\" id=\"captcha-bypass\" />\\n<meta charset=\"UTF-8\" />\\n<meta http-equiv=\"Content-Type\" content=\"text/html; charset=UTF-8\" />\\n<meta http-equiv=\"X-UA-Compatible\" content=\"IE=Edge,chrome=1\" />\\n<meta name=\"robots\" content=\"noindex, nofollow\" />\\n<meta name=\"viewport\" content=\"width=device-width,initial-scale=1\" />\\n<link rel=\"stylesheet\" id=\"cf_styles-css\" href=\"/cdn-cgi/styles/cf.errors.css\" type=\"text/css\" media=\"screen,projection\" />\\n<!--[if lt IE 9]><link rel=\"stylesheet\" id=\\'cf_styles-ie-css\\' href=\"/cdn-cgi/styles/cf.errors.ie.css\" type=\"text/css\" media=\"screen,projection\" /><![endif]-->\\n<style type=\"text/css\">body{margin:0;padding:0}</style>\\n\\n\\n<!--[if gte IE 10]><!-->\\n<script>\\n  if (!navigator.cookieEnabled) {\\n    window.addEventListener(\\'DOMContentLoaded\\', function () {\\n      var cookieEl = document.getElementById(\\'cookie-alert\\');\\n      cookieEl.style.display = \\'block\\';\\n    })\\n  }\\n</script>\\n<!--<![endif]-->\\n\\n\\n  \\n    <script type=\"text/javascript\">\\n    //<![CDATA[\\n    (function(){\\n      window._cf_chl_opt={\\n        cvId: \"2\",\\n        cType: \"managed\",\\n        cNounce: \"72350\",\\n        cRay: \"68666e7d0c54a1dd\",\\n        cHash: \"b1383b79ad680d3\",\\n        cFPWv: \"b\",\\n        cTTimeMs: \"1000\",\\n        cLt: \"n\",\\n        cRq: {\\n          ru: \"aHR0cHM6Ly9uYW11Lndpa2kvUmVjZW50Q2hhbmdlcw==\",\\n          ra: \"cHl0aG9uLXJlcXVlc3RzLzIuMjUuMQ==\",\\n          rm: \"R0VU\",\\n          d: \"sONuzc5Nkgw0lgy16zkmwUIOeh178iulkULEL0/jDUe5l86PgY51cUx+ISi5Ly8Zjxram8dPu9n9tHN1qFsWgL9ZTL1PL56LwbTZ2sjw8JATcZz1HuLOFSB2Y6prBQ5f85NxgduzFnnYsIGq1DFaX+BbtXQ+aTGy5NBNYyGRL+AXGLRf5aCG9SQ0lpXvltODt4P0PxMc00Md+IC9ZHGtJWYYK5iYeLP0vZg3xsFTMQB7BuuttE+Rw/fi2gECE6lZAYvuO/pBpZWiA0LVcvrCUAxhSVZQ+MmHUL+4dpVMfhrElYL6AeWbuI9Lu0Q7ZwnSaej6hDWUzMx4UpzMwCrjh1w/vVHvaJVFcYZovbyQ4q0Jg2j4MAmyH6CwBXzbeFhXvuHLDIbT2z5/OxoHwBSTwsILQ2/tuADbMe5pvwysVTgnCwZeWEQCCTdCSGtNWsFEBntC16aGTB5SPe8TYxvPkTUg3kpIJ0CdamLw5O30JQg8lhXW94pR0SxRXQA53HOlmOjQq92zWEygmLUOp0jL9yIGhBGzPFVXNXUFkgB5MoAOd/8p8FYP/JzMIK+Dq63KYfwKPuxckUfrtKxsboOHVejyReYqVii0adga2CwaTh4grlOknnM37fgVNGteEfNEiF2rOlqoIyFg4WZh2X9tZDPsoa0+Pc6b1/V6PZJzlRn5z/M2EVGmiRHufndKXUWlESROPRK1tX2qYOU3WImBG6WFOvcBFheIZpwjwTghLSsy4U0NPBRnganhiXCpfgE44jNfz2/n23KTOhuGZ3ho8tTYVWaXWeJQAyYdb1zzuB0N4o8P7LLdiFoK8N2wGqtohpYp+HAaVaFfeAt8Y0ZzvakwejgWgMkCoF5cOLvksCE=\",\\n          t: \"MTYzMDI0Njk0Ny4zNjkwMDA=\",\\n          m: \"Ag8xHJv7cK6cpm+o8+YZ80niWsKkOtj+fPo3gr9HF7E=\",\\n          i1: \"n6A/mlcp91u8edu6CLHCvw==\",\\n          i2: \"hCozxxlm5Xofzt83yEUORQ==\",\\n          zh: \"m8uLQymzcNrDBUWxIxJVRWWsai2gcUDknsM9ZyUGxkE=\",\\n          uh: \"5GU+jYv2xJ+bCaE/ARmi/DORbiS/v56CW7E0TH4XWQk=\",\\n          hh: \"jeNn0+60emESsWxgCwQYeRlqvrbki4H9y8kT5uzN11k=\",\\n        }\\n      };\\n    }());\\n    //]]>\\n    </script>\\n  \\n\\n<style type=\"text/css\">\\n  #cf-wrapper #spinner {width:69px; margin:  auto;}\\n  #cf-wrapper #cf-please-wait{text-align:center}\\n  .attribution {margin-top: 32px;}\\n  .bubbles { background-color: #f58220; width:20px; height: 20px; margin:2px; border-radius:100%; display:inline-block; }\\n  #cf-wrapper #challenge-form { padding-top:25px; padding-bottom:25px; }\\n  #cf-hcaptcha-container { text-align:center;}\\n  #cf-hcaptcha-container iframe { display: inline-block;}\\n  @keyframes fader     { 0% {opacity: 0.2;} 50% {opacity: 1.0;} 100% {opacity: 0.2;} }\\n  #cf-wrapper #cf-bubbles { width:69px; }\\n  @-webkit-keyframes fader { 0% {opacity: 0.2;} 50% {opacity: 1.0;} 100% {opacity: 0.2;} }\\n  #cf-bubbles > .bubbles { animation: fader 1.6s infinite;}\\n  #cf-bubbles > .bubbles:nth-child(2) { animation-delay: .2s;}\\n  #cf-bubbles > .bubbles:nth-child(3) { animation-delay: .4s;}\\n</style>\\n</head>\\n<body>\\n  <div id=\"cf-wrapper\">\\n    <div class=\"cf-alert cf-alert-error cf-cookie-error\" id=\"cookie-alert\" data-translate=\"enable_cookies\">Please enable cookies.</div>\\n    <div id=\"cf-error-details\" class=\"cf-error-details-wrapper\">\\n      <div class=\"cf-wrapper cf-header cf-error-overview\">\\n      \\n        <h1 data-translate=\"managed_challenge_headline\">Please wait...</h1>\\n        <h2 class=\"cf-subheadline\"><span data-translate=\"managed_checking_msg\">We are checking your browser...</span> namu.wiki</h2>\\n      \\n      </div>\\n      \\n      <div class=\"cf-section cf-highlight cf-captcha-container\">\\n        <div class=\"cf-wrapper\">\\n          <div class=\"cf-columns two\">\\n            <div class=\"cf-column\">\\n            \\n              <div class=\"cf-highlight-inverse cf-form-stacked\">\\n                <form class=\"challenge-form managed-form\" id=\"challenge-form\" action=\"/RecentChanges?__cf_chl_managed_tk__=pmd_i2BUxzUcZCnhesFnMh7AKtA3fsNbI9PntYHZt53EI_E-1630246947-0-gqNtZGzNAvujcnBszQcl\" method=\"POST\" enctype=\"application/x-www-form-urlencoded\">\\n  \\n    <div id=\\'cf-please-wait\\'>\\n      <div id=\\'spinner\\'>\\n        <div id=\"cf-bubbles\">\\n            <div class=\"bubbles\"></div>\\n            <div class=\"bubbles\"></div>\\n            <div class=\"bubbles\"></div>\\n        </div>\\n      </div>\\n      <p data-translate=\"please_wait\" id=\"cf-spinner-please-wait\">Please stand by, while we are checking your browser...</p>\\n      <p data-translate=\"redirecting\" id=\"cf-spinner-redirecting\" style=\"display:none\">Redirecting...</p>\\n      </div>\\n  \\n  <input type=\"hidden\" name=\"md\" value=\"zkgTUI6eN_o.0q51zg5JGTt2ho2rukVPLbVgtBoNrRw-1630246947-0-AdpXF6809MI0PuEvQRzz0qsMJZVum9K7xqDeoWT0Qv_lN15c8EYozKbhHT_gKylS0uMGWLa2XEQH1cNkSQt-ic570PRyWGM0QQ0tLQYTz5OXhs6V4mjEJBqspDw0XKmrUKCS55qTBsCIAVBvoZokMisl0_ky9Y-83Q2RSc2W3_dnRO_lSiKZ7NmrazVtPKmAAeHTERhoRq1DdA7MrpOO3nSGqRz4lEBlKVr2HS5C8Wnh7Mo1J61TZ0wHACmMsG-N5BDw_sD2R68d04jHXqpANPNwbewHAtiRXr14ghZqWrv50AUEI-m7bVBTiNkXPriCNiYhJXDb0f9UETzN2G4iCwK1nE5PuWTfJH4TjeuMDFvZ_QFqnvSsFdhhHgbUoW4Xil_QFXEeCeTSqyKgJbat3ec5IWd-Ivm9YQWgQNIkMxMwIEiKrRIm_-mBK-GrThbxopIDmkrV0Ue9n-KyD3sbtaY_tfVEws5FaN2yKuiMmU673HhjgNadPmQnt6UJXUYrkSPyHBI6xrjPxnwSwaJZkldSVba5f634BDTkgYXLCiBIpEnIGty-lUsT3yWdXuN0AKafWRunbLS7jw87V72bmI6Xa8gdav6dyg16E8BFlahbRt_dBdepA843W6c7ee7WGapitKsUTweNqic8vcMKX1i4y7IwonZIPBVO0c4OkgejRvi27TFP8Gc_BN3g-Vjnfw\" />\\n  <input type=\"hidden\" name=\"r\" value=\"D5P6U_6JdZaio8gZ1XZLH.3eFTH3E_gtGovAnd2najU-1630246947-0-AWGxy+2o4iWFgKBjgj7s8xhccTWwlq29EEL9CcGnkCRy9azuUKMQ/t/fLUeYCMkIc44Klts9u2ISvMdtt/0PFqIZv+6WrTiDU7cwyPPKPSwDv9vovGFpqrwZyTyhc6yj1h33vu+Jo5tN+Y65rRWdZZSCQRibi8cVW9BovnEK31l4MtISgbPhUZh+cxU1/7MQIy7ttCG4eXbGcByCSpJrCj2EiYbq9qg1ARxrX7F2lx0VzcPL2TP9tDahASNoLg9RRXLvG0skxDwWHQGjI/bTBezz4JNY8c188quSm+XEj5gAr5y4d9wB6PsQ1z3T4bAEMbh9ZcYrmnKSCAsceik17uNqM5lIlXthd9XU6R4FsS80zDMe5Lt24IRcZH8aiZpV94DV5CJuaFCeduuCdNnjBclycAfUSZtu7szKOyfjT2w7zKwicK5rpzfDfGFCI5aTJ4cLG3pIV2RK66Z3qVHUgGM2gEfridda51rI4Z2/GGte1RgQ+BSbxYWMX63lPrkMHHnCl7mPa5E8Lq8ok7TVgUm7IupqGEv/uhj1Oz2uvqgbD1019NIpK/NDZhW6wVI6FTxrc09X3b1Q5PDvR4bowaTQPRlpZulQViNrbqOt8OT7DHsMQcaj+2DnVgodvRbk6hIi6rqyK5W9pv96ZDNnGFB8uka+FpVmwgIZtwL7/nRSTshQWBUh87hH7lHTTuxMJq5QLc2pqIxtc5cKZ2fZmOn49p/gX3y+OdnGtej3GXXNHYYMrDe1p/jWnba5mI/AtC5pbpJrTNTGI8mZTyl4UPoRXDHnao/MLoHfbAta2tfrCl3kwnC8QDUQfSj2Nq8pv/kkCcDTIRRWqGEi81z9MD5g2FrZmbMS9timMRb/iFXuTfLJnGsFufkfKWkQ2Jqy5GI/dKJd+w2mUHgPnUNWe2y4g1nyW/dTF9jGuMM37fPhE5R/9bTUylH6CrO1OICGvEY4l0C5rqdpwg1JZvcV+rCnrV1Vg7dWm9ELFDP//k3DO0PZqjWnCa7u6BZOkWwFs5fVCSpSRHf/NNndJyk97069ni+8OWSqkea6zydKfTEas0OZ+ElKlHR6lFCpoFNmxixMbf2zJn0ZkICyOery+oRRo1A7Is+XGgVk+ZaXHAEI9f7GnkdmY2N8tgL1OUBiobSsKbJIyHUiUHkgR/rNkX/IG48a9ftozM+VtMqu1iK9FbOKisO5/TF6KF4lZ3s9fUmKx13SoIVh7SpvpzCo8HTR1t6sLhpCfdSfYJ62kI3Q/Rkc7Tsl82cAcEuotvaEz+2fvwKDIKc39wO4AtvTuJ6friElFWIitfSfBVxMJwwXPEKFTZP6wWFcXPCRcna92B2goMUqMuBjqo+/NbQchpXeL9/UJBHEBgP9IMWe7KCgSGn6Kx5n+FgiXUajAlueKh+wFZZuvYHjcXcq6w9t751RRn3CHHXtY11N49GWG1nvz1cHc/cMqDi+YLIFM3ZiH0PgZNzpdCtcOXtXUXpeuIZw5YJx+NAqrsWnM1Z/okn3pjNGtM7v/rVQH/ID+bzKCfc46PQNzk4eyST198m+2kIEBHAShWP3+VQdHZbTSWJIgy85+62LyT5qs1/0c8NdXTsdAiAInb3Hu+zy+YqAhTdk6GkuWkM3xozXZL6U/g+yVl1B4VzcUhWMMJTbVzZJwKm6VrNrHuZ9MkJsteAu2XcVJX9grQCMKH29C1pX4WUdrGNDsspBln+5boXDyaVNFiLskmr+Xw0IrXmjGKZhV9Ad+xwdMYxxXlrzc9IZI3Fg\">\\n  <input type=\"hidden\" name=\"cf_captcha_kind\" value=\"h\">\\n  <input type=\"hidden\" name=\"vc\" value=\"efb2ed0fe36535facad4a9a089cb49c4\">\\n  \\n  <noscript id=\"cf-captcha-bookmark\" class=\"cf-captcha-info\">\\n  <h1 data-translate=\"turn_on_js\" style=\"color:#bd2426;\">Please turn JavaScript on and reload the page.</h1>\\n  </noscript>\\n    <div id=\"no-cookie-warning\" class=\"cookie-warning\" data-translate=\"turn_on_cookies\" style=\"display:none\">\\n      <p data-translate=\"turn_on_cookies\" style=\"color:#bd2426;\">Please enable Cookies and reload the page.</p>\\n    </div>\\n  <script type=\"text/javascript\">\\n  //<![CDATA[\\n    var a = function() {try{return !!window.addEventListener} catch(e) {return !1} },\\n      b = function(b, c) {a() ? document.addEventListener(\"DOMContentLoaded\", b, c) : document.attachEvent(\"onreadystatechange\", b)};\\n      b(function(){\\n        var cookiesEnabled=(navigator.cookieEnabled)? true : false;\\n        if(!cookiesEnabled){\\n          var q = document.getElementById(\\'no-cookie-warning\\');q.style.display = \\'block\\';\\n        }\\n      });\\n  //]]>\\n  </script>\\n  <div id=\"trk_captcha_js\" style=\"background-image:url(\\'/cdn-cgi/images/trace/captcha/nojs/h/transparent.gif?ray=68666e7d0c54a1dd\\')\"></div>\\n</form>\\n  \\n  <script type=\"text/javascript\">\\n    //<![CDATA[\\n    (function(){\\n        var isIE = /(MSIE|Trident\\\\/|Edge\\\\/)/i.test(window.navigator.userAgent);\\n        var trkjs = isIE ? new Image() : document.createElement(\\'img\\');\\n        trkjs.setAttribute(\"src\", \"/cdn-cgi/images/trace/managed/js/transparent.gif?ray=68666e7d0c54a1dd\");\\n        trkjs.id = \"trk_managed_js\";\\n        trkjs.setAttribute(\"alt\", \"\");\\n        document.body.appendChild(trkjs);\\n        var cpo=document.createElement(\\'script\\');\\n        cpo.type=\\'text/javascript\\';\\n        cpo.src=\"/cdn-cgi/challenge-platform/h/b/orchestrate/managed/v1?ray=68666e7d0c54a1dd\";\\n        document.getElementsByTagName(\\'head\\')[0].appendChild(cpo);\\n    }());\\n    //]]>\\n    </script>\\n  \\n\\n\\n              </div>\\n            </div>\\n\\n            <div class=\"cf-column\">\\n              <div class=\"cf-screenshot-container\">\\n              \\n                <span class=\"cf-no-screenshot\"></span>\\n              \\n              </div>\\n            </div>\\n          </div>\\n        </div>\\n      </div>\\n\\n      <div class=\"cf-section cf-wrapper\">\\n        <div class=\"cf-columns two\">\\n          <div class=\"cf-column\">\\n            <h2 data-translate=\"why_captcha_headline\">Why do I have to complete a CAPTCHA?</h2>\\n            \\n            <p data-translate=\"why_captcha_detail\">Completing the CAPTCHA proves you are a human and gives you temporary access to the web property.</p>\\n          </div>\\n\\n          <div class=\"cf-column\">\\n            <h2 data-translate=\"resolve_captcha_headline\">What can I do to prevent this in the future?</h2>\\n            \\n\\n            <p data-translate=\"resolve_captcha_antivirus\">If you are on a personal connection, like at home, you can run an anti-virus scan on your device to make sure it is not infected with malware.</p>\\n\\n            <p data-translate=\"resolve_captcha_network\">If you are at an office or shared network, you can ask the network administrator to run a scan across the network looking for misconfigured or infected devices.</p>\\n            \\n              \\n            \\n          </div>\\n        </div>\\n      </div>\\n      \\n\\n      <div class=\"cf-error-footer cf-wrapper w-240 lg:w-full py-10 sm:py-4 sm:px-8 mx-auto text-center sm:text-left border-solid border-0 border-t border-gray-300\">\\n  <p class=\"text-13\">\\n    <span class=\"cf-footer-item sm:block sm:mb-1\">Cloudflare Ray ID: <strong class=\"font-semibold\">68666e7d0c54a1dd</strong></span>\\n    <span class=\"cf-footer-separator sm:hidden\">&bull;</span>\\n    <span class=\"cf-footer-item sm:block sm:mb-1\"><span>Your IP</span>: 1.226.228.181</span>\\n    <span class=\"cf-footer-separator sm:hidden\">&bull;</span>\\n    <span class=\"cf-footer-item sm:block sm:mb-1\"><span>Performance &amp; security by</span> <a rel=\"noopener noreferrer\" href=\"https://www.cloudflare.com/5xx-error-landing\" id=\"brand_link\" target=\"_blank\">Cloudflare</a></span>\\n    \\n  </p>\\n</div><!-- /.error-footer -->\\n\\n\\n    </div>\\n  </div>\\n\\n  <script type=\"text/javascript\">\\n  window._cf_translation = {};\\n  \\n  \\n</script>\\n\\n\\n</body>\\n</html>\\n'\n"
     ]
    }
   ],
   "source": [
    "import requests\n",
    "from bs4 import BeautifulSoup\n",
    "\n",
    "source_url = \"https://namu.wiki/RecentChanges\"\n",
    "req = requests.get(source_url)\n",
    "html = req.content\n",
    "print(html)"
   ]
  },
  {
   "cell_type": "code",
   "execution_count": 32,
   "id": "40259935-e80f-48cb-9c0f-c22c3a634b91",
   "metadata": {},
   "outputs": [
    {
     "name": "stdout",
     "output_type": "stream",
     "text": [
      "https://namu.wiki/w/%ED%9B%84%EC%A7%80%EC%97%90%EB%8B%A4%20%EC%95%84%EC%95%BC%EB%A9%94\n",
      "https://namu.wiki/w/%E3%81%97\n",
      "https://namu.wiki/w/%EC%95%88%EB%B3%91%ED%9B%88(%EA%B3%A8%ED%94%84%EC%84%A0%EC%88%98)\n"
     ]
    }
   ],
   "source": [
    "from selenium import webdriver\n",
    "from bs4 import BeautifulSoup\n",
    "import re\n",
    "\n",
    "# brew 로 설치된 chromedriver의 path (Mac)\n",
    "path = \"/usr/local/bin/chromedriver\"\n",
    "\n",
    "# 윈도우용 크롬 웹드라이버 실행 경로 (Windows)\n",
    "excutable_path = \"chromedriver.exe\"\n",
    "\n",
    "# 크롤링할 페이지 주소\n",
    "source_url = \"https://namu.wiki/RecentChanges\"\n",
    "\n",
    "# 크롬 드라이버를 사용 (맥은 첫 줄, 윈도우는 두번째 줄 실행)\n",
    "driver = webdriver.Chrome(path)\n",
    "# driver = webdriver.Chrome(executable_path=excutable_path)\n",
    "\n",
    "# 드라이버가 브라우징 할 페이지 소스를 입력\n",
    "driver.get(source_url)\n",
    "req = driver.page_source\n",
    "\n",
    "# 사이트의 html 구조에 기반하여 데이터를 파싱\n",
    "soup=BeautifulSoup(req, \"html.parser\")\n",
    "contents_table = soup.find(name=\"table\")\n",
    "table_body = contents_table.find(name=\"tbody\")\n",
    "table_rows = table_body.find_all(name=\"tr\")\n",
    "\n",
    "# a태그의 href 속성을 리스트로 추출하여, 크롤링 할 페이지 리스트를 생성\n",
    "page_url_base = \"https://namu.wiki\"\n",
    "page_urls = []\n",
    "for index in range(0, len(table_rows)):\n",
    "    first_td = table_rows[index].find_all(\"td\")[0]\n",
    "    td_url = first_td.find_all(\"a\")\n",
    "    if len(td_url) > 0:\n",
    "        page_url = page_url_base + td_url[0].get(\"href\")\n",
    "        if \"png\" not in page_url:\n",
    "            page_urls.append(page_url)\n",
    "\n",
    "# 중복 url을 제거\n",
    "page_urls = list(set(page_urls))\n",
    "for page in page_urls[:3]:\n",
    "    print(page)\n",
    "    \n",
    "# 크롤링에 사용한 브라우저를 종료\n",
    "driver.close()"
   ]
  },
  {
   "cell_type": "code",
   "execution_count": 34,
   "id": "d70b5f71-9f00-451e-9f28-8c655487e6ee",
   "metadata": {},
   "outputs": [
    {
     "name": "stdout",
     "output_type": "stream",
     "text": [
      "후지에다 아야메 \n",
      "\n",
      "\n",
      "사쿠라 대전 시리즈\n",
      "\n",
      "\n",
      "1. 프로필2. 설명藤枝あやめ생년월일: 1899년 7월 31일 (23세)키: 163cm몸무게: 46kg혈액형: AB출생지: 도쿄사쿠라 대전의 등장인물. 성우는 오리카사 아이/이향숙.제국화격단의 부사령관으로 사령관인 요네다 잇키와 같은 부대인 대강마부대 소속이었다. 제국화격단의 어머니라 할 수 있는 인물로, 미국에서 히트맨으로 일하던 마리아 타치바나를 제국화격단으로 스카웃하여 그 토대를 만들었다. 총과 합기도의 명수이며 제국화격단 관련 인물 중에서는 요네다 사령관 다음으로 나이가 많았다.1편 2화에서 첫 등장. 사고로 밤을 새워 무대를 고치던 중 손가락을 다친 오오가미 이치로 앞에 나타났다.[1]이후로는 부사령관으로서 전투시 도움을 주며, 오오가미에게 여러가지 충고[2]를 해주며 여러가지 도움을 주었다. 오오가미가 지금의 모습으로 있게 해준 장본인.이 문서에 스포일러가 포함되어 있습니다.이 문서가 설명하는 작품이나 인물 등에 대한 줄거리, 결말, 반전 요소 등을 직·간접적으로 포함하고 있습니다.제국극장에는 소유자의 힘을 증폭시키는 마신기[3]가 보관되고 있었는데 오오가미와 2명이서 화격단의 멤버들에는 비밀로 하고 경비를 맡았다. 누군가의 목소리를 듣고 계속해서 괴로워하다가, 자신의 신변에 무슨 일이 생길거라는 걸 알고 오오가미에게 자신이 쓰던 총을 주며, 자기에게 무슨 일이 생기면 그 총으로 자신을 쏘라는 부탁을 한다.그리고 극장을 습격한 적들을 모두 물리쳤을 때 누군가에게 조종당하듯이 마신기를 꺼냈고 아오이사탄에게 붙들리는데 이 때 오오가미가 그녀에게 받은 총으로 아야메를 쏜다. 이 때 아오이 사탄이 그녀에게 키스를 해 강마 아야메(殺女)로 되살아나고 만다.황혼의 3기사인 이노, 시카, 쵸가 차례로 격파당하고 성마성에 화격단이 쳐들어오자 앞을 가로막는다. 이 때 호감도가 가장 높은 히로인만이 끝까지 오오가미와 동행하며, 남은 히로인들은 한 명씩 자동으로 리타이어 당한다.[4] 그렇게 오오가미와의 1:1에서 패배한 후 자신을 처치하는 것을 망설이는 오오가미에게 \"제법이군... 자! 어서 그 손으로 날 죽여라!\"라고 하는데 오오가미가 휘두르지 않아도 결국은 아오이 사탄이 아야메를 죽여버린다.오오가미에게 격파되고 아오이사탄이 성마성에 있던 어둠의 힘으로 사탄으로서 각성하자 자신의 진정한 모습인 미카엘로 부활하여 리타이어한 화격단 멤버들을 모두 살려주고, 사탄의 약점을 가르쳐주어 그를 쓰러뜨리도록 도왔다.힘을 잃은 사탄의 앞에 나타나 자신과 함께 돌아가자고 하지만, 그는 인간을 증오하는 저주를 퍼부으며 그 자리에서 소멸해버렸다. 이 때 오오가미에게 살아있었을 때처럼 이마를 손가락으로 짚으며 '기운내라.'(しっかりしなさい)를 말을 남기고 하늘로 돌아갔다.이 사건은 오오가미에게 큰 상처를 남겨 2에서 아야메의 동생인 후지에다 카에데를 처음 만났을 때 아야메와 닮았다고 생각하며 잠시 괴로워하는 묘사가 있다. 이후 시리즈에서는 카에데나 오오가미, 요네다 중장 회상 속에서 가끔 등장하며, 무대화에서도 1편관련무대에서 오리카사 아이가 아야메로 분장해서 가끔 등장한다.[5] 이후 오리카사 아이는 한동안 동생인 카에데를 연기하다가 PS2 리메이크판에서 7년만에 다시 아야메를 연기.PS2 리메이크판에서는 신뢰도가 충분하다면 엔딩을 볼 수 있다. 로비에 나왔다가 오오가미가 길거리에서 아야메와 야마자키, 그리고 그들이 낳은 아이의 환영을 보는 엔딩. 이 엔딩과 결말때문에 PS2 리메이크판과 2편의 스토리 연결이 완전히 끊기고 말았다.[6]프로젝트 크로스 존에서는 강마 아야메가 적으로서 등장. 가끔식 나타나 주인공 일행에 합류한 오오가미 이치로를 괴롭히지만 결국 후반에는 주인공 일행의 활약에 의해 폭사당한다. 이때 원작처럼 \"오오가미 군, 남자잖아? 기운내야지.\"를 남기고 퇴장.\n"
     ]
    }
   ],
   "source": [
    "# 하나의 최근 변경된 문서를 크롤링한다.\n",
    "\n",
    "# 크롬 드라이버를 사용 (맥은 첫 줄, 윈도우는 두번째 줄 실행)\n",
    "driver = webdriver.Chrome(path)\n",
    "# driver = webdriver.Chrome(executable_path=excutable_path)\n",
    "\n",
    "# 드라이버가 브라우징 할 페이지 소스를 입력\n",
    "driver.get(page_urls[0])\n",
    "req = driver.page_source\n",
    "soup=BeautifulSoup(req, \"html.parser\")\n",
    "contents_table = soup.find(name=\"article\")\n",
    "title = contents_table.find_all(\"h1\")[0]\n",
    "category = contents_table.find_all(\"ul\")[0]\n",
    "content_paragraphs = contents_table.find_all(name=\"div\", attrs={\"class\":\"wiki-paragraph\"})\n",
    "content_corpus_list = []\n",
    "\n",
    "for paragraphs in content_paragraphs:\n",
    "    content_corpus_list.append(paragraphs.text)\n",
    "content_corpus = \"\".join(content_corpus_list)\n",
    "\n",
    "print(title.text)\n",
    "print(\"\\n\")\n",
    "print(category.text)\n",
    "print(\"\\n\")\n",
    "print(content_corpus)\n",
    "\n",
    "# 크롤링에 사용한 브라우저를 종료\n",
    "driver.close()"
   ]
  },
  {
   "cell_type": "code",
   "execution_count": null,
   "id": "f6dda5fb-c815-4545-ab29-b610f0dbafb0",
   "metadata": {},
   "outputs": [],
   "source": []
  }
 ],
 "metadata": {
  "kernelspec": {
   "display_name": "Python 3 (ipykernel)",
   "language": "python",
   "name": "python3"
  },
  "language_info": {
   "codemirror_mode": {
    "name": "ipython",
    "version": 3
   },
   "file_extension": ".py",
   "mimetype": "text/x-python",
   "name": "python",
   "nbconvert_exporter": "python",
   "pygments_lexer": "ipython3",
   "version": "3.8.10"
  }
 },
 "nbformat": 4,
 "nbformat_minor": 5
}
