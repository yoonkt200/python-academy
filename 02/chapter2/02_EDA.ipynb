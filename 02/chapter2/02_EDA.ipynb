{
 "cells": [
  {
   "cell_type": "markdown",
   "id": "363556a5-13aa-4eb1-8a38-d933c5d5022d",
   "metadata": {},
   "source": [
    "## 1. 주문 및 배송 정보 분석하기"
   ]
  },
  {
   "cell_type": "code",
   "execution_count": 223,
   "id": "52a4e0af-7c8f-46f0-97db-2ce725b56b61",
   "metadata": {},
   "outputs": [],
   "source": [
    "# -*- coding: utf-8 -*-\n",
    "\n",
    "%matplotlib inline\n",
    "\n",
    "import pandas as pd\n",
    "import numpy as np\n",
    "import matplotlib.pyplot as plt\n",
    "\n",
    "data_dir = \"../../dataset/\""
   ]
  },
  {
   "cell_type": "code",
   "execution_count": 224,
   "id": "1ac16d35-d2d2-423f-b043-09988f866f16",
   "metadata": {},
   "outputs": [
    {
     "data": {
      "text/html": [
       "<div>\n",
       "<style scoped>\n",
       "    .dataframe tbody tr th:only-of-type {\n",
       "        vertical-align: middle;\n",
       "    }\n",
       "\n",
       "    .dataframe tbody tr th {\n",
       "        vertical-align: top;\n",
       "    }\n",
       "\n",
       "    .dataframe thead th {\n",
       "        text-align: right;\n",
       "    }\n",
       "</style>\n",
       "<table border=\"1\" class=\"dataframe\">\n",
       "  <thead>\n",
       "    <tr style=\"text-align: right;\">\n",
       "      <th></th>\n",
       "      <th>order_id</th>\n",
       "      <th>order_item_id</th>\n",
       "      <th>product_id</th>\n",
       "      <th>seller_id</th>\n",
       "      <th>shipping_limit_date</th>\n",
       "      <th>price</th>\n",
       "      <th>freight_value</th>\n",
       "      <th>customer_id</th>\n",
       "      <th>order_status</th>\n",
       "      <th>order_purchase_timestamp</th>\n",
       "      <th>...</th>\n",
       "      <th>product_width_cm</th>\n",
       "      <th>customer_unique_id</th>\n",
       "      <th>customer_zip_code_prefix</th>\n",
       "      <th>customer_city</th>\n",
       "      <th>customer_state</th>\n",
       "      <th>lat</th>\n",
       "      <th>lng</th>\n",
       "      <th>city</th>\n",
       "      <th>state</th>\n",
       "      <th>product_category_name_english</th>\n",
       "    </tr>\n",
       "  </thead>\n",
       "  <tbody>\n",
       "    <tr>\n",
       "      <th>0</th>\n",
       "      <td>00010242fe8c5a6d1ba2dd792cb16214</td>\n",
       "      <td>1</td>\n",
       "      <td>4244733e06e7ecb4970a6e2683c13e61</td>\n",
       "      <td>48436dade18ac8b2bce089ec2a041202</td>\n",
       "      <td>2017-09-19 09:45:35</td>\n",
       "      <td>58.90</td>\n",
       "      <td>13.29</td>\n",
       "      <td>3ce436f183e68e07877b285a838db11a</td>\n",
       "      <td>delivered</td>\n",
       "      <td>2017-09-13 08:59:02</td>\n",
       "      <td>...</td>\n",
       "      <td>14.0</td>\n",
       "      <td>871766c5855e863f6eccc05f988b23cb</td>\n",
       "      <td>28013</td>\n",
       "      <td>campos dos goytacazes</td>\n",
       "      <td>RJ</td>\n",
       "      <td>-21.762775</td>\n",
       "      <td>-41.309633</td>\n",
       "      <td>campos dos goytacazes</td>\n",
       "      <td>RJ</td>\n",
       "      <td>cool_stuff</td>\n",
       "    </tr>\n",
       "    <tr>\n",
       "      <th>1</th>\n",
       "      <td>00018f77f2f0320c557190d7a144bdd3</td>\n",
       "      <td>1</td>\n",
       "      <td>e5f2d52b802189ee658865ca93d83a8f</td>\n",
       "      <td>dd7ddc04e1b6c2c614352b383efe2d36</td>\n",
       "      <td>2017-05-03 11:05:13</td>\n",
       "      <td>239.90</td>\n",
       "      <td>19.93</td>\n",
       "      <td>f6dd3ec061db4e3987629fe6b26e5cce</td>\n",
       "      <td>delivered</td>\n",
       "      <td>2017-04-26 10:53:06</td>\n",
       "      <td>...</td>\n",
       "      <td>40.0</td>\n",
       "      <td>eb28e67c4c0b83846050ddfb8a35d051</td>\n",
       "      <td>15775</td>\n",
       "      <td>santa fe do sul</td>\n",
       "      <td>SP</td>\n",
       "      <td>-20.220527</td>\n",
       "      <td>-50.903424</td>\n",
       "      <td>santa fe do sul</td>\n",
       "      <td>SP</td>\n",
       "      <td>pet_shop</td>\n",
       "    </tr>\n",
       "    <tr>\n",
       "      <th>2</th>\n",
       "      <td>000229ec398224ef6ca0657da4fc703e</td>\n",
       "      <td>1</td>\n",
       "      <td>c777355d18b72b67abbeef9df44fd0fd</td>\n",
       "      <td>5b51032eddd242adc84c38acab88f23d</td>\n",
       "      <td>2018-01-18 14:48:30</td>\n",
       "      <td>199.00</td>\n",
       "      <td>17.87</td>\n",
       "      <td>6489ae5e4333f3693df5ad4372dab6d3</td>\n",
       "      <td>delivered</td>\n",
       "      <td>2018-01-14 14:33:31</td>\n",
       "      <td>...</td>\n",
       "      <td>33.0</td>\n",
       "      <td>3818d81c6709e39d06b2738a8d3a2474</td>\n",
       "      <td>35661</td>\n",
       "      <td>para de minas</td>\n",
       "      <td>MG</td>\n",
       "      <td>-19.870305</td>\n",
       "      <td>-44.593326</td>\n",
       "      <td>pará de minas</td>\n",
       "      <td>MG</td>\n",
       "      <td>furniture_decor</td>\n",
       "    </tr>\n",
       "    <tr>\n",
       "      <th>3</th>\n",
       "      <td>00024acbcdf0a6daa1e931b038114c75</td>\n",
       "      <td>1</td>\n",
       "      <td>7634da152a4610f1595efa32f14722fc</td>\n",
       "      <td>9d7a1d34a5052409006425275ba1c2b4</td>\n",
       "      <td>2018-08-15 10:10:18</td>\n",
       "      <td>12.99</td>\n",
       "      <td>12.79</td>\n",
       "      <td>d4eb9395c8c0431ee92fce09860c5a06</td>\n",
       "      <td>delivered</td>\n",
       "      <td>2018-08-08 10:00:35</td>\n",
       "      <td>...</td>\n",
       "      <td>15.0</td>\n",
       "      <td>af861d436cfc08b2c2ddefd0ba074622</td>\n",
       "      <td>12952</td>\n",
       "      <td>atibaia</td>\n",
       "      <td>SP</td>\n",
       "      <td>-23.089925</td>\n",
       "      <td>-46.611654</td>\n",
       "      <td>atibaia</td>\n",
       "      <td>SP</td>\n",
       "      <td>perfumery</td>\n",
       "    </tr>\n",
       "    <tr>\n",
       "      <th>4</th>\n",
       "      <td>00042b26cf59d7ce69dfabb4e55b4fd9</td>\n",
       "      <td>1</td>\n",
       "      <td>ac6c3623068f30de03045865e4e10089</td>\n",
       "      <td>df560393f3a51e74553ab94004ba5c87</td>\n",
       "      <td>2017-02-13 13:57:51</td>\n",
       "      <td>199.90</td>\n",
       "      <td>18.14</td>\n",
       "      <td>58dbd0b2d70206bf40e62cd34e84d795</td>\n",
       "      <td>delivered</td>\n",
       "      <td>2017-02-04 13:57:51</td>\n",
       "      <td>...</td>\n",
       "      <td>30.0</td>\n",
       "      <td>64b576fb70d441e8f1b2d7d446e483c5</td>\n",
       "      <td>13226</td>\n",
       "      <td>varzea paulista</td>\n",
       "      <td>SP</td>\n",
       "      <td>-23.243402</td>\n",
       "      <td>-46.827614</td>\n",
       "      <td>varzea paulista</td>\n",
       "      <td>SP</td>\n",
       "      <td>garden_tools</td>\n",
       "    </tr>\n",
       "  </tbody>\n",
       "</table>\n",
       "<p>5 rows × 31 columns</p>\n",
       "</div>"
      ],
      "text/plain": [
       "                           order_id  order_item_id  \\\n",
       "0  00010242fe8c5a6d1ba2dd792cb16214              1   \n",
       "1  00018f77f2f0320c557190d7a144bdd3              1   \n",
       "2  000229ec398224ef6ca0657da4fc703e              1   \n",
       "3  00024acbcdf0a6daa1e931b038114c75              1   \n",
       "4  00042b26cf59d7ce69dfabb4e55b4fd9              1   \n",
       "\n",
       "                         product_id                         seller_id  \\\n",
       "0  4244733e06e7ecb4970a6e2683c13e61  48436dade18ac8b2bce089ec2a041202   \n",
       "1  e5f2d52b802189ee658865ca93d83a8f  dd7ddc04e1b6c2c614352b383efe2d36   \n",
       "2  c777355d18b72b67abbeef9df44fd0fd  5b51032eddd242adc84c38acab88f23d   \n",
       "3  7634da152a4610f1595efa32f14722fc  9d7a1d34a5052409006425275ba1c2b4   \n",
       "4  ac6c3623068f30de03045865e4e10089  df560393f3a51e74553ab94004ba5c87   \n",
       "\n",
       "   shipping_limit_date   price  freight_value  \\\n",
       "0  2017-09-19 09:45:35   58.90          13.29   \n",
       "1  2017-05-03 11:05:13  239.90          19.93   \n",
       "2  2018-01-18 14:48:30  199.00          17.87   \n",
       "3  2018-08-15 10:10:18   12.99          12.79   \n",
       "4  2017-02-13 13:57:51  199.90          18.14   \n",
       "\n",
       "                        customer_id order_status order_purchase_timestamp  \\\n",
       "0  3ce436f183e68e07877b285a838db11a    delivered      2017-09-13 08:59:02   \n",
       "1  f6dd3ec061db4e3987629fe6b26e5cce    delivered      2017-04-26 10:53:06   \n",
       "2  6489ae5e4333f3693df5ad4372dab6d3    delivered      2018-01-14 14:33:31   \n",
       "3  d4eb9395c8c0431ee92fce09860c5a06    delivered      2018-08-08 10:00:35   \n",
       "4  58dbd0b2d70206bf40e62cd34e84d795    delivered      2017-02-04 13:57:51   \n",
       "\n",
       "   ... product_width_cm                customer_unique_id  \\\n",
       "0  ...             14.0  871766c5855e863f6eccc05f988b23cb   \n",
       "1  ...             40.0  eb28e67c4c0b83846050ddfb8a35d051   \n",
       "2  ...             33.0  3818d81c6709e39d06b2738a8d3a2474   \n",
       "3  ...             15.0  af861d436cfc08b2c2ddefd0ba074622   \n",
       "4  ...             30.0  64b576fb70d441e8f1b2d7d446e483c5   \n",
       "\n",
       "  customer_zip_code_prefix          customer_city customer_state        lat  \\\n",
       "0                    28013  campos dos goytacazes             RJ -21.762775   \n",
       "1                    15775        santa fe do sul             SP -20.220527   \n",
       "2                    35661          para de minas             MG -19.870305   \n",
       "3                    12952                atibaia             SP -23.089925   \n",
       "4                    13226        varzea paulista             SP -23.243402   \n",
       "\n",
       "         lng                   city  state  product_category_name_english  \n",
       "0 -41.309633  campos dos goytacazes     RJ                     cool_stuff  \n",
       "1 -50.903424        santa fe do sul     SP                       pet_shop  \n",
       "2 -44.593326          pará de minas     MG                furniture_decor  \n",
       "3 -46.611654                atibaia     SP                      perfumery  \n",
       "4 -46.827614        varzea paulista     SP                   garden_tools  \n",
       "\n",
       "[5 rows x 31 columns]"
      ]
     },
     "execution_count": 224,
     "metadata": {},
     "output_type": "execute_result"
    }
   ],
   "source": [
    "# 필요한 데이터셋 목록\n",
    "order_df = pd.read_csv(data_dir + \"olist_order_items_dataset.csv\")\n",
    "shipping_df = pd.read_csv(data_dir + \"olist_orders_dataset.csv\")\n",
    "product_df = pd.read_csv(data_dir + \"olist_products_dataset.csv\")\n",
    "user_df = pd.read_csv(data_dir + \"olist_customers_dataset.csv\")\n",
    "location_df = pd.read_csv(data_dir + \"olist_geolocation_dataset.csv\")\n",
    "product_category_df = pd.read_csv(data_dir + \"product_category_name_translation.csv\")\n",
    "\n",
    "# 배송 정보 병합\n",
    "order_df['order_id'] = order_df['order_id'].astype(str)\n",
    "shipping_df['order_id'] = shipping_df['order_id'].astype(str)\n",
    "order_df = order_df.merge(shipping_df, how='left', on='order_id')\n",
    "\n",
    "# 상품 정보 병합\n",
    "order_df['product_id'] = order_df['product_id'].astype(str)\n",
    "product_df['product_id'] = product_df['product_id'].astype(str)\n",
    "order_df = order_df.merge(product_df, how='left', on='product_id')\n",
    "\n",
    "# 유저 정보 병합\n",
    "order_df['customer_id'] = order_df['customer_id'].astype(str)\n",
    "user_df['customer_id'] = user_df['customer_id'].astype(str)\n",
    "order_df = order_df.merge(user_df, how='left', on='customer_id')\n",
    "\n",
    "# 위치 정보 병합\n",
    "order_df['customer_zip_code_prefix'] = order_df['customer_zip_code_prefix'].astype(str)\n",
    "location_df['geolocation_zip_code_prefix'] = location_df['geolocation_zip_code_prefix'].astype(str)\n",
    "location_df.columns = ['customer_zip_code_prefix', 'lat', 'lng', 'city', 'state']\n",
    "location_df = location_df.groupby('customer_zip_code_prefix').agg({'lat': 'mean', 'lng': 'mean', 'city': 'first', 'state': 'first'}).reset_index()\n",
    "order_df = order_df.merge(location_df, how='left', on='customer_zip_code_prefix')\n",
    "\n",
    "# 상품 카테고리 정보 병합\n",
    "order_df['product_category_name'] = order_df['product_category_name'].astype(str)\n",
    "product_category_df['product_category_name'] = product_category_df['product_category_name'].astype(str)\n",
    "order_df = order_df.merge(product_category_df, how='left', on='product_category_name')\n",
    "order_df.head()"
   ]
  },
  {
   "cell_type": "markdown",
   "id": "40b72b77-4e0b-40b2-9579-a2dd943cf858",
   "metadata": {},
   "source": [
    "----\n",
    "### 1) 분석에 필요한 피처 정리하기"
   ]
  },
  {
   "cell_type": "markdown",
   "id": "9f6ee276-2e3a-4ac4-a95f-6d970702318e",
   "metadata": {},
   "source": [
    "1. 시간대별 주문 데이터 분석\n",
    "    - 시간대별 주문 분석 -> `order_purchase_timestamp`\n",
    "    - 시간대별 주문 지역 분석 -> `order_purchase_timestamp, customer_city`\n",
    "2. 주문 상품의 카테고리 분석\n",
    "    - 주문 데이터에서 상품의 카테고리 비율 분석하기 -> `product_category_name`\n",
    "    - 시간대별 주문 상품 카테고리 분석 (ex. 밤에 많이 사는 상품군) -> `order_purchase_timestamp, product_category_name`\n",
    "    - 일자/요일별 주문 상품 카테고리 분석 (ex. 일요일에 많이 사는 상품군) -> `order_purchase_timestamp, product_category_name`\n",
    "3. 배송 데이터 분석\n",
    "    - 평균 배송 시간 분석 -> `order_purchase_timestamp, order_delivered_customer_date`\n",
    "    - 지역에 따른 배송 시간 분석 -> `customer_city, order_purchase_timestamp, order_delivered_customer_date`\n",
    "    - 예상 배송일과 실제 배송일간의 차이 분석 -> `order_estimated_delivery_date, order_delivered_customer_date`\n",
    "    - 상품 카테고리별 평균 배송 시간 분석 -> `order_purchase_timestamp, order_delivered_customer_date, product_category_name`"
   ]
  },
  {
   "cell_type": "code",
   "execution_count": 225,
   "id": "db05aa88-0982-4a07-8b00-26c678540676",
   "metadata": {},
   "outputs": [
    {
     "data": {
      "text/plain": [
       "Index(['order_id', 'order_item_id', 'product_id', 'seller_id',\n",
       "       'shipping_limit_date', 'price', 'freight_value', 'customer_id',\n",
       "       'order_status', 'order_purchase_timestamp', 'order_approved_at',\n",
       "       'order_delivered_carrier_date', 'order_delivered_customer_date',\n",
       "       'order_estimated_delivery_date', 'product_category_name',\n",
       "       'product_name_lenght', 'product_description_lenght',\n",
       "       'product_photos_qty', 'product_weight_g', 'product_length_cm',\n",
       "       'product_height_cm', 'product_width_cm', 'customer_unique_id',\n",
       "       'customer_zip_code_prefix', 'customer_city', 'customer_state', 'lat',\n",
       "       'lng', 'city', 'state', 'product_category_name_english'],\n",
       "      dtype='object')"
      ]
     },
     "execution_count": 225,
     "metadata": {},
     "output_type": "execute_result"
    }
   ],
   "source": [
    "order_df.columns"
   ]
  },
  {
   "cell_type": "code",
   "execution_count": 226,
   "id": "ca573bc0-2807-47e8-bfe4-4dd09d196c9c",
   "metadata": {},
   "outputs": [],
   "source": [
    "anal_columns = ['order_id', 'product_id', 'customer_id',  # 기본 id 정보들\n",
    "                'order_purchase_timestamp', 'customer_city', 'product_category_name', 'order_approved_at',\n",
    "                'order_delivered_customer_date', 'order_estimated_delivery_date',\n",
    "                'order_status',  # 필터링에 사용되는 정보\n",
    "                'price']  # 시각화용 정보\n",
    "order_df = order_df[anal_columns]"
   ]
  },
  {
   "cell_type": "code",
   "execution_count": 227,
   "id": "a025ef7e-cbcb-4f59-91a5-0fe05ecb52f5",
   "metadata": {},
   "outputs": [
    {
     "data": {
      "text/html": [
       "<div>\n",
       "<style scoped>\n",
       "    .dataframe tbody tr th:only-of-type {\n",
       "        vertical-align: middle;\n",
       "    }\n",
       "\n",
       "    .dataframe tbody tr th {\n",
       "        vertical-align: top;\n",
       "    }\n",
       "\n",
       "    .dataframe thead th {\n",
       "        text-align: right;\n",
       "    }\n",
       "</style>\n",
       "<table border=\"1\" class=\"dataframe\">\n",
       "  <thead>\n",
       "    <tr style=\"text-align: right;\">\n",
       "      <th></th>\n",
       "      <th>order_id</th>\n",
       "      <th>product_id</th>\n",
       "      <th>customer_id</th>\n",
       "      <th>order_purchase_timestamp</th>\n",
       "      <th>customer_city</th>\n",
       "      <th>product_category_name</th>\n",
       "      <th>order_approved_at</th>\n",
       "      <th>order_delivered_customer_date</th>\n",
       "      <th>order_estimated_delivery_date</th>\n",
       "      <th>order_status</th>\n",
       "      <th>price</th>\n",
       "    </tr>\n",
       "  </thead>\n",
       "  <tbody>\n",
       "    <tr>\n",
       "      <th>0</th>\n",
       "      <td>00010242fe8c5a6d1ba2dd792cb16214</td>\n",
       "      <td>4244733e06e7ecb4970a6e2683c13e61</td>\n",
       "      <td>3ce436f183e68e07877b285a838db11a</td>\n",
       "      <td>2017-09-13 08:59:02</td>\n",
       "      <td>campos dos goytacazes</td>\n",
       "      <td>cool_stuff</td>\n",
       "      <td>2017-09-13 09:45:35</td>\n",
       "      <td>2017-09-20 23:43:48</td>\n",
       "      <td>2017-09-29 00:00:00</td>\n",
       "      <td>delivered</td>\n",
       "      <td>58.90</td>\n",
       "    </tr>\n",
       "    <tr>\n",
       "      <th>1</th>\n",
       "      <td>00018f77f2f0320c557190d7a144bdd3</td>\n",
       "      <td>e5f2d52b802189ee658865ca93d83a8f</td>\n",
       "      <td>f6dd3ec061db4e3987629fe6b26e5cce</td>\n",
       "      <td>2017-04-26 10:53:06</td>\n",
       "      <td>santa fe do sul</td>\n",
       "      <td>pet_shop</td>\n",
       "      <td>2017-04-26 11:05:13</td>\n",
       "      <td>2017-05-12 16:04:24</td>\n",
       "      <td>2017-05-15 00:00:00</td>\n",
       "      <td>delivered</td>\n",
       "      <td>239.90</td>\n",
       "    </tr>\n",
       "    <tr>\n",
       "      <th>2</th>\n",
       "      <td>000229ec398224ef6ca0657da4fc703e</td>\n",
       "      <td>c777355d18b72b67abbeef9df44fd0fd</td>\n",
       "      <td>6489ae5e4333f3693df5ad4372dab6d3</td>\n",
       "      <td>2018-01-14 14:33:31</td>\n",
       "      <td>para de minas</td>\n",
       "      <td>moveis_decoracao</td>\n",
       "      <td>2018-01-14 14:48:30</td>\n",
       "      <td>2018-01-22 13:19:16</td>\n",
       "      <td>2018-02-05 00:00:00</td>\n",
       "      <td>delivered</td>\n",
       "      <td>199.00</td>\n",
       "    </tr>\n",
       "    <tr>\n",
       "      <th>3</th>\n",
       "      <td>00024acbcdf0a6daa1e931b038114c75</td>\n",
       "      <td>7634da152a4610f1595efa32f14722fc</td>\n",
       "      <td>d4eb9395c8c0431ee92fce09860c5a06</td>\n",
       "      <td>2018-08-08 10:00:35</td>\n",
       "      <td>atibaia</td>\n",
       "      <td>perfumaria</td>\n",
       "      <td>2018-08-08 10:10:18</td>\n",
       "      <td>2018-08-14 13:32:39</td>\n",
       "      <td>2018-08-20 00:00:00</td>\n",
       "      <td>delivered</td>\n",
       "      <td>12.99</td>\n",
       "    </tr>\n",
       "    <tr>\n",
       "      <th>4</th>\n",
       "      <td>00042b26cf59d7ce69dfabb4e55b4fd9</td>\n",
       "      <td>ac6c3623068f30de03045865e4e10089</td>\n",
       "      <td>58dbd0b2d70206bf40e62cd34e84d795</td>\n",
       "      <td>2017-02-04 13:57:51</td>\n",
       "      <td>varzea paulista</td>\n",
       "      <td>ferramentas_jardim</td>\n",
       "      <td>2017-02-04 14:10:13</td>\n",
       "      <td>2017-03-01 16:42:31</td>\n",
       "      <td>2017-03-17 00:00:00</td>\n",
       "      <td>delivered</td>\n",
       "      <td>199.90</td>\n",
       "    </tr>\n",
       "  </tbody>\n",
       "</table>\n",
       "</div>"
      ],
      "text/plain": [
       "                           order_id                        product_id  \\\n",
       "0  00010242fe8c5a6d1ba2dd792cb16214  4244733e06e7ecb4970a6e2683c13e61   \n",
       "1  00018f77f2f0320c557190d7a144bdd3  e5f2d52b802189ee658865ca93d83a8f   \n",
       "2  000229ec398224ef6ca0657da4fc703e  c777355d18b72b67abbeef9df44fd0fd   \n",
       "3  00024acbcdf0a6daa1e931b038114c75  7634da152a4610f1595efa32f14722fc   \n",
       "4  00042b26cf59d7ce69dfabb4e55b4fd9  ac6c3623068f30de03045865e4e10089   \n",
       "\n",
       "                        customer_id order_purchase_timestamp  \\\n",
       "0  3ce436f183e68e07877b285a838db11a      2017-09-13 08:59:02   \n",
       "1  f6dd3ec061db4e3987629fe6b26e5cce      2017-04-26 10:53:06   \n",
       "2  6489ae5e4333f3693df5ad4372dab6d3      2018-01-14 14:33:31   \n",
       "3  d4eb9395c8c0431ee92fce09860c5a06      2018-08-08 10:00:35   \n",
       "4  58dbd0b2d70206bf40e62cd34e84d795      2017-02-04 13:57:51   \n",
       "\n",
       "           customer_city product_category_name    order_approved_at  \\\n",
       "0  campos dos goytacazes            cool_stuff  2017-09-13 09:45:35   \n",
       "1        santa fe do sul              pet_shop  2017-04-26 11:05:13   \n",
       "2          para de minas      moveis_decoracao  2018-01-14 14:48:30   \n",
       "3                atibaia            perfumaria  2018-08-08 10:10:18   \n",
       "4        varzea paulista    ferramentas_jardim  2017-02-04 14:10:13   \n",
       "\n",
       "  order_delivered_customer_date order_estimated_delivery_date order_status  \\\n",
       "0           2017-09-20 23:43:48           2017-09-29 00:00:00    delivered   \n",
       "1           2017-05-12 16:04:24           2017-05-15 00:00:00    delivered   \n",
       "2           2018-01-22 13:19:16           2018-02-05 00:00:00    delivered   \n",
       "3           2018-08-14 13:32:39           2018-08-20 00:00:00    delivered   \n",
       "4           2017-03-01 16:42:31           2017-03-17 00:00:00    delivered   \n",
       "\n",
       "    price  \n",
       "0   58.90  \n",
       "1  239.90  \n",
       "2  199.00  \n",
       "3   12.99  \n",
       "4  199.90  "
      ]
     },
     "execution_count": 227,
     "metadata": {},
     "output_type": "execute_result"
    }
   ],
   "source": [
    "order_df.head()"
   ]
  },
  {
   "cell_type": "code",
   "execution_count": 228,
   "id": "56d53096-df26-48c8-819e-0ef8273313dd",
   "metadata": {},
   "outputs": [
    {
     "name": "stdout",
     "output_type": "stream",
     "text": [
      "<class 'pandas.core.frame.DataFrame'>\n",
      "Int64Index: 112650 entries, 0 to 112649\n",
      "Data columns (total 11 columns):\n",
      " #   Column                         Non-Null Count   Dtype  \n",
      "---  ------                         --------------   -----  \n",
      " 0   order_id                       112650 non-null  object \n",
      " 1   product_id                     112650 non-null  object \n",
      " 2   customer_id                    112650 non-null  object \n",
      " 3   order_purchase_timestamp       112650 non-null  object \n",
      " 4   customer_city                  112650 non-null  object \n",
      " 5   product_category_name          112650 non-null  object \n",
      " 6   order_approved_at              112635 non-null  object \n",
      " 7   order_delivered_customer_date  110196 non-null  object \n",
      " 8   order_estimated_delivery_date  112650 non-null  object \n",
      " 9   order_status                   112650 non-null  object \n",
      " 10  price                          112650 non-null  float64\n",
      "dtypes: float64(1), object(10)\n",
      "memory usage: 10.3+ MB\n"
     ]
    }
   ],
   "source": [
    "order_df.info()"
   ]
  },
  {
   "cell_type": "code",
   "execution_count": 229,
   "id": "c3eeb8bb-98f2-4abf-bd02-916b275d9795",
   "metadata": {},
   "outputs": [
    {
     "data": {
      "text/plain": [
       "order_id                            0\n",
       "product_id                          0\n",
       "customer_id                         0\n",
       "order_purchase_timestamp            0\n",
       "customer_city                       0\n",
       "product_category_name               0\n",
       "order_approved_at                  15\n",
       "order_delivered_customer_date    2454\n",
       "order_estimated_delivery_date       0\n",
       "order_status                        0\n",
       "price                               0\n",
       "dtype: int64"
      ]
     },
     "execution_count": 229,
     "metadata": {},
     "output_type": "execute_result"
    }
   ],
   "source": [
    "order_df.isnull().sum()"
   ]
  },
  {
   "cell_type": "code",
   "execution_count": 230,
   "id": "13351806-586f-48bb-86e1-8f83d4122cb3",
   "metadata": {},
   "outputs": [
    {
     "data": {
      "text/plain": [
       "delivered      110197\n",
       "shipped          1185\n",
       "canceled          542\n",
       "invoiced          359\n",
       "processing        357\n",
       "unavailable         7\n",
       "approved            3\n",
       "Name: order_status, dtype: int64"
      ]
     },
     "execution_count": 230,
     "metadata": {},
     "output_type": "execute_result"
    }
   ],
   "source": [
    "order_df['order_status'].value_counts()"
   ]
  },
  {
   "cell_type": "markdown",
   "id": "918eef48-8801-4663-85a3-631c0c1674dd",
   "metadata": {},
   "source": [
    "----\n",
    "### 2) 데이터 전처리"
   ]
  },
  {
   "cell_type": "code",
   "execution_count": 231,
   "id": "e2061c60-d91c-4752-8b04-3544a47d1b3b",
   "metadata": {},
   "outputs": [
    {
     "data": {
      "text/plain": [
       "delivered    110197\n",
       "Name: order_status, dtype: int64"
      ]
     },
     "execution_count": 231,
     "metadata": {},
     "output_type": "execute_result"
    }
   ],
   "source": [
    "order_df = order_df[order_df['order_status']=='delivered']\n",
    "order_df['order_status'].value_counts()"
   ]
  },
  {
   "cell_type": "code",
   "execution_count": 232,
   "id": "a2710e44-b480-4118-a64c-82d618348781",
   "metadata": {},
   "outputs": [
    {
     "data": {
      "text/plain": [
       "order_id                         0\n",
       "product_id                       0\n",
       "customer_id                      0\n",
       "order_purchase_timestamp         0\n",
       "customer_city                    0\n",
       "product_category_name            0\n",
       "order_approved_at                0\n",
       "order_delivered_customer_date    0\n",
       "order_estimated_delivery_date    0\n",
       "order_status                     0\n",
       "price                            0\n",
       "dtype: int64"
      ]
     },
     "execution_count": 232,
     "metadata": {},
     "output_type": "execute_result"
    }
   ],
   "source": [
    "order_df = order_df.dropna()\n",
    "order_df.isnull().sum()"
   ]
  },
  {
   "cell_type": "code",
   "execution_count": 233,
   "id": "bbf06a98-ffa0-435b-aae7-0dccd87c92b6",
   "metadata": {},
   "outputs": [
    {
     "name": "stdout",
     "output_type": "stream",
     "text": [
      "<class 'pandas.core.frame.DataFrame'>\n",
      "Int64Index: 110174 entries, 0 to 112649\n",
      "Data columns (total 11 columns):\n",
      " #   Column                         Non-Null Count   Dtype  \n",
      "---  ------                         --------------   -----  \n",
      " 0   order_id                       110174 non-null  object \n",
      " 1   product_id                     110174 non-null  object \n",
      " 2   customer_id                    110174 non-null  object \n",
      " 3   order_purchase_timestamp       110174 non-null  object \n",
      " 4   customer_city                  110174 non-null  object \n",
      " 5   product_category_name          110174 non-null  object \n",
      " 6   order_approved_at              110174 non-null  object \n",
      " 7   order_delivered_customer_date  110174 non-null  object \n",
      " 8   order_estimated_delivery_date  110174 non-null  object \n",
      " 9   order_status                   110174 non-null  object \n",
      " 10  price                          110174 non-null  float64\n",
      "dtypes: float64(1), object(10)\n",
      "memory usage: 10.1+ MB\n"
     ]
    }
   ],
   "source": [
    "order_df.info()"
   ]
  },
  {
   "cell_type": "code",
   "execution_count": 234,
   "id": "6282452a-15b0-4736-9d51-0f2bf06f04eb",
   "metadata": {},
   "outputs": [
    {
     "data": {
      "text/html": [
       "<div>\n",
       "<style scoped>\n",
       "    .dataframe tbody tr th:only-of-type {\n",
       "        vertical-align: middle;\n",
       "    }\n",
       "\n",
       "    .dataframe tbody tr th {\n",
       "        vertical-align: top;\n",
       "    }\n",
       "\n",
       "    .dataframe thead th {\n",
       "        text-align: right;\n",
       "    }\n",
       "</style>\n",
       "<table border=\"1\" class=\"dataframe\">\n",
       "  <thead>\n",
       "    <tr style=\"text-align: right;\">\n",
       "      <th></th>\n",
       "      <th>order_purchase_timestamp</th>\n",
       "      <th>order_approved_at</th>\n",
       "      <th>order_delivered_customer_date</th>\n",
       "      <th>order_estimated_delivery_date</th>\n",
       "    </tr>\n",
       "  </thead>\n",
       "  <tbody>\n",
       "    <tr>\n",
       "      <th>0</th>\n",
       "      <td>2017-09-13 08:59:02</td>\n",
       "      <td>2017-09-13 09:45:35</td>\n",
       "      <td>2017-09-20 23:43:48</td>\n",
       "      <td>2017-09-29 00:00:00</td>\n",
       "    </tr>\n",
       "    <tr>\n",
       "      <th>1</th>\n",
       "      <td>2017-04-26 10:53:06</td>\n",
       "      <td>2017-04-26 11:05:13</td>\n",
       "      <td>2017-05-12 16:04:24</td>\n",
       "      <td>2017-05-15 00:00:00</td>\n",
       "    </tr>\n",
       "    <tr>\n",
       "      <th>2</th>\n",
       "      <td>2018-01-14 14:33:31</td>\n",
       "      <td>2018-01-14 14:48:30</td>\n",
       "      <td>2018-01-22 13:19:16</td>\n",
       "      <td>2018-02-05 00:00:00</td>\n",
       "    </tr>\n",
       "    <tr>\n",
       "      <th>3</th>\n",
       "      <td>2018-08-08 10:00:35</td>\n",
       "      <td>2018-08-08 10:10:18</td>\n",
       "      <td>2018-08-14 13:32:39</td>\n",
       "      <td>2018-08-20 00:00:00</td>\n",
       "    </tr>\n",
       "    <tr>\n",
       "      <th>4</th>\n",
       "      <td>2017-02-04 13:57:51</td>\n",
       "      <td>2017-02-04 14:10:13</td>\n",
       "      <td>2017-03-01 16:42:31</td>\n",
       "      <td>2017-03-17 00:00:00</td>\n",
       "    </tr>\n",
       "    <tr>\n",
       "      <th>...</th>\n",
       "      <td>...</td>\n",
       "      <td>...</td>\n",
       "      <td>...</td>\n",
       "      <td>...</td>\n",
       "    </tr>\n",
       "    <tr>\n",
       "      <th>112645</th>\n",
       "      <td>2018-04-23 13:57:06</td>\n",
       "      <td>2018-04-25 04:11:01</td>\n",
       "      <td>2018-05-10 22:56:40</td>\n",
       "      <td>2018-05-18 00:00:00</td>\n",
       "    </tr>\n",
       "    <tr>\n",
       "      <th>112646</th>\n",
       "      <td>2018-07-14 10:26:46</td>\n",
       "      <td>2018-07-17 04:31:48</td>\n",
       "      <td>2018-07-23 20:31:55</td>\n",
       "      <td>2018-08-01 00:00:00</td>\n",
       "    </tr>\n",
       "    <tr>\n",
       "      <th>112647</th>\n",
       "      <td>2017-10-23 17:07:56</td>\n",
       "      <td>2017-10-24 17:14:25</td>\n",
       "      <td>2017-10-28 12:22:22</td>\n",
       "      <td>2017-11-10 00:00:00</td>\n",
       "    </tr>\n",
       "    <tr>\n",
       "      <th>112648</th>\n",
       "      <td>2017-08-14 23:02:59</td>\n",
       "      <td>2017-08-15 00:04:32</td>\n",
       "      <td>2017-08-16 21:59:40</td>\n",
       "      <td>2017-08-25 00:00:00</td>\n",
       "    </tr>\n",
       "    <tr>\n",
       "      <th>112649</th>\n",
       "      <td>2018-06-09 17:00:18</td>\n",
       "      <td>2018-06-09 17:10:13</td>\n",
       "      <td>2018-06-14 17:56:26</td>\n",
       "      <td>2018-06-28 00:00:00</td>\n",
       "    </tr>\n",
       "  </tbody>\n",
       "</table>\n",
       "<p>110174 rows × 4 columns</p>\n",
       "</div>"
      ],
      "text/plain": [
       "       order_purchase_timestamp    order_approved_at  \\\n",
       "0           2017-09-13 08:59:02  2017-09-13 09:45:35   \n",
       "1           2017-04-26 10:53:06  2017-04-26 11:05:13   \n",
       "2           2018-01-14 14:33:31  2018-01-14 14:48:30   \n",
       "3           2018-08-08 10:00:35  2018-08-08 10:10:18   \n",
       "4           2017-02-04 13:57:51  2017-02-04 14:10:13   \n",
       "...                         ...                  ...   \n",
       "112645      2018-04-23 13:57:06  2018-04-25 04:11:01   \n",
       "112646      2018-07-14 10:26:46  2018-07-17 04:31:48   \n",
       "112647      2017-10-23 17:07:56  2017-10-24 17:14:25   \n",
       "112648      2017-08-14 23:02:59  2017-08-15 00:04:32   \n",
       "112649      2018-06-09 17:00:18  2018-06-09 17:10:13   \n",
       "\n",
       "       order_delivered_customer_date order_estimated_delivery_date  \n",
       "0                2017-09-20 23:43:48           2017-09-29 00:00:00  \n",
       "1                2017-05-12 16:04:24           2017-05-15 00:00:00  \n",
       "2                2018-01-22 13:19:16           2018-02-05 00:00:00  \n",
       "3                2018-08-14 13:32:39           2018-08-20 00:00:00  \n",
       "4                2017-03-01 16:42:31           2017-03-17 00:00:00  \n",
       "...                              ...                           ...  \n",
       "112645           2018-05-10 22:56:40           2018-05-18 00:00:00  \n",
       "112646           2018-07-23 20:31:55           2018-08-01 00:00:00  \n",
       "112647           2017-10-28 12:22:22           2017-11-10 00:00:00  \n",
       "112648           2017-08-16 21:59:40           2017-08-25 00:00:00  \n",
       "112649           2018-06-14 17:56:26           2018-06-28 00:00:00  \n",
       "\n",
       "[110174 rows x 4 columns]"
      ]
     },
     "execution_count": 234,
     "metadata": {},
     "output_type": "execute_result"
    }
   ],
   "source": [
    "order_df[['order_purchase_timestamp', 'order_approved_at', 'order_delivered_customer_date', 'order_estimated_delivery_date']]"
   ]
  },
  {
   "cell_type": "code",
   "execution_count": 235,
   "id": "732b96ea-64cd-4bff-a27c-5f20c749ed63",
   "metadata": {},
   "outputs": [],
   "source": [
    "order_df['order_purchase_timestamp'] = pd.to_datetime(order_df['order_purchase_timestamp'])\n",
    "order_df['order_approved_at'] = pd.to_datetime(order_df['order_approved_at'])\n",
    "order_df['order_delivered_customer_date'] = pd.to_datetime(order_df['order_delivered_customer_date'])\n",
    "order_df['order_estimated_delivery_date'] = pd.to_datetime(order_df['order_estimated_delivery_date'])"
   ]
  },
  {
   "cell_type": "code",
   "execution_count": 236,
   "id": "96ac052c-f79f-4062-b89f-068a5ebe0f90",
   "metadata": {},
   "outputs": [
    {
     "data": {
      "text/plain": [
       "Timestamp('2017-09-13 08:59:02')"
      ]
     },
     "execution_count": 236,
     "metadata": {},
     "output_type": "execute_result"
    }
   ],
   "source": [
    "order_df['order_purchase_timestamp'][0]"
   ]
  },
  {
   "cell_type": "code",
   "execution_count": 237,
   "id": "a09551e8-62df-4d76-8f5c-109e40fb8556",
   "metadata": {},
   "outputs": [
    {
     "data": {
      "text/plain": [
       "2017"
      ]
     },
     "execution_count": 237,
     "metadata": {},
     "output_type": "execute_result"
    }
   ],
   "source": [
    "order_df['order_purchase_timestamp'][0].year"
   ]
  },
  {
   "cell_type": "markdown",
   "id": "51bbba4e-ff35-449c-b18c-fe1f0012bd69",
   "metadata": {},
   "source": [
    "----\n",
    "### 3) 시간대별 주문 데이터 분석"
   ]
  },
  {
   "cell_type": "code",
   "execution_count": 238,
   "id": "4b82e6e4-8be3-47a7-900f-e0b88a032a25",
   "metadata": {},
   "outputs": [
    {
     "data": {
      "text/plain": [
       "Timestamp('2018-08-29 15:00:37')"
      ]
     },
     "execution_count": 238,
     "metadata": {},
     "output_type": "execute_result"
    }
   ],
   "source": [
    "order_df['order_purchase_timestamp'].max()"
   ]
  },
  {
   "cell_type": "code",
   "execution_count": 239,
   "id": "71def3e2-1aa8-4f7e-859c-12923fb6002f",
   "metadata": {},
   "outputs": [
    {
     "data": {
      "text/plain": [
       "Timestamp('2016-09-15 12:16:38')"
      ]
     },
     "execution_count": 239,
     "metadata": {},
     "output_type": "execute_result"
    }
   ],
   "source": [
    "order_df['order_purchase_timestamp'].min()"
   ]
  },
  {
   "cell_type": "code",
   "execution_count": 240,
   "id": "8c6718ca-aed2-48bf-8fb1-df22c5737fff",
   "metadata": {},
   "outputs": [
    {
     "data": {
      "text/plain": [
       "datetime.date(2017, 9, 13)"
      ]
     },
     "execution_count": 240,
     "metadata": {},
     "output_type": "execute_result"
    }
   ],
   "source": [
    "order_df['order_purchase_timestamp'][0].date()"
   ]
  },
  {
   "cell_type": "code",
   "execution_count": 241,
   "id": "1b171097-3fa0-4ad1-8a58-93cf6bb77e4d",
   "metadata": {},
   "outputs": [
    {
     "data": {
      "text/plain": [
       "<AxesSubplot:xlabel='order_purchase_date'>"
      ]
     },
     "execution_count": 241,
     "metadata": {},
     "output_type": "execute_result"
    },
    {
     "data": {
      "image/png": "[encoded data removed]",
      "text/plain": [
       "<Figure size 720x576 with 1 Axes>"
      ]
     },
     "metadata": {
      "needs_background": "light"
     },
     "output_type": "display_data"
    }
   ],
   "source": [
    "order_df['order_purchase_date'] = order_df['order_purchase_timestamp'].apply(lambda x: x.date())\n",
    "plt.rcParams['figure.figsize'] = [10, 8]\n",
    "order_df.groupby('order_purchase_date')['order_id'].count().plot()"
   ]
  },
  {
   "cell_type": "code",
   "execution_count": 242,
   "id": "7bfb4ef0-970b-47f0-bc16-a53c4b429dd3",
   "metadata": {},
   "outputs": [
    {
     "data": {
      "text/plain": [
       "<AxesSubplot:xlabel='order_purchase_hour'>"
      ]
     },
     "execution_count": 242,
     "metadata": {},
     "output_type": "execute_result"
    },
    {
     "data": {
      "image/png": "[encoded data removed]",
      "text/plain": [
       "<Figure size 720x576 with 1 Axes>"
      ]
     },
     "metadata": {
      "needs_background": "light"
     },
     "output_type": "display_data"
    }
   ],
   "source": [
    "order_df['order_purchase_hour'] = order_df['order_purchase_timestamp'].apply(lambda x: x.hour)\n",
    "plt.ticklabel_format(style='plain')\n",
    "plt.rcParams['figure.figsize'] = [10, 8]\n",
    "order_df.groupby('order_purchase_hour')['order_id'].count().plot()"
   ]
  },
  {
   "cell_type": "code",
   "execution_count": 243,
   "id": "47d961f7-5df2-4634-902e-9748b39cceca",
   "metadata": {},
   "outputs": [
    {
     "data": {
      "text/plain": [
       "Timestamp('2017-09-13 08:59:02')"
      ]
     },
     "execution_count": 243,
     "metadata": {},
     "output_type": "execute_result"
    }
   ],
   "source": [
    "order_df['order_purchase_timestamp'][0]"
   ]
  },
  {
   "cell_type": "code",
   "execution_count": 244,
   "id": "0cefdd78-d3d8-450b-a588-e1a61094207d",
   "metadata": {},
   "outputs": [
    {
     "data": {
      "text/plain": [
       "'Wednesday'"
      ]
     },
     "execution_count": 244,
     "metadata": {},
     "output_type": "execute_result"
    }
   ],
   "source": [
    "order_df['order_purchase_timestamp'][0].strftime(\"%A\")"
   ]
  },
  {
   "cell_type": "code",
   "execution_count": 245,
   "id": "036fa829-5de6-4377-9a00-ca58766f31e6",
   "metadata": {},
   "outputs": [
    {
     "data": {
      "image/png": "[encoded data removed]",
      "text/plain": [
       "<Figure size 720x576 with 1 Axes>"
      ]
     },
     "metadata": {
      "needs_background": "light"
     },
     "output_type": "display_data"
    }
   ],
   "source": [
    "order_df['order_purchase_day_name'] = order_df['order_purchase_timestamp'].apply(lambda x: x.strftime(\"%A\"))\n",
    "order_purchase_day_name = order_df.groupby('order_purchase_day_name')['order_id'].count()\n",
    "plt.ticklabel_format(style='plain')\n",
    "plt.bar(order_purchase_day_name.index, order_purchase_day_name.values)\n",
    "plt.show()"
   ]
  },
  {
   "cell_type": "markdown",
   "id": "15ecd1cc-6c73-458b-8a9d-0a2548c3e972",
   "metadata": {},
   "source": [
    "----\n",
    "### 4) 주문 데이터의 상품 및 카테고리 분석"
   ]
  },
  {
   "cell_type": "code",
   "execution_count": 246,
   "id": "28d8a7ac-8d61-494d-98e4-3a6437a07c63",
   "metadata": {},
   "outputs": [
    {
     "data": {
      "text/plain": [
       "32211"
      ]
     },
     "execution_count": 246,
     "metadata": {},
     "output_type": "execute_result"
    }
   ],
   "source": [
    "order_df['product_id'].nunique()"
   ]
  },
  {
   "cell_type": "code",
   "execution_count": 247,
   "id": "4cfef63b-4bbc-43b7-aebf-bca9d729b150",
   "metadata": {},
   "outputs": [
    {
     "data": {
      "text/plain": [
       "aca2eb7d00ea1a7b8ebd4e68314663af    520\n",
       "422879e10f46682990de24d770e7f83d    484\n",
       "99a4788cb24856965c36a24e339b6058    477\n",
       "389d119b48cf3043d311335e499d9c6b    390\n",
       "368c6c730842d78016ad823897a372db    388\n",
       "                                   ... \n",
       "dbbda25f6b7c74669cf2203b2e3139a0      1\n",
       "f4e2a2b20493c1c8e4f3dbf86cb4712a      1\n",
       "9ccccf7b02af879feedd7b7da7a1429a      1\n",
       "05649d71cdf7d7ec2bbd7a717179de0f      1\n",
       "350688d9dc1e75ff97be326363655e01      1\n",
       "Name: product_id, Length: 32211, dtype: int64"
      ]
     },
     "execution_count": 247,
     "metadata": {},
     "output_type": "execute_result"
    }
   ],
   "source": [
    "order_df['product_id'].value_counts()"
   ]
  },
  {
   "cell_type": "code",
   "execution_count": 248,
   "id": "ca5b51f2-d8e4-4fc8-a45f-daf975158d84",
   "metadata": {},
   "outputs": [
    {
     "data": {
      "text/plain": [
       "<AxesSubplot:>"
      ]
     },
     "execution_count": 248,
     "metadata": {},
     "output_type": "execute_result"
    },
    {
     "data": {
      "image/png": "[encoded data removed]",
      "text/plain": [
       "<Figure size 720x576 with 1 Axes>"
      ]
     },
     "metadata": {
      "needs_background": "light"
     },
     "output_type": "display_data"
    }
   ],
   "source": [
    "order_df['product_id'].value_counts().hist(bins=100)"
   ]
  },
  {
   "cell_type": "code",
   "execution_count": 249,
   "id": "78624bd7-ae3c-4f89-b162-4757898c979e",
   "metadata": {},
   "outputs": [
    {
     "data": {
      "text/plain": [
       "{'whiskers': [<matplotlib.lines.Line2D at 0x7f8a9f50d790>,\n",
       "  <matplotlib.lines.Line2D at 0x7f8a9f50db20>],\n",
       " 'caps': [<matplotlib.lines.Line2D at 0x7f8a9f50deb0>,\n",
       "  <matplotlib.lines.Line2D at 0x7f8a9f4f6280>],\n",
       " 'boxes': [<matplotlib.lines.Line2D at 0x7f8a2d6d8250>],\n",
       " 'medians': [<matplotlib.lines.Line2D at 0x7f8a9f4f6610>],\n",
       " 'fliers': [<matplotlib.lines.Line2D at 0x7f8a9f4f69a0>],\n",
       " 'means': []}"
      ]
     },
     "execution_count": 249,
     "metadata": {},
     "output_type": "execute_result"
    },
    {
     "data": {
      "image/png": "[encoded data removed]",
      "text/plain": [
       "<Figure size 720x576 with 1 Axes>"
      ]
     },
     "metadata": {
      "needs_background": "light"
     },
     "output_type": "display_data"
    }
   ],
   "source": [
    "plt.boxplot(order_df['product_id'].value_counts())"
   ]
  },
  {
   "cell_type": "code",
   "execution_count": 250,
   "id": "e1469ae9-4273-4c23-beea-3266b067ef3c",
   "metadata": {},
   "outputs": [
    {
     "data": {
      "text/plain": [
       "<AxesSubplot:>"
      ]
     },
     "execution_count": 250,
     "metadata": {},
     "output_type": "execute_result"
    },
    {
     "data": {
      "image/png": "[encoded data removed]",
      "text/plain": [
       "<Figure size 720x576 with 1 Axes>"
      ]
     },
     "metadata": {
      "needs_background": "light"
     },
     "output_type": "display_data"
    }
   ],
   "source": [
    "plt.ticklabel_format(style='plain', axis='y')\n",
    "order_df['price'].hist(bins=100)"
   ]
  },
  {
   "cell_type": "code",
   "execution_count": 251,
   "id": "7932f371-44a3-449f-bddd-7be8ba1f2a3c",
   "metadata": {},
   "outputs": [
    {
     "data": {
      "text/plain": [
       "cama_mesa_banho                  10952\n",
       "beleza_saude                      9465\n",
       "esporte_lazer                     8428\n",
       "moveis_decoracao                  8157\n",
       "informatica_acessorios            7643\n",
       "                                 ...  \n",
       "cds_dvds_musicais                   14\n",
       "la_cuisine                          14\n",
       "pc_gamer                             8\n",
       "fashion_roupa_infanto_juvenil        7\n",
       "seguros_e_servicos                   2\n",
       "Name: product_category_name, Length: 74, dtype: int64"
      ]
     },
     "execution_count": 251,
     "metadata": {},
     "output_type": "execute_result"
    }
   ],
   "source": [
    "order_df['product_category_name'].value_counts()"
   ]
  },
  {
   "cell_type": "code",
   "execution_count": 252,
   "id": "842e73d1-4d6a-4729-857e-95c08dbcf9af",
   "metadata": {},
   "outputs": [
    {
     "data": {
      "text/plain": [
       "{'whiskers': [<matplotlib.lines.Line2D at 0x7f8a1b424b80>,\n",
       "  <matplotlib.lines.Line2D at 0x7f8a1b424f10>],\n",
       " 'caps': [<matplotlib.lines.Line2D at 0x7f8a8f94a2e0>,\n",
       "  <matplotlib.lines.Line2D at 0x7f8a8f94a5e0>],\n",
       " 'boxes': [<matplotlib.lines.Line2D at 0x7f8a1b4247f0>],\n",
       " 'medians': [<matplotlib.lines.Line2D at 0x7f8a8f94a970>],\n",
       " 'fliers': [<matplotlib.lines.Line2D at 0x7f8a8f94ad00>],\n",
       " 'means': []}"
      ]
     },
     "execution_count": 252,
     "metadata": {},
     "output_type": "execute_result"
    },
    {
     "data": {
      "image/png": "[encoded data removed]",
      "text/plain": [
       "<Figure size 720x576 with 1 Axes>"
      ]
     },
     "metadata": {
      "needs_background": "light"
     },
     "output_type": "display_data"
    }
   ],
   "source": [
    "plt.ticklabel_format(style='plain', axis='y')\n",
    "plt.boxplot(order_df['product_category_name'].value_counts())"
   ]
  },
  {
   "cell_type": "code",
   "execution_count": 253,
   "id": "5eff69ce-1795-4360-b819-9c9dba98c43b",
   "metadata": {},
   "outputs": [
    {
     "data": {
      "image/png": "[encoded data removed]",
      "text/plain": [
       "<Figure size 720x576 with 1 Axes>"
      ]
     },
     "metadata": {},
     "output_type": "display_data"
    }
   ],
   "source": [
    "labels = order_df['product_category_name'].value_counts()[:30].index.tolist()\n",
    "fracs1 = order_df['product_category_name'].value_counts()[:30].values.tolist()\n",
    "\n",
    "plt.pie(fracs1, labels=labels, autopct='%.0f%%', shadow=True)\n",
    "plt.title('Order Category Top 30')\n",
    "plt.show()"
   ]
  },
  {
   "cell_type": "markdown",
   "id": "67283b8f-3f8c-428c-bff6-30911b69badf",
   "metadata": {},
   "source": [
    "----\n",
    "### 5) 배송 관련 데이터 분석"
   ]
  },
  {
   "cell_type": "code",
   "execution_count": 254,
   "id": "7ad55b53-7783-46cf-814e-e633de85b500",
   "metadata": {},
   "outputs": [
    {
     "data": {
      "text/plain": [
       "0    7 days 14:44:46\n",
       "1   16 days 05:11:18\n",
       "2    7 days 22:45:45\n",
       "3    6 days 03:32:04\n",
       "4   25 days 02:44:40\n",
       "Name: time_to_delivered, dtype: timedelta64[ns]"
      ]
     },
     "execution_count": 254,
     "metadata": {},
     "output_type": "execute_result"
    }
   ],
   "source": [
    "order_df['time_to_delivered'] = order_df['order_delivered_customer_date'] - order_df['order_purchase_timestamp']\n",
    "order_df['time_to_delivered'].head()"
   ]
  },
  {
   "cell_type": "code",
   "execution_count": 255,
   "id": "e9acc463-c4c2-471b-a0ff-fbf5b97c52b8",
   "metadata": {},
   "outputs": [
    {
     "data": {
      "text/plain": [
       "<AxesSubplot:>"
      ]
     },
     "execution_count": 255,
     "metadata": {},
     "output_type": "execute_result"
    },
    {
     "data": {
      "image/png": "[encoded data removed]",
      "text/plain": [
       "<Figure size 720x576 with 1 Axes>"
      ]
     },
     "metadata": {
      "needs_background": "light"
     },
     "output_type": "display_data"
    }
   ],
   "source": [
    "order_df['time_to_delivered'] = order_df['time_to_delivered'].dt.days\n",
    "plt.ticklabel_format(style='plain', axis='y')\n",
    "order_df['time_to_delivered'].hist(bins=100)"
   ]
  },
  {
   "cell_type": "code",
   "execution_count": 256,
   "id": "07cc9c4c-a400-40b4-bcdd-967b2dad37c8",
   "metadata": {},
   "outputs": [
    {
     "data": {
      "text/plain": [
       "0    15\n",
       "1    18\n",
       "2    21\n",
       "3    11\n",
       "4    40\n",
       "Name: time_to_estimated, dtype: int64"
      ]
     },
     "execution_count": 256,
     "metadata": {},
     "output_type": "execute_result"
    }
   ],
   "source": [
    "order_df['time_to_estimated'] = order_df['order_estimated_delivery_date'] - order_df['order_purchase_timestamp']\n",
    "order_df['time_to_estimated'] = order_df['time_to_estimated'].dt.days\n",
    "order_df['time_to_estimated'].head()"
   ]
  },
  {
   "cell_type": "code",
   "execution_count": 257,
   "id": "2a56009e-370e-4fcc-83d9-ff95e520c085",
   "metadata": {},
   "outputs": [
    {
     "data": {
      "text/plain": [
       "<AxesSubplot:>"
      ]
     },
     "execution_count": 257,
     "metadata": {},
     "output_type": "execute_result"
    },
    {
     "data": {
      "image/png": "[encoded data removed]",
      "text/plain": [
       "<Figure size 720x576 with 1 Axes>"
      ]
     },
     "metadata": {
      "needs_background": "light"
     },
     "output_type": "display_data"
    }
   ],
   "source": [
    "order_df['predict_diff'] = order_df['time_to_estimated'] - order_df['time_to_delivered']\n",
    "plt.ticklabel_format(style='plain', axis='y')\n",
    "order_df['predict_diff'].hist(bins=100)"
   ]
  },
  {
   "cell_type": "markdown",
   "id": "b4dab994-8c61-454d-99b4-f860d20864dd",
   "metadata": {},
   "source": [
    "----\n",
    "## 2. 유저의 각종 정보 분석하기"
   ]
  },
  {
   "cell_type": "markdown",
   "id": "93cce6e5-0a94-4c88-b332-93764b947bc8",
   "metadata": {},
   "source": [
    "### 1) 유저 프로파일링"
   ]
  },
  {
   "cell_type": "code",
   "execution_count": 258,
   "id": "bc0406df-1ace-498b-929b-0aeeb1ec2e0a",
   "metadata": {},
   "outputs": [
    {
     "data": {
      "text/html": [
       "<div>\n",
       "<style scoped>\n",
       "    .dataframe tbody tr th:only-of-type {\n",
       "        vertical-align: middle;\n",
       "    }\n",
       "\n",
       "    .dataframe tbody tr th {\n",
       "        vertical-align: top;\n",
       "    }\n",
       "\n",
       "    .dataframe thead th {\n",
       "        text-align: right;\n",
       "    }\n",
       "</style>\n",
       "<table border=\"1\" class=\"dataframe\">\n",
       "  <thead>\n",
       "    <tr style=\"text-align: right;\">\n",
       "      <th></th>\n",
       "      <th>order_id</th>\n",
       "      <th>order_item_id</th>\n",
       "      <th>product_id</th>\n",
       "      <th>seller_id</th>\n",
       "      <th>shipping_limit_date</th>\n",
       "      <th>price</th>\n",
       "      <th>freight_value</th>\n",
       "      <th>customer_id</th>\n",
       "      <th>order_status</th>\n",
       "      <th>order_purchase_timestamp</th>\n",
       "      <th>...</th>\n",
       "      <th>product_width_cm</th>\n",
       "      <th>customer_unique_id</th>\n",
       "      <th>customer_zip_code_prefix</th>\n",
       "      <th>customer_city</th>\n",
       "      <th>customer_state</th>\n",
       "      <th>lat</th>\n",
       "      <th>lng</th>\n",
       "      <th>city</th>\n",
       "      <th>state</th>\n",
       "      <th>product_category_name_english</th>\n",
       "    </tr>\n",
       "  </thead>\n",
       "  <tbody>\n",
       "    <tr>\n",
       "      <th>0</th>\n",
       "      <td>00010242fe8c5a6d1ba2dd792cb16214</td>\n",
       "      <td>1</td>\n",
       "      <td>4244733e06e7ecb4970a6e2683c13e61</td>\n",
       "      <td>48436dade18ac8b2bce089ec2a041202</td>\n",
       "      <td>2017-09-19 09:45:35</td>\n",
       "      <td>58.90</td>\n",
       "      <td>13.29</td>\n",
       "      <td>3ce436f183e68e07877b285a838db11a</td>\n",
       "      <td>delivered</td>\n",
       "      <td>2017-09-13 08:59:02</td>\n",
       "      <td>...</td>\n",
       "      <td>14.0</td>\n",
       "      <td>871766c5855e863f6eccc05f988b23cb</td>\n",
       "      <td>28013</td>\n",
       "      <td>campos dos goytacazes</td>\n",
       "      <td>RJ</td>\n",
       "      <td>-21.762775</td>\n",
       "      <td>-41.309633</td>\n",
       "      <td>campos dos goytacazes</td>\n",
       "      <td>RJ</td>\n",
       "      <td>cool_stuff</td>\n",
       "    </tr>\n",
       "    <tr>\n",
       "      <th>1</th>\n",
       "      <td>00018f77f2f0320c557190d7a144bdd3</td>\n",
       "      <td>1</td>\n",
       "      <td>e5f2d52b802189ee658865ca93d83a8f</td>\n",
       "      <td>dd7ddc04e1b6c2c614352b383efe2d36</td>\n",
       "      <td>2017-05-03 11:05:13</td>\n",
       "      <td>239.90</td>\n",
       "      <td>19.93</td>\n",
       "      <td>f6dd3ec061db4e3987629fe6b26e5cce</td>\n",
       "      <td>delivered</td>\n",
       "      <td>2017-04-26 10:53:06</td>\n",
       "      <td>...</td>\n",
       "      <td>40.0</td>\n",
       "      <td>eb28e67c4c0b83846050ddfb8a35d051</td>\n",
       "      <td>15775</td>\n",
       "      <td>santa fe do sul</td>\n",
       "      <td>SP</td>\n",
       "      <td>-20.220527</td>\n",
       "      <td>-50.903424</td>\n",
       "      <td>santa fe do sul</td>\n",
       "      <td>SP</td>\n",
       "      <td>pet_shop</td>\n",
       "    </tr>\n",
       "    <tr>\n",
       "      <th>2</th>\n",
       "      <td>000229ec398224ef6ca0657da4fc703e</td>\n",
       "      <td>1</td>\n",
       "      <td>c777355d18b72b67abbeef9df44fd0fd</td>\n",
       "      <td>5b51032eddd242adc84c38acab88f23d</td>\n",
       "      <td>2018-01-18 14:48:30</td>\n",
       "      <td>199.00</td>\n",
       "      <td>17.87</td>\n",
       "      <td>6489ae5e4333f3693df5ad4372dab6d3</td>\n",
       "      <td>delivered</td>\n",
       "      <td>2018-01-14 14:33:31</td>\n",
       "      <td>...</td>\n",
       "      <td>33.0</td>\n",
       "      <td>3818d81c6709e39d06b2738a8d3a2474</td>\n",
       "      <td>35661</td>\n",
       "      <td>para de minas</td>\n",
       "      <td>MG</td>\n",
       "      <td>-19.870305</td>\n",
       "      <td>-44.593326</td>\n",
       "      <td>pará de minas</td>\n",
       "      <td>MG</td>\n",
       "      <td>furniture_decor</td>\n",
       "    </tr>\n",
       "    <tr>\n",
       "      <th>3</th>\n",
       "      <td>00024acbcdf0a6daa1e931b038114c75</td>\n",
       "      <td>1</td>\n",
       "      <td>7634da152a4610f1595efa32f14722fc</td>\n",
       "      <td>9d7a1d34a5052409006425275ba1c2b4</td>\n",
       "      <td>2018-08-15 10:10:18</td>\n",
       "      <td>12.99</td>\n",
       "      <td>12.79</td>\n",
       "      <td>d4eb9395c8c0431ee92fce09860c5a06</td>\n",
       "      <td>delivered</td>\n",
       "      <td>2018-08-08 10:00:35</td>\n",
       "      <td>...</td>\n",
       "      <td>15.0</td>\n",
       "      <td>af861d436cfc08b2c2ddefd0ba074622</td>\n",
       "      <td>12952</td>\n",
       "      <td>atibaia</td>\n",
       "      <td>SP</td>\n",
       "      <td>-23.089925</td>\n",
       "      <td>-46.611654</td>\n",
       "      <td>atibaia</td>\n",
       "      <td>SP</td>\n",
       "      <td>perfumery</td>\n",
       "    </tr>\n",
       "    <tr>\n",
       "      <th>4</th>\n",
       "      <td>00042b26cf59d7ce69dfabb4e55b4fd9</td>\n",
       "      <td>1</td>\n",
       "      <td>ac6c3623068f30de03045865e4e10089</td>\n",
       "      <td>df560393f3a51e74553ab94004ba5c87</td>\n",
       "      <td>2017-02-13 13:57:51</td>\n",
       "      <td>199.90</td>\n",
       "      <td>18.14</td>\n",
       "      <td>58dbd0b2d70206bf40e62cd34e84d795</td>\n",
       "      <td>delivered</td>\n",
       "      <td>2017-02-04 13:57:51</td>\n",
       "      <td>...</td>\n",
       "      <td>30.0</td>\n",
       "      <td>64b576fb70d441e8f1b2d7d446e483c5</td>\n",
       "      <td>13226</td>\n",
       "      <td>varzea paulista</td>\n",
       "      <td>SP</td>\n",
       "      <td>-23.243402</td>\n",
       "      <td>-46.827614</td>\n",
       "      <td>varzea paulista</td>\n",
       "      <td>SP</td>\n",
       "      <td>garden_tools</td>\n",
       "    </tr>\n",
       "  </tbody>\n",
       "</table>\n",
       "<p>5 rows × 31 columns</p>\n",
       "</div>"
      ],
      "text/plain": [
       "                           order_id  order_item_id  \\\n",
       "0  00010242fe8c5a6d1ba2dd792cb16214              1   \n",
       "1  00018f77f2f0320c557190d7a144bdd3              1   \n",
       "2  000229ec398224ef6ca0657da4fc703e              1   \n",
       "3  00024acbcdf0a6daa1e931b038114c75              1   \n",
       "4  00042b26cf59d7ce69dfabb4e55b4fd9              1   \n",
       "\n",
       "                         product_id                         seller_id  \\\n",
       "0  4244733e06e7ecb4970a6e2683c13e61  48436dade18ac8b2bce089ec2a041202   \n",
       "1  e5f2d52b802189ee658865ca93d83a8f  dd7ddc04e1b6c2c614352b383efe2d36   \n",
       "2  c777355d18b72b67abbeef9df44fd0fd  5b51032eddd242adc84c38acab88f23d   \n",
       "3  7634da152a4610f1595efa32f14722fc  9d7a1d34a5052409006425275ba1c2b4   \n",
       "4  ac6c3623068f30de03045865e4e10089  df560393f3a51e74553ab94004ba5c87   \n",
       "\n",
       "   shipping_limit_date   price  freight_value  \\\n",
       "0  2017-09-19 09:45:35   58.90          13.29   \n",
       "1  2017-05-03 11:05:13  239.90          19.93   \n",
       "2  2018-01-18 14:48:30  199.00          17.87   \n",
       "3  2018-08-15 10:10:18   12.99          12.79   \n",
       "4  2017-02-13 13:57:51  199.90          18.14   \n",
       "\n",
       "                        customer_id order_status order_purchase_timestamp  \\\n",
       "0  3ce436f183e68e07877b285a838db11a    delivered      2017-09-13 08:59:02   \n",
       "1  f6dd3ec061db4e3987629fe6b26e5cce    delivered      2017-04-26 10:53:06   \n",
       "2  6489ae5e4333f3693df5ad4372dab6d3    delivered      2018-01-14 14:33:31   \n",
       "3  d4eb9395c8c0431ee92fce09860c5a06    delivered      2018-08-08 10:00:35   \n",
       "4  58dbd0b2d70206bf40e62cd34e84d795    delivered      2017-02-04 13:57:51   \n",
       "\n",
       "   ... product_width_cm                customer_unique_id  \\\n",
       "0  ...             14.0  871766c5855e863f6eccc05f988b23cb   \n",
       "1  ...             40.0  eb28e67c4c0b83846050ddfb8a35d051   \n",
       "2  ...             33.0  3818d81c6709e39d06b2738a8d3a2474   \n",
       "3  ...             15.0  af861d436cfc08b2c2ddefd0ba074622   \n",
       "4  ...             30.0  64b576fb70d441e8f1b2d7d446e483c5   \n",
       "\n",
       "  customer_zip_code_prefix          customer_city customer_state        lat  \\\n",
       "0                    28013  campos dos goytacazes             RJ -21.762775   \n",
       "1                    15775        santa fe do sul             SP -20.220527   \n",
       "2                    35661          para de minas             MG -19.870305   \n",
       "3                    12952                atibaia             SP -23.089925   \n",
       "4                    13226        varzea paulista             SP -23.243402   \n",
       "\n",
       "         lng                   city  state  product_category_name_english  \n",
       "0 -41.309633  campos dos goytacazes     RJ                     cool_stuff  \n",
       "1 -50.903424        santa fe do sul     SP                       pet_shop  \n",
       "2 -44.593326          pará de minas     MG                furniture_decor  \n",
       "3 -46.611654                atibaia     SP                      perfumery  \n",
       "4 -46.827614        varzea paulista     SP                   garden_tools  \n",
       "\n",
       "[5 rows x 31 columns]"
      ]
     },
     "execution_count": 258,
     "metadata": {},
     "output_type": "execute_result"
    }
   ],
   "source": [
    "# 필요한 데이터셋 목록\n",
    "order_df = pd.read_csv(data_dir + \"olist_order_items_dataset.csv\")\n",
    "shipping_df = pd.read_csv(data_dir + \"olist_orders_dataset.csv\")\n",
    "product_df = pd.read_csv(data_dir + \"olist_products_dataset.csv\")\n",
    "user_df = pd.read_csv(data_dir + \"olist_customers_dataset.csv\")\n",
    "location_df = pd.read_csv(data_dir + \"olist_geolocation_dataset.csv\")\n",
    "product_category_df = pd.read_csv(data_dir + \"product_category_name_translation.csv\")\n",
    "\n",
    "# 배송 정보 병합\n",
    "order_df['order_id'] = order_df['order_id'].astype(str)\n",
    "shipping_df['order_id'] = shipping_df['order_id'].astype(str)\n",
    "order_df = order_df.merge(shipping_df, how='left', on='order_id')\n",
    "\n",
    "# 상품 정보 병합\n",
    "order_df['product_id'] = order_df['product_id'].astype(str)\n",
    "product_df['product_id'] = product_df['product_id'].astype(str)\n",
    "order_df = order_df.merge(product_df, how='left', on='product_id')\n",
    "\n",
    "# 유저 정보 병합\n",
    "order_df['customer_id'] = order_df['customer_id'].astype(str)\n",
    "user_df['customer_id'] = user_df['customer_id'].astype(str)\n",
    "order_df = order_df.merge(user_df, how='left', on='customer_id')\n",
    "\n",
    "# 위치 정보 병합\n",
    "order_df['customer_zip_code_prefix'] = order_df['customer_zip_code_prefix'].astype(str)\n",
    "location_df['geolocation_zip_code_prefix'] = location_df['geolocation_zip_code_prefix'].astype(str)\n",
    "location_df.columns = ['customer_zip_code_prefix', 'lat', 'lng', 'city', 'state']\n",
    "location_df = location_df.groupby('customer_zip_code_prefix').agg({'lat': 'mean', 'lng': 'mean', 'city': 'first', 'state': 'first'}).reset_index()\n",
    "order_df = order_df.merge(location_df, how='left', on='customer_zip_code_prefix')\n",
    "\n",
    "# 상품 카테고리 정보 병합\n",
    "order_df['product_category_name'] = order_df['product_category_name'].astype(str)\n",
    "product_category_df['product_category_name'] = product_category_df['product_category_name'].astype(str)\n",
    "order_df = order_df.merge(product_category_df, how='left', on='product_category_name')\n",
    "order_df.head()"
   ]
  },
  {
   "cell_type": "code",
   "execution_count": 259,
   "id": "5bba8444-1305-47dd-ab77-9221dbc246e0",
   "metadata": {},
   "outputs": [],
   "source": [
    "# 피처 선택\n",
    "anal_columns = ['order_id', 'product_id', 'customer_id', 'customer_unique_id',\n",
    "                'order_purchase_timestamp', 'customer_city', 'product_category_name', 'order_approved_at',\n",
    "                'order_delivered_customer_date', 'order_estimated_delivery_date', 'product_category_name_english',\n",
    "                'order_status',  # 필터링에 사용되는 정보\n",
    "                'price']  # 시각화용 정보\n",
    "order_df = order_df[anal_columns]"
   ]
  },
  {
   "cell_type": "code",
   "execution_count": 260,
   "id": "c2aa622c-7f95-45c1-a623-63ff784dca77",
   "metadata": {},
   "outputs": [],
   "source": [
    "# 필터링 및 결측값 제거\n",
    "order_df = order_df[order_df['order_status']=='delivered']\n",
    "order_df = order_df.dropna()\n",
    "\n",
    "# datetime 객체로 변환\n",
    "order_df['order_purchase_timestamp'] = pd.to_datetime(order_df['order_purchase_timestamp'])\n",
    "order_df['order_approved_at'] = pd.to_datetime(order_df['order_approved_at'])\n",
    "order_df['order_delivered_customer_date'] = pd.to_datetime(order_df['order_delivered_customer_date'])\n",
    "order_df['order_estimated_delivery_date'] = pd.to_datetime(order_df['order_estimated_delivery_date'])"
   ]
  },
  {
   "cell_type": "code",
   "execution_count": 261,
   "id": "c4eaa368-d0c7-40c7-9cc8-09a6e899d21f",
   "metadata": {},
   "outputs": [
    {
     "data": {
      "text/plain": [
       "92059"
      ]
     },
     "execution_count": 261,
     "metadata": {},
     "output_type": "execute_result"
    }
   ],
   "source": [
    "order_df['customer_unique_id'].nunique()"
   ]
  },
  {
   "cell_type": "code",
   "execution_count": 262,
   "id": "07d3a82c-e094-4fb7-ac09-93060e016722",
   "metadata": {},
   "outputs": [
    {
     "data": {
      "text/plain": [
       "customer_unique_id\n",
       "0000366f3b9a7992bf8c76cfdf3221e2    1\n",
       "0000b849f77a49e4a4ce2b2a4ca5be3f    1\n",
       "0000f46a3911fa3c0805444483337064    1\n",
       "0000f6ccb0745a6a4b88665a16c9f078    1\n",
       "0004aac84e0df4da2b147fca70cf8255    1\n",
       "                                   ..\n",
       "fffcf5a5ff07b0908bd4e2dbc735a684    2\n",
       "fffea47cd6d3cc0a88bd621562a9d061    1\n",
       "ffff371b4d645b6ecea244b27531430a    1\n",
       "ffff5962728ec6157033ef9805bacc48    1\n",
       "ffffd2657e2aad2907e67c3e9daecbeb    1\n",
       "Name: order_id, Length: 92059, dtype: int64"
      ]
     },
     "execution_count": 262,
     "metadata": {},
     "output_type": "execute_result"
    }
   ],
   "source": [
    "order_df.groupby('customer_unique_id')['order_id'].count()"
   ]
  },
  {
   "cell_type": "code",
   "execution_count": 263,
   "id": "4b447cc1-5c5d-4243-adf7-69ec19c347d6",
   "metadata": {},
   "outputs": [
    {
     "data": {
      "text/plain": [
       "count    92059.000000\n",
       "mean         1.179852\n",
       "std          0.619808\n",
       "min          1.000000\n",
       "25%          1.000000\n",
       "50%          1.000000\n",
       "75%          1.000000\n",
       "max         24.000000\n",
       "Name: order_id, dtype: float64"
      ]
     },
     "execution_count": 263,
     "metadata": {},
     "output_type": "execute_result"
    }
   ],
   "source": [
    "order_df.groupby('customer_unique_id')['order_id'].count().describe()"
   ]
  },
  {
   "cell_type": "code",
   "execution_count": 264,
   "id": "afcffbf3-481c-4c7b-8066-9df0eb3f4c04",
   "metadata": {},
   "outputs": [
    {
     "data": {
      "text/plain": [
       "{'whiskers': [<matplotlib.lines.Line2D at 0x7f8a0964a3a0>,\n",
       "  <matplotlib.lines.Line2D at 0x7f8a0964a730>],\n",
       " 'caps': [<matplotlib.lines.Line2D at 0x7f8a0964aac0>,\n",
       "  <matplotlib.lines.Line2D at 0x7f8a0964ae50>],\n",
       " 'boxes': [<matplotlib.lines.Line2D at 0x7f8a2c29dfd0>],\n",
       " 'medians': [<matplotlib.lines.Line2D at 0x7f8a09658220>],\n",
       " 'fliers': [<matplotlib.lines.Line2D at 0x7f8a096585b0>],\n",
       " 'means': []}"
      ]
     },
     "execution_count": 264,
     "metadata": {},
     "output_type": "execute_result"
    },
    {
     "data": {
      "image/png": "[encoded data removed]",
      "text/plain": [
       "<Figure size 720x576 with 1 Axes>"
      ]
     },
     "metadata": {
      "needs_background": "light"
     },
     "output_type": "display_data"
    }
   ],
   "source": [
    "plt.boxplot(order_df.groupby('customer_unique_id')['order_id'].count())"
   ]
  },
  {
   "cell_type": "code",
   "execution_count": 265,
   "id": "46000038-c393-4896-9593-70e8172a3dd6",
   "metadata": {},
   "outputs": [],
   "source": [
    "user_df = order_df.groupby('customer_unique_id')['order_id'].count().reset_index()"
   ]
  },
  {
   "cell_type": "code",
   "execution_count": 266,
   "id": "fc3bafad-c841-44b0-b491-07aafcd7a1a0",
   "metadata": {},
   "outputs": [
    {
     "data": {
      "text/plain": [
       "(11420, 2)"
      ]
     },
     "execution_count": 266,
     "metadata": {},
     "output_type": "execute_result"
    }
   ],
   "source": [
    "user_df[user_df['order_id']>1].shape"
   ]
  },
  {
   "cell_type": "code",
   "execution_count": 267,
   "id": "7fe3c2bf-9202-4d1e-9585-e9a7c4a2f92d",
   "metadata": {},
   "outputs": [
    {
     "data": {
      "text/plain": [
       "(2761, 2)"
      ]
     },
     "execution_count": 267,
     "metadata": {},
     "output_type": "execute_result"
    }
   ],
   "source": [
    "user_df[user_df['order_id']>2].shape"
   ]
  },
  {
   "cell_type": "code",
   "execution_count": 268,
   "id": "68e17242-becb-4d09-b002-ad12c1377f78",
   "metadata": {},
   "outputs": [
    {
     "data": {
      "text/html": [
       "<div>\n",
       "<style scoped>\n",
       "    .dataframe tbody tr th:only-of-type {\n",
       "        vertical-align: middle;\n",
       "    }\n",
       "\n",
       "    .dataframe tbody tr th {\n",
       "        vertical-align: top;\n",
       "    }\n",
       "\n",
       "    .dataframe thead th {\n",
       "        text-align: right;\n",
       "    }\n",
       "</style>\n",
       "<table border=\"1\" class=\"dataframe\">\n",
       "  <thead>\n",
       "    <tr style=\"text-align: right;\">\n",
       "      <th></th>\n",
       "      <th>customer_unique_id</th>\n",
       "      <th>category_name</th>\n",
       "    </tr>\n",
       "  </thead>\n",
       "  <tbody>\n",
       "    <tr>\n",
       "      <th>0</th>\n",
       "      <td>0000366f3b9a7992bf8c76cfdf3221e2</td>\n",
       "      <td>1</td>\n",
       "    </tr>\n",
       "    <tr>\n",
       "      <th>1</th>\n",
       "      <td>0000b849f77a49e4a4ce2b2a4ca5be3f</td>\n",
       "      <td>1</td>\n",
       "    </tr>\n",
       "    <tr>\n",
       "      <th>2</th>\n",
       "      <td>0000f46a3911fa3c0805444483337064</td>\n",
       "      <td>1</td>\n",
       "    </tr>\n",
       "    <tr>\n",
       "      <th>3</th>\n",
       "      <td>0000f6ccb0745a6a4b88665a16c9f078</td>\n",
       "      <td>1</td>\n",
       "    </tr>\n",
       "    <tr>\n",
       "      <th>4</th>\n",
       "      <td>0004aac84e0df4da2b147fca70cf8255</td>\n",
       "      <td>1</td>\n",
       "    </tr>\n",
       "  </tbody>\n",
       "</table>\n",
       "</div>"
      ],
      "text/plain": [
       "                 customer_unique_id  category_name\n",
       "0  0000366f3b9a7992bf8c76cfdf3221e2              1\n",
       "1  0000b849f77a49e4a4ce2b2a4ca5be3f              1\n",
       "2  0000f46a3911fa3c0805444483337064              1\n",
       "3  0000f6ccb0745a6a4b88665a16c9f078              1\n",
       "4  0004aac84e0df4da2b147fca70cf8255              1"
      ]
     },
     "execution_count": 268,
     "metadata": {},
     "output_type": "execute_result"
    }
   ],
   "source": [
    "order_df = order_df.rename(columns={\"product_category_name_english\": \"category_name\"})\n",
    "user_df = order_df.groupby('customer_unique_id')['category_name'].nunique().reset_index()\n",
    "user_df.head()"
   ]
  },
  {
   "cell_type": "code",
   "execution_count": 269,
   "id": "3f37b5b8-73fb-4779-b14d-5e26dfd846c2",
   "metadata": {},
   "outputs": [
    {
     "data": {
      "text/plain": [
       "count    92059.000000\n",
       "mean         1.025017\n",
       "std          0.167519\n",
       "min          1.000000\n",
       "25%          1.000000\n",
       "50%          1.000000\n",
       "75%          1.000000\n",
       "max          5.000000\n",
       "Name: category_name, dtype: float64"
      ]
     },
     "execution_count": 269,
     "metadata": {},
     "output_type": "execute_result"
    }
   ],
   "source": [
    "user_df['category_name'].describe()"
   ]
  },
  {
   "cell_type": "code",
   "execution_count": 270,
   "id": "b7ac89db-d6d9-4f16-b1ae-5cd7a23d6cca",
   "metadata": {},
   "outputs": [
    {
     "data": {
      "text/plain": [
       "(2160, 2)"
      ]
     },
     "execution_count": 270,
     "metadata": {},
     "output_type": "execute_result"
    }
   ],
   "source": [
    "user_df[user_df['category_name']>1].shape"
   ]
  },
  {
   "cell_type": "code",
   "execution_count": 271,
   "id": "2ba285bf-f532-40c3-ac2d-57d720293818",
   "metadata": {},
   "outputs": [],
   "source": [
    "order_df['order_purchase_date'] = order_df['order_purchase_timestamp'].dt.date"
   ]
  },
  {
   "cell_type": "code",
   "execution_count": 272,
   "id": "2ebe6be9-b868-40a3-a8db-9b084a1bd23d",
   "metadata": {},
   "outputs": [],
   "source": [
    "user_df = order_df.groupby('customer_unique_id')['order_purchase_date'].nunique().reset_index()"
   ]
  },
  {
   "cell_type": "code",
   "execution_count": 273,
   "id": "02f11275-7942-47cc-8ac1-4fdb1abcb3f4",
   "metadata": {},
   "outputs": [
    {
     "data": {
      "text/html": [
       "<div>\n",
       "<style scoped>\n",
       "    .dataframe tbody tr th:only-of-type {\n",
       "        vertical-align: middle;\n",
       "    }\n",
       "\n",
       "    .dataframe tbody tr th {\n",
       "        vertical-align: top;\n",
       "    }\n",
       "\n",
       "    .dataframe thead th {\n",
       "        text-align: right;\n",
       "    }\n",
       "</style>\n",
       "<table border=\"1\" class=\"dataframe\">\n",
       "  <thead>\n",
       "    <tr style=\"text-align: right;\">\n",
       "      <th></th>\n",
       "      <th>customer_unique_id</th>\n",
       "      <th>order_purchase_date</th>\n",
       "    </tr>\n",
       "  </thead>\n",
       "  <tbody>\n",
       "    <tr>\n",
       "      <th>103</th>\n",
       "      <td>004288347e5e88a27ded2bb23747066c</td>\n",
       "      <td>2</td>\n",
       "    </tr>\n",
       "    <tr>\n",
       "      <th>241</th>\n",
       "      <td>00a39521eb40f7012db50455bf083460</td>\n",
       "      <td>2</td>\n",
       "    </tr>\n",
       "    <tr>\n",
       "      <th>401</th>\n",
       "      <td>011575986092c30523ecb71ff10cb473</td>\n",
       "      <td>2</td>\n",
       "    </tr>\n",
       "    <tr>\n",
       "      <th>416</th>\n",
       "      <td>011b4adcd54683b480c4d841250a987f</td>\n",
       "      <td>2</td>\n",
       "    </tr>\n",
       "    <tr>\n",
       "      <th>425</th>\n",
       "      <td>012452d40dafae4df401bced74cdb490</td>\n",
       "      <td>2</td>\n",
       "    </tr>\n",
       "    <tr>\n",
       "      <th>...</th>\n",
       "      <td>...</td>\n",
       "      <td>...</td>\n",
       "    </tr>\n",
       "    <tr>\n",
       "      <th>91530</th>\n",
       "      <td>fe81bb32c243a86b2f86fbf053fe6140</td>\n",
       "      <td>5</td>\n",
       "    </tr>\n",
       "    <tr>\n",
       "      <th>91634</th>\n",
       "      <td>fed519569d16e690df6f89cb99d4e682</td>\n",
       "      <td>2</td>\n",
       "    </tr>\n",
       "    <tr>\n",
       "      <th>91702</th>\n",
       "      <td>ff03923ad1eb9e32304deb7f9b2a45c9</td>\n",
       "      <td>2</td>\n",
       "    </tr>\n",
       "    <tr>\n",
       "      <th>91894</th>\n",
       "      <td>ff8892f7c26aa0446da53d01b18df463</td>\n",
       "      <td>2</td>\n",
       "    </tr>\n",
       "    <tr>\n",
       "      <th>91911</th>\n",
       "      <td>ff922bdd6bafcdf99cb90d7f39cea5b3</td>\n",
       "      <td>3</td>\n",
       "    </tr>\n",
       "  </tbody>\n",
       "</table>\n",
       "<p>1974 rows × 2 columns</p>\n",
       "</div>"
      ],
      "text/plain": [
       "                     customer_unique_id  order_purchase_date\n",
       "103    004288347e5e88a27ded2bb23747066c                    2\n",
       "241    00a39521eb40f7012db50455bf083460                    2\n",
       "401    011575986092c30523ecb71ff10cb473                    2\n",
       "416    011b4adcd54683b480c4d841250a987f                    2\n",
       "425    012452d40dafae4df401bced74cdb490                    2\n",
       "...                                 ...                  ...\n",
       "91530  fe81bb32c243a86b2f86fbf053fe6140                    5\n",
       "91634  fed519569d16e690df6f89cb99d4e682                    2\n",
       "91702  ff03923ad1eb9e32304deb7f9b2a45c9                    2\n",
       "91894  ff8892f7c26aa0446da53d01b18df463                    2\n",
       "91911  ff922bdd6bafcdf99cb90d7f39cea5b3                    3\n",
       "\n",
       "[1974 rows x 2 columns]"
      ]
     },
     "execution_count": 273,
     "metadata": {},
     "output_type": "execute_result"
    }
   ],
   "source": [
    "user_df = user_df[user_df['order_purchase_date']>1]\n",
    "user_df"
   ]
  },
  {
   "cell_type": "code",
   "execution_count": 274,
   "id": "663950eb-6b4d-453d-8da9-251fbf40b744",
   "metadata": {},
   "outputs": [],
   "source": [
    "cuid_list = user_df['customer_unique_id'].tolist()\n",
    "temp_df = order_df[order_df['customer_unique_id'].isin(cuid_list)]"
   ]
  },
  {
   "cell_type": "code",
   "execution_count": 275,
   "id": "8d26178d-c18b-4e39-b164-dee65db6eb77",
   "metadata": {},
   "outputs": [
    {
     "data": {
      "text/html": [
       "<div>\n",
       "<style scoped>\n",
       "    .dataframe tbody tr th:only-of-type {\n",
       "        vertical-align: middle;\n",
       "    }\n",
       "\n",
       "    .dataframe tbody tr th {\n",
       "        vertical-align: top;\n",
       "    }\n",
       "\n",
       "    .dataframe thead th {\n",
       "        text-align: right;\n",
       "    }\n",
       "</style>\n",
       "<table border=\"1\" class=\"dataframe\">\n",
       "  <thead>\n",
       "    <tr style=\"text-align: right;\">\n",
       "      <th></th>\n",
       "      <th>customer_unique_id</th>\n",
       "      <th>0</th>\n",
       "    </tr>\n",
       "  </thead>\n",
       "  <tbody>\n",
       "    <tr>\n",
       "      <th>0</th>\n",
       "      <td>004288347e5e88a27ded2bb23747066c</td>\n",
       "      <td>[171]</td>\n",
       "    </tr>\n",
       "    <tr>\n",
       "      <th>1</th>\n",
       "      <td>00a39521eb40f7012db50455bf083460</td>\n",
       "      <td>[11]</td>\n",
       "    </tr>\n",
       "    <tr>\n",
       "      <th>2</th>\n",
       "      <td>011575986092c30523ecb71ff10cb473</td>\n",
       "      <td>[60]</td>\n",
       "    </tr>\n",
       "    <tr>\n",
       "      <th>3</th>\n",
       "      <td>011b4adcd54683b480c4d841250a987f</td>\n",
       "      <td>[177, 0]</td>\n",
       "    </tr>\n",
       "    <tr>\n",
       "      <th>4</th>\n",
       "      <td>012452d40dafae4df401bced74cdb490</td>\n",
       "      <td>[330]</td>\n",
       "    </tr>\n",
       "  </tbody>\n",
       "</table>\n",
       "</div>"
      ],
      "text/plain": [
       "                 customer_unique_id         0\n",
       "0  004288347e5e88a27ded2bb23747066c     [171]\n",
       "1  00a39521eb40f7012db50455bf083460      [11]\n",
       "2  011575986092c30523ecb71ff10cb473      [60]\n",
       "3  011b4adcd54683b480c4d841250a987f  [177, 0]\n",
       "4  012452d40dafae4df401bced74cdb490     [330]"
      ]
     },
     "execution_count": 275,
     "metadata": {},
     "output_type": "execute_result"
    }
   ],
   "source": [
    "def get_dayterm_by_orderdate(x):\n",
    "    prev_purchase_date = None\n",
    "    dayterm_list = []\n",
    "    for purchase_date in x.sort_values('order_purchase_date')['order_purchase_date'].tolist():\n",
    "        if prev_purchase_date is not None:\n",
    "            dayterm_list.append((purchase_date - prev_purchase_date).days)\n",
    "        prev_purchase_date = purchase_date\n",
    "    return dayterm_list\n",
    "\n",
    "temp_df = temp_df.groupby('customer_unique_id').apply(lambda x: get_dayterm_by_orderdate(x)).reset_index()\n",
    "temp_df.head()"
   ]
  },
  {
   "cell_type": "code",
   "execution_count": 276,
   "id": "a487472a-39cd-4299-9382-41b99f488698",
   "metadata": {},
   "outputs": [
    {
     "data": {
      "text/html": [
       "<div>\n",
       "<style scoped>\n",
       "    .dataframe tbody tr th:only-of-type {\n",
       "        vertical-align: middle;\n",
       "    }\n",
       "\n",
       "    .dataframe tbody tr th {\n",
       "        vertical-align: top;\n",
       "    }\n",
       "\n",
       "    .dataframe thead th {\n",
       "        text-align: right;\n",
       "    }\n",
       "</style>\n",
       "<table border=\"1\" class=\"dataframe\">\n",
       "  <thead>\n",
       "    <tr style=\"text-align: right;\">\n",
       "      <th></th>\n",
       "      <th>customer_unique_id</th>\n",
       "      <th>dayterm_list</th>\n",
       "      <th>dayterm_mean</th>\n",
       "    </tr>\n",
       "  </thead>\n",
       "  <tbody>\n",
       "    <tr>\n",
       "      <th>0</th>\n",
       "      <td>004288347e5e88a27ded2bb23747066c</td>\n",
       "      <td>[171]</td>\n",
       "      <td>171.0</td>\n",
       "    </tr>\n",
       "    <tr>\n",
       "      <th>1</th>\n",
       "      <td>00a39521eb40f7012db50455bf083460</td>\n",
       "      <td>[11]</td>\n",
       "      <td>11.0</td>\n",
       "    </tr>\n",
       "    <tr>\n",
       "      <th>2</th>\n",
       "      <td>011575986092c30523ecb71ff10cb473</td>\n",
       "      <td>[60]</td>\n",
       "      <td>60.0</td>\n",
       "    </tr>\n",
       "    <tr>\n",
       "      <th>3</th>\n",
       "      <td>011b4adcd54683b480c4d841250a987f</td>\n",
       "      <td>[177, 0]</td>\n",
       "      <td>88.5</td>\n",
       "    </tr>\n",
       "    <tr>\n",
       "      <th>4</th>\n",
       "      <td>012452d40dafae4df401bced74cdb490</td>\n",
       "      <td>[330]</td>\n",
       "      <td>330.0</td>\n",
       "    </tr>\n",
       "  </tbody>\n",
       "</table>\n",
       "</div>"
      ],
      "text/plain": [
       "                 customer_unique_id dayterm_list  dayterm_mean\n",
       "0  004288347e5e88a27ded2bb23747066c        [171]         171.0\n",
       "1  00a39521eb40f7012db50455bf083460         [11]          11.0\n",
       "2  011575986092c30523ecb71ff10cb473         [60]          60.0\n",
       "3  011b4adcd54683b480c4d841250a987f     [177, 0]          88.5\n",
       "4  012452d40dafae4df401bced74cdb490        [330]         330.0"
      ]
     },
     "execution_count": 276,
     "metadata": {},
     "output_type": "execute_result"
    }
   ],
   "source": [
    "temp_df.columns = ['customer_unique_id', 'dayterm_list']\n",
    "temp_df['dayterm_mean'] = temp_df['dayterm_list'].apply(lambda x: np.mean(x))\n",
    "temp_df.head()"
   ]
  },
  {
   "cell_type": "code",
   "execution_count": 277,
   "id": "550e1d86-a10f-473a-85bd-93a9ff46eb8d",
   "metadata": {},
   "outputs": [
    {
     "data": {
      "text/plain": [
       "<AxesSubplot:>"
      ]
     },
     "execution_count": 277,
     "metadata": {},
     "output_type": "execute_result"
    },
    {
     "data": {
      "image/png": "[encoded data removed]",
      "text/plain": [
       "<Figure size 720x576 with 1 Axes>"
      ]
     },
     "metadata": {
      "needs_background": "light"
     },
     "output_type": "display_data"
    }
   ],
   "source": [
    "temp_df['dayterm_mean'].hist(bins=30)"
   ]
  },
  {
   "cell_type": "code",
   "execution_count": 278,
   "id": "e8e90cf6-85cf-4439-9ed9-bec5931793ae",
   "metadata": {},
   "outputs": [
    {
     "data": {
      "text/plain": [
       "customer_unique_id                product_id                      \n",
       "004288347e5e88a27ded2bb23747066c  6e1b14d3cbb5fb3a2c00351007127dfd    1\n",
       "                                  a2bd2eae20998a24c22b110334928b02    1\n",
       "00a39521eb40f7012db50455bf083460  a42d9c825894f96fc6ed02610891454d    1\n",
       "                                  f89cd865cac300a9bf1320dd8f0fa223    1\n",
       "011575986092c30523ecb71ff10cb473  098c663630a7a81f7d7f42a2ce0b02d7    1\n",
       "                                                                     ..\n",
       "ff8892f7c26aa0446da53d01b18df463  09690382191f134e947200ccfe32f7c0    1\n",
       "                                  cfb763496d9fc48751a27db4fd02aa2d    1\n",
       "ff922bdd6bafcdf99cb90d7f39cea5b3  b8762d562d810c2f8d7ad7e9c12957be    1\n",
       "                                  e54cb69cc7bf5d21921991aae48501fb    1\n",
       "                                  fd3a4121e687a6b84e7af92606d5d718    1\n",
       "Name: product_id, Length: 4189, dtype: int64"
      ]
     },
     "execution_count": 278,
     "metadata": {},
     "output_type": "execute_result"
    }
   ],
   "source": [
    "user_df = order_df.groupby('customer_unique_id')['order_purchase_date'].nunique().reset_index()\n",
    "user_df = user_df[user_df['order_purchase_date']>1]\n",
    "cuid_list = user_df['customer_unique_id'].tolist()\n",
    "temp_df = order_df[order_df['customer_unique_id'].isin(cuid_list)]\n",
    "temp_df.groupby('customer_unique_id')['product_id'].value_counts()"
   ]
  },
  {
   "cell_type": "code",
   "execution_count": 279,
   "id": "a354709e-4bee-4f97-b417-4f88e293650b",
   "metadata": {},
   "outputs": [
    {
     "data": {
      "text/plain": [
       "customer_unique_id\n",
       "004288347e5e88a27ded2bb23747066c                                         []\n",
       "00a39521eb40f7012db50455bf083460                                         []\n",
       "011575986092c30523ecb71ff10cb473                                         []\n",
       "011b4adcd54683b480c4d841250a987f    [(ed2067a9c1f79553088a3c67b99a9f97, 1)]\n",
       "012452d40dafae4df401bced74cdb490                                         []\n",
       "                                                     ...                   \n",
       "fe81bb32c243a86b2f86fbf053fe6140    [(e2bb00220a167d9e60b6776ac33717bc, 1)]\n",
       "fed519569d16e690df6f89cb99d4e682                                         []\n",
       "ff03923ad1eb9e32304deb7f9b2a45c9    [(6463e442310f2f4f321c83a32d8c662b, 1)]\n",
       "ff8892f7c26aa0446da53d01b18df463                                         []\n",
       "ff922bdd6bafcdf99cb90d7f39cea5b3                                         []\n",
       "Name: product_id, Length: 1974, dtype: object"
      ]
     },
     "execution_count": 279,
     "metadata": {},
     "output_type": "execute_result"
    }
   ],
   "source": [
    "def get_reorder_info(x):\n",
    "    product_order_counts = x.value_counts()\n",
    "    reorder_products = product_order_counts[product_order_counts>1]\n",
    "    reorder_list = []\n",
    "    iter_list = zip(reorder_products.index.tolist(), reorder_products.values.tolist())\n",
    "    for product_id, reorder_cnt in iter_list:\n",
    "        reorder_list.append((product_id, reorder_cnt-1))\n",
    "    return reorder_list\n",
    "\n",
    "temp_df.groupby('customer_unique_id')['product_id'].apply(lambda x: get_reorder_info(x))"
   ]
  },
  {
   "cell_type": "code",
   "execution_count": 280,
   "id": "5123cf8f-6ffa-4589-9054-ff563d54474e",
   "metadata": {},
   "outputs": [
    {
     "data": {
      "text/html": [
       "<div>\n",
       "<style scoped>\n",
       "    .dataframe tbody tr th:only-of-type {\n",
       "        vertical-align: middle;\n",
       "    }\n",
       "\n",
       "    .dataframe tbody tr th {\n",
       "        vertical-align: top;\n",
       "    }\n",
       "\n",
       "    .dataframe thead th {\n",
       "        text-align: right;\n",
       "    }\n",
       "</style>\n",
       "<table border=\"1\" class=\"dataframe\">\n",
       "  <thead>\n",
       "    <tr style=\"text-align: right;\">\n",
       "      <th></th>\n",
       "      <th>customer_unique_id</th>\n",
       "      <th>product_id</th>\n",
       "    </tr>\n",
       "  </thead>\n",
       "  <tbody>\n",
       "    <tr>\n",
       "      <th>3</th>\n",
       "      <td>011b4adcd54683b480c4d841250a987f</td>\n",
       "      <td>[(ed2067a9c1f79553088a3c67b99a9f97, 1)]</td>\n",
       "    </tr>\n",
       "    <tr>\n",
       "      <th>7</th>\n",
       "      <td>013f4353d26bb05dc6652f1269458d8d</td>\n",
       "      <td>[(9e164b4afdecc7c67fb9b6f12c104e21, 1)]</td>\n",
       "    </tr>\n",
       "    <tr>\n",
       "      <th>9</th>\n",
       "      <td>0178b244a5c281fb2ade54038dd4b161</td>\n",
       "      <td>[(32dfa38395ccd47d7b320470b0514fee, 1)]</td>\n",
       "    </tr>\n",
       "    <tr>\n",
       "      <th>13</th>\n",
       "      <td>02168ea18740a0fdaaa15f11bebba5db</td>\n",
       "      <td>[(f646af315b0f3a597f69213537ca2199, 3)]</td>\n",
       "    </tr>\n",
       "    <tr>\n",
       "      <th>17</th>\n",
       "      <td>02e9109b7e0a985108b43e573b6afb23</td>\n",
       "      <td>[(e4b0f340d2552f744b4c2d48dffbc0e2, 2)]</td>\n",
       "    </tr>\n",
       "    <tr>\n",
       "      <th>...</th>\n",
       "      <td>...</td>\n",
       "      <td>...</td>\n",
       "    </tr>\n",
       "    <tr>\n",
       "      <th>1964</th>\n",
       "      <td>fd47af963b760f05fbc357474509905e</td>\n",
       "      <td>[(75d6b6963340c6063f7f4cfcccfe6a30, 1)]</td>\n",
       "    </tr>\n",
       "    <tr>\n",
       "      <th>1965</th>\n",
       "      <td>fd8ccc89be43894d2553494c71a61fd8</td>\n",
       "      <td>[(98495a200164656ae8cbfe649729ba4d, 1), (b7605...</td>\n",
       "    </tr>\n",
       "    <tr>\n",
       "      <th>1966</th>\n",
       "      <td>fdb1f3e0dd15b657acc64314ce89688f</td>\n",
       "      <td>[(491067a4bc3ca4303e9fba74d629412c, 1)]</td>\n",
       "    </tr>\n",
       "    <tr>\n",
       "      <th>1969</th>\n",
       "      <td>fe81bb32c243a86b2f86fbf053fe6140</td>\n",
       "      <td>[(e2bb00220a167d9e60b6776ac33717bc, 1)]</td>\n",
       "    </tr>\n",
       "    <tr>\n",
       "      <th>1971</th>\n",
       "      <td>ff03923ad1eb9e32304deb7f9b2a45c9</td>\n",
       "      <td>[(6463e442310f2f4f321c83a32d8c662b, 1)]</td>\n",
       "    </tr>\n",
       "  </tbody>\n",
       "</table>\n",
       "<p>567 rows × 2 columns</p>\n",
       "</div>"
      ],
      "text/plain": [
       "                    customer_unique_id  \\\n",
       "3     011b4adcd54683b480c4d841250a987f   \n",
       "7     013f4353d26bb05dc6652f1269458d8d   \n",
       "9     0178b244a5c281fb2ade54038dd4b161   \n",
       "13    02168ea18740a0fdaaa15f11bebba5db   \n",
       "17    02e9109b7e0a985108b43e573b6afb23   \n",
       "...                                ...   \n",
       "1964  fd47af963b760f05fbc357474509905e   \n",
       "1965  fd8ccc89be43894d2553494c71a61fd8   \n",
       "1966  fdb1f3e0dd15b657acc64314ce89688f   \n",
       "1969  fe81bb32c243a86b2f86fbf053fe6140   \n",
       "1971  ff03923ad1eb9e32304deb7f9b2a45c9   \n",
       "\n",
       "                                             product_id  \n",
       "3               [(ed2067a9c1f79553088a3c67b99a9f97, 1)]  \n",
       "7               [(9e164b4afdecc7c67fb9b6f12c104e21, 1)]  \n",
       "9               [(32dfa38395ccd47d7b320470b0514fee, 1)]  \n",
       "13              [(f646af315b0f3a597f69213537ca2199, 3)]  \n",
       "17              [(e4b0f340d2552f744b4c2d48dffbc0e2, 2)]  \n",
       "...                                                 ...  \n",
       "1964            [(75d6b6963340c6063f7f4cfcccfe6a30, 1)]  \n",
       "1965  [(98495a200164656ae8cbfe649729ba4d, 1), (b7605...  \n",
       "1966            [(491067a4bc3ca4303e9fba74d629412c, 1)]  \n",
       "1969            [(e2bb00220a167d9e60b6776ac33717bc, 1)]  \n",
       "1971            [(6463e442310f2f4f321c83a32d8c662b, 1)]  \n",
       "\n",
       "[567 rows x 2 columns]"
      ]
     },
     "execution_count": 280,
     "metadata": {},
     "output_type": "execute_result"
    }
   ],
   "source": [
    "reorder_info_df = temp_df.groupby('customer_unique_id')['product_id'].apply(lambda x: get_reorder_info(x)).reset_index()\n",
    "reorder_info_df = reorder_info_df[reorder_info_df['product_id'].apply(lambda x: len(x)) > 0]\n",
    "reorder_info_df"
   ]
  },
  {
   "cell_type": "code",
   "execution_count": 281,
   "id": "fc5381a7-eff5-45f0-82ef-499e43c72c42",
   "metadata": {},
   "outputs": [],
   "source": [
    "product_reorder_dict = {}\n",
    "\n",
    "for index, row in reorder_info_df.iterrows():\n",
    "    for tup in row['product_id']:\n",
    "        product_id, reorder_cnt = tup[0], tup[1]\n",
    "        if product_id in product_reorder_dict:\n",
    "            product_reorder_dict[product_id] += reorder_cnt\n",
    "        else:\n",
    "            product_reorder_dict[product_id] = reorder_cnt"
   ]
  },
  {
   "cell_type": "code",
   "execution_count": 282,
   "id": "af8a4554-8211-4d4b-a402-28ba5936218b",
   "metadata": {},
   "outputs": [
    {
     "data": {
      "text/plain": [
       "[('e7cc48a9daff5436f63d3aad9426f28b', 23),\n",
       " ('89b190a046022486c635022524a974a8', 14),\n",
       " ('04c4a4b9c924494fcf82e0fba966f955', 11),\n",
       " ('f3720bc68555b1bff49b9ffd41b017ac', 11),\n",
       " ('812f428f6757ab16c46cffc68f2e90c5', 10),\n",
       " ('d493f5a208254fe85b3ab55d898461a1', 10),\n",
       " ('928e52a9ad53a294fdcc91bcf59d1751', 9),\n",
       " ('3fdb534dccf5bc9ab0406944b913787d', 9),\n",
       " ('7c68e7297c7df2535c9f0dcd61007f64', 9),\n",
       " ('d34c07a2d817ac73f4caf8c574215fed', 9)]"
      ]
     },
     "execution_count": 282,
     "metadata": {},
     "output_type": "execute_result"
    }
   ],
   "source": [
    "sorted_dict = sorted(product_reorder_dict.items(), key = lambda item: item[1], reverse = True)\n",
    "sorted_dict[:10]"
   ]
  },
  {
   "cell_type": "code",
   "execution_count": 283,
   "id": "d683eda6-b12b-4d07-8fdd-47acd66176f1",
   "metadata": {},
   "outputs": [
    {
     "name": "stdout",
     "output_type": "stream",
     "text": [
      "telephony\n",
      "furniture_decor\n",
      "watches_gifts\n",
      "computers_accessories\n",
      "furniture_decor\n",
      "food\n",
      "housewares\n",
      "diapers_and_hygiene\n",
      "furniture_decor\n",
      "telephony\n"
     ]
    }
   ],
   "source": [
    "product_category_dict = order_df[['product_id', 'category_name']].set_index('product_id').to_dict()\n",
    "\n",
    "for tup in sorted_dict[:10]:\n",
    "    print(product_category_dict['category_name'][tup[0]])"
   ]
  },
  {
   "cell_type": "markdown",
   "id": "bcb59ff9-d92d-4cbc-8b43-cf25194ee92f",
   "metadata": {},
   "source": [
    "----\n",
    "## 3. 행동 정보를 활용한 유저 군집 분석\n",
    "### 1) 유저 프로파일링 정리하기"
   ]
  },
  {
   "cell_type": "code",
   "execution_count": 299,
   "id": "526d7193-23e2-45ef-b531-cc9a7cec73af",
   "metadata": {},
   "outputs": [],
   "source": [
    "# 유저별 주문 갯수\n",
    "order_df['order_stuff_count'] = order_df.groupby('customer_unique_id')['order_id'].transform(lambda x: x.nunique())"
   ]
  },
  {
   "cell_type": "code",
   "execution_count": 300,
   "id": "6dd81775-e2aa-4638-89df-83a3ad4f2bd5",
   "metadata": {},
   "outputs": [],
   "source": [
    "# 유저별 재방문 일수\n",
    "order_df['order_revisit_count'] = order_df.groupby('customer_unique_id')['order_purchase_date'].transform(lambda x: x.nunique())"
   ]
  },
  {
   "cell_type": "code",
   "execution_count": 301,
   "id": "8588c84f-9ecf-4118-bf72-2188d597c513",
   "metadata": {},
   "outputs": [
    {
     "data": {
      "text/plain": [
       "(108616, 17)"
      ]
     },
     "execution_count": 301,
     "metadata": {},
     "output_type": "execute_result"
    }
   ],
   "source": [
    "order_df.shape"
   ]
  },
  {
   "cell_type": "code",
   "execution_count": 286,
   "id": "45c857bf-ca02-4f51-8fca-8ca4960d73b8",
   "metadata": {},
   "outputs": [
    {
     "data": {
      "text/html": [
       "<div>\n",
       "<style scoped>\n",
       "    .dataframe tbody tr th:only-of-type {\n",
       "        vertical-align: middle;\n",
       "    }\n",
       "\n",
       "    .dataframe tbody tr th {\n",
       "        vertical-align: top;\n",
       "    }\n",
       "\n",
       "    .dataframe thead th {\n",
       "        text-align: right;\n",
       "    }\n",
       "</style>\n",
       "<table border=\"1\" class=\"dataframe\">\n",
       "  <thead>\n",
       "    <tr style=\"text-align: right;\">\n",
       "      <th></th>\n",
       "      <th>customer_unique_id</th>\n",
       "      <th>order_stuff_count</th>\n",
       "      <th>order_revisit_count</th>\n",
       "    </tr>\n",
       "  </thead>\n",
       "  <tbody>\n",
       "    <tr>\n",
       "      <th>0</th>\n",
       "      <td>871766c5855e863f6eccc05f988b23cb</td>\n",
       "      <td>1</td>\n",
       "      <td>1</td>\n",
       "    </tr>\n",
       "    <tr>\n",
       "      <th>1</th>\n",
       "      <td>eb28e67c4c0b83846050ddfb8a35d051</td>\n",
       "      <td>2</td>\n",
       "      <td>2</td>\n",
       "    </tr>\n",
       "    <tr>\n",
       "      <th>2</th>\n",
       "      <td>3818d81c6709e39d06b2738a8d3a2474</td>\n",
       "      <td>1</td>\n",
       "      <td>1</td>\n",
       "    </tr>\n",
       "    <tr>\n",
       "      <th>3</th>\n",
       "      <td>af861d436cfc08b2c2ddefd0ba074622</td>\n",
       "      <td>1</td>\n",
       "      <td>1</td>\n",
       "    </tr>\n",
       "    <tr>\n",
       "      <th>4</th>\n",
       "      <td>64b576fb70d441e8f1b2d7d446e483c5</td>\n",
       "      <td>1</td>\n",
       "      <td>1</td>\n",
       "    </tr>\n",
       "  </tbody>\n",
       "</table>\n",
       "</div>"
      ],
      "text/plain": [
       "                 customer_unique_id  order_stuff_count  order_revisit_count\n",
       "0  871766c5855e863f6eccc05f988b23cb                  1                    1\n",
       "1  eb28e67c4c0b83846050ddfb8a35d051                  2                    2\n",
       "2  3818d81c6709e39d06b2738a8d3a2474                  1                    1\n",
       "3  af861d436cfc08b2c2ddefd0ba074622                  1                    1\n",
       "4  64b576fb70d441e8f1b2d7d446e483c5                  1                    1"
      ]
     },
     "execution_count": 286,
     "metadata": {},
     "output_type": "execute_result"
    }
   ],
   "source": [
    "order_df[['customer_unique_id', 'order_stuff_count', 'order_revisit_count']].head()"
   ]
  },
  {
   "cell_type": "code",
   "execution_count": 288,
   "id": "c8699943-99a0-4d4a-b4fc-a33717821d09",
   "metadata": {},
   "outputs": [
    {
     "data": {
      "text/plain": [
       "<AxesSubplot:xlabel='order_stuff_count', ylabel='order_revisit_count'>"
      ]
     },
     "execution_count": 288,
     "metadata": {},
     "output_type": "execute_result"
    },
    {
     "data": {
      "image/png": "[encoded data removed]",
      "text/plain": [
       "<Figure size 720x576 with 1 Axes>"
      ]
     },
     "metadata": {
      "needs_background": "light"
     },
     "output_type": "display_data"
    }
   ],
   "source": [
    "order_df.plot.scatter(x='order_stuff_count', y='order_revisit_count')"
   ]
  },
  {
   "cell_type": "code",
   "execution_count": 290,
   "id": "36ff3bd2-c478-406b-889a-26eddff787f0",
   "metadata": {},
   "outputs": [
    {
     "name": "stdout",
     "output_type": "stream",
     "text": [
      "Collecting sklearn\n",
      "  Using cached sklearn-0.0-py2.py3-none-any.whl\n",
      "Collecting scikit-learn\n",
      "  Using cached scikit_learn-0.24.2-cp38-cp38-macosx_10_13_x86_64.whl (7.2 MB)\n",
      "Requirement already satisfied: numpy>=1.13.3 in /Users/A202009066/anaconda3/envs/pybook/lib/python3.8/site-packages (from scikit-learn->sklearn) (1.21.2)\n",
      "Collecting threadpoolctl>=2.0.0\n",
      "  Using cached threadpoolctl-2.2.0-py3-none-any.whl (12 kB)\n",
      "Requirement already satisfied: scipy>=0.19.1 in /Users/A202009066/anaconda3/envs/pybook/lib/python3.8/site-packages (from scikit-learn->sklearn) (1.7.1)\n",
      "Collecting joblib>=0.11\n",
      "  Using cached joblib-1.0.1-py3-none-any.whl (303 kB)\n",
      "Installing collected packages: threadpoolctl, joblib, scikit-learn, sklearn\n",
      "Successfully installed joblib-1.0.1 scikit-learn-0.24.2 sklearn-0.0 threadpoolctl-2.2.0\n"
     ]
    }
   ],
   "source": [
    "!pip install sklearn"
   ]
  },
  {
   "cell_type": "code",
   "execution_count": 291,
   "id": "f6297836-7801-4b89-997c-0b1ea5a85a64",
   "metadata": {},
   "outputs": [
    {
     "name": "stdout",
     "output_type": "stream",
     "text": [
      "k: 1 | cost: 26775.80845360746\n",
      "k: 2 | cost: 10997.613386721681\n",
      "k: 3 | cost: 5725.163956196216\n",
      "k: 4 | cost: 3864.419020248721\n",
      "k: 5 | cost: 2035.2837010806359\n",
      "k: 6 | cost: 854.9994485760524\n",
      "k: 7 | cost: 523.9222534290228\n",
      "k: 8 | cost: 343.90359541405184\n",
      "k: 9 | cost: 273.62055483348246\n"
     ]
    },
    {
     "data": {
      "text/plain": [
       "[<matplotlib.lines.Line2D at 0x7f8a20182c10>]"
      ]
     },
     "execution_count": 291,
     "metadata": {},
     "output_type": "execute_result"
    },
    {
     "data": {
      "image/png": "[encoded data removed]",
      "text/plain": [
       "<Figure size 720x576 with 1 Axes>"
      ]
     },
     "metadata": {
      "needs_background": "light"
     },
     "output_type": "display_data"
    }
   ],
   "source": [
    "from sklearn.cluster import KMeans\n",
    "\n",
    "# K-means 모델 학습\n",
    "X = order_df[['order_stuff_count', 'order_revisit_count']]\n",
    "\n",
    "k_list = []\n",
    "cost_list = []\n",
    "for k in range (1, 10):\n",
    "    kmeans = KMeans(n_clusters=k).fit(X)\n",
    "    interia = kmeans.inertia_\n",
    "    print (\"k:\", k, \"| cost:\", interia)\n",
    "    k_list.append(k)\n",
    "    cost_list.append(interia)\n",
    "    \n",
    "# Elbow method 시각화\n",
    "plt.plot(k_list, cost_list)"
   ]
  },
  {
   "cell_type": "code",
   "execution_count": 294,
   "id": "bb9e399b-9db2-41f2-b82c-a6a026afb1cf",
   "metadata": {},
   "outputs": [],
   "source": [
    "kmeans = KMeans(n_clusters=3).fit(X)\n",
    "cluster_num = kmeans.predict(X)\n",
    "cluster = pd.Series(cluster_num)\n",
    "order_df['cluster_num'] = cluster.values"
   ]
  },
  {
   "cell_type": "code",
   "execution_count": 296,
   "id": "fc79d20b-5b33-4357-be7c-b8156cc5c090",
   "metadata": {},
   "outputs": [
    {
     "name": "stdout",
     "output_type": "stream",
     "text": [
      "0    103361\n",
      "1      5144\n",
      "2       111\n",
      "Name: cluster_num, dtype: int64\n"
     ]
    }
   ],
   "source": [
    "print(order_df['cluster_num'].value_counts())"
   ]
  },
  {
   "cell_type": "code",
   "execution_count": 298,
   "id": "2eb9db66-9a8b-43d8-b687-7595f5b65a82",
   "metadata": {},
   "outputs": [
    {
     "data": {
      "image/png": "[encoded data removed]",
      "text/plain": [
       "<Figure size 720x576 with 1 Axes>"
      ]
     },
     "metadata": {
      "needs_background": "light"
     },
     "output_type": "display_data"
    }
   ],
   "source": [
    "plt.scatter(order_df[order_df['cluster_num'] == 0]['order_stuff_count'], \n",
    "            order_df[order_df['cluster_num'] == 0]['order_revisit_count'], \n",
    "            s = 50, c = 'red', label = 'User Group 1')\n",
    "plt.scatter(order_df[order_df['cluster_num'] == 1]['order_stuff_count'], \n",
    "            order_df[order_df['cluster_num'] == 1]['order_revisit_count'], \n",
    "            s = 50, c = 'green', label = 'User Group 2')\n",
    "plt.scatter(order_df[order_df['cluster_num'] == 2]['order_stuff_count'], \n",
    "            order_df[order_df['cluster_num'] == 2]['order_revisit_count'], \n",
    "            s = 50, c = 'blue', label = 'User Group 3')\n",
    "plt.title('User Cluster by order_stuff_count, order_revisit_count')\n",
    "plt.xlabel('order_stuff_count')\n",
    "plt.ylabel('order_revisit_count')\n",
    "plt.legend()\n",
    "plt.show()"
   ]
  },
  {
   "cell_type": "code",
   "execution_count": null,
   "id": "348db4f6-30e6-4861-ab5c-834ecf4c03ab",
   "metadata": {},
   "outputs": [],
   "source": []
  }
 ],
 "metadata": {
  "kernelspec": {
   "display_name": "Python 3 (ipykernel)",
   "language": "python",
   "name": "python3"
  },
  "language_info": {
   "codemirror_mode": {
    "name": "ipython",
    "version": 3
   },
   "file_extension": ".py",
   "mimetype": "text/x-python",
   "name": "python",
   "nbconvert_exporter": "python",
   "pygments_lexer": "ipython3",
   "version": "3.7.10"
  }
 },
 "nbformat": 4,
 "nbformat_minor": 5
}
