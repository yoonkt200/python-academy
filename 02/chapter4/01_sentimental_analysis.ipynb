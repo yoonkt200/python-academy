{
 "cells": [
  {
   "cell_type": "markdown",
   "id": "f7eefa6e-cdac-43a4-ae8d-7f1480fbc6a9",
   "metadata": {},
   "source": [
    "## 1. 데이터셋 살펴보기\n",
    "### 1) 데이터의 크기 및 기본 정보"
   ]
  },
  {
   "cell_type": "code",
   "execution_count": 90,
   "id": "a4b3f76b-4e79-409c-bbd8-68982734b17a",
   "metadata": {},
   "outputs": [],
   "source": [
    "# -*- coding: utf-8 -*-\n",
    "\n",
    "%matplotlib inline\n",
    "\n",
    "import pandas as pd\n",
    "import numpy as np\n",
    "import matplotlib.pyplot as plt\n",
    "\n",
    "data_dir = '../../dataset/tripadvisor_review.csv'\n",
    "review_df = pd.read_csv(data_dir)"
   ]
  },
  {
   "cell_type": "code",
   "execution_count": 91,
   "id": "050a6353-7684-43aa-b228-ec7942864ac5",
   "metadata": {},
   "outputs": [
    {
     "data": {
      "text/html": [
       "<div>\n",
       "<style scoped>\n",
       "    .dataframe tbody tr th:only-of-type {\n",
       "        vertical-align: middle;\n",
       "    }\n",
       "\n",
       "    .dataframe tbody tr th {\n",
       "        vertical-align: top;\n",
       "    }\n",
       "\n",
       "    .dataframe thead th {\n",
       "        text-align: right;\n",
       "    }\n",
       "</style>\n",
       "<table border=\"1\" class=\"dataframe\">\n",
       "  <thead>\n",
       "    <tr style=\"text-align: right;\">\n",
       "      <th></th>\n",
       "      <th>rating</th>\n",
       "      <th>text</th>\n",
       "    </tr>\n",
       "  </thead>\n",
       "  <tbody>\n",
       "    <tr>\n",
       "      <th>0</th>\n",
       "      <td>4</td>\n",
       "      <td>여행에 집중할수 있게 편안한 휴식을 제공하는 호텔이었습니다. 위치선정 또한 적당한 ...</td>\n",
       "    </tr>\n",
       "    <tr>\n",
       "      <th>1</th>\n",
       "      <td>4</td>\n",
       "      <td>2일 이상 연박시 침대, 이불, 베게등 침구류 교체 및 어메니티 보강이 필요해 보입...</td>\n",
       "    </tr>\n",
       "    <tr>\n",
       "      <th>2</th>\n",
       "      <td>4</td>\n",
       "      <td>지인에소개로온 호텔  깨끗하고 좋은거같아요 처음에는 없는게 많아 많이  당황했는데 ...</td>\n",
       "    </tr>\n",
       "    <tr>\n",
       "      <th>3</th>\n",
       "      <td>5</td>\n",
       "      <td>방에 딱 들어서자마자 눈이 휘둥그레질정도로 이렇게 넓은 호텔 처음 와본 것 같아요!...</td>\n",
       "    </tr>\n",
       "    <tr>\n",
       "      <th>4</th>\n",
       "      <td>5</td>\n",
       "      <td>저녁에 맥주한잔 하는게 좋아서 렌트 안하고 뚜벅이 하기로 했는데 호텔 바로 앞에 버...</td>\n",
       "    </tr>\n",
       "  </tbody>\n",
       "</table>\n",
       "</div>"
      ],
      "text/plain": [
       "   rating                                               text\n",
       "0       4  여행에 집중할수 있게 편안한 휴식을 제공하는 호텔이었습니다. 위치선정 또한 적당한 ...\n",
       "1       4  2일 이상 연박시 침대, 이불, 베게등 침구류 교체 및 어메니티 보강이 필요해 보입...\n",
       "2       4  지인에소개로온 호텔  깨끗하고 좋은거같아요 처음에는 없는게 많아 많이  당황했는데 ...\n",
       "3       5  방에 딱 들어서자마자 눈이 휘둥그레질정도로 이렇게 넓은 호텔 처음 와본 것 같아요!...\n",
       "4       5  저녁에 맥주한잔 하는게 좋아서 렌트 안하고 뚜벅이 하기로 했는데 호텔 바로 앞에 버..."
      ]
     },
     "execution_count": 91,
     "metadata": {},
     "output_type": "execute_result"
    }
   ],
   "source": [
    "review_df.head()"
   ]
  },
  {
   "cell_type": "code",
   "execution_count": 92,
   "id": "e71ea784-34e4-401d-9dec-b46ad590fa5e",
   "metadata": {},
   "outputs": [
    {
     "data": {
      "text/plain": [
       "(1001, 2)"
      ]
     },
     "execution_count": 92,
     "metadata": {},
     "output_type": "execute_result"
    }
   ],
   "source": [
    "review_df.shape"
   ]
  },
  {
   "cell_type": "code",
   "execution_count": 93,
   "id": "813260c7-d949-44b0-8aa6-c21cc9769dbb",
   "metadata": {},
   "outputs": [
    {
     "name": "stdout",
     "output_type": "stream",
     "text": [
      "<class 'pandas.core.frame.DataFrame'>\n",
      "RangeIndex: 1001 entries, 0 to 1000\n",
      "Data columns (total 2 columns):\n",
      " #   Column  Non-Null Count  Dtype \n",
      "---  ------  --------------  ----- \n",
      " 0   rating  1001 non-null   int64 \n",
      " 1   text    1001 non-null   object\n",
      "dtypes: int64(1), object(1)\n",
      "memory usage: 15.8+ KB\n"
     ]
    }
   ],
   "source": [
    "review_df.info()"
   ]
  },
  {
   "cell_type": "code",
   "execution_count": 94,
   "id": "d833c350-5e18-41b8-b70c-792f8ce1624d",
   "metadata": {},
   "outputs": [
    {
     "data": {
      "text/plain": [
       "'여행에 집중할수 있게 편안한 휴식을 제공하는 호텔이었습니다. 위치선정 또한 적당한 편이었고 청소나 청결상태도 좋았습니다.'"
      ]
     },
     "execution_count": 94,
     "metadata": {},
     "output_type": "execute_result"
    }
   ],
   "source": [
    "review_df['text'][0]"
   ]
  },
  {
   "cell_type": "code",
   "execution_count": 95,
   "id": "e7169528-2935-4f53-9c73-04d92be0081c",
   "metadata": {},
   "outputs": [
    {
     "data": {
      "text/plain": [
       "223576"
      ]
     },
     "execution_count": 95,
     "metadata": {},
     "output_type": "execute_result"
    }
   ],
   "source": [
    "len(review_df['text'].values.sum())"
   ]
  },
  {
   "cell_type": "markdown",
   "id": "2914f4bf-5c9a-4c52-8663-fad8b59df910",
   "metadata": {},
   "source": [
    "----\n",
    "## 2. 텍스트 데이터 전처리\n",
    "### 1) 한글 형태소 데이터로 전처리하기"
   ]
  },
  {
   "cell_type": "code",
   "execution_count": 96,
   "id": "2aa81b8e-2697-43c2-b03b-bdab6812c580",
   "metadata": {},
   "outputs": [],
   "source": [
    "import re\n",
    "\n",
    "def apply_regular_expression(text):\n",
    "    hangul = re.compile('[^ ㄱ-ㅣ가-힣]') # 한글의 정규표현식\n",
    "    result = hangul.sub('', text)\n",
    "    return result"
   ]
  },
  {
   "cell_type": "code",
   "execution_count": 97,
   "id": "ec5dca1c-ae35-4592-b00e-4359b6d8b56f",
   "metadata": {},
   "outputs": [
    {
     "data": {
      "text/plain": [
       "'여행에 집중할수 있게 편안한 휴식을 제공하는 호텔이었습니다 위치선정 또한 적당한 편이었고 청소나 청결상태도 좋았습니다'"
      ]
     },
     "execution_count": 97,
     "metadata": {},
     "output_type": "execute_result"
    }
   ],
   "source": [
    "apply_regular_expression(review_df['text'][0])"
   ]
  },
  {
   "cell_type": "markdown",
   "id": "69cc7fd9-28db-4862-9069-bc6037b0a0eb",
   "metadata": {},
   "source": [
    "----\n",
    "### 2) 명사 단위로 형태소 분석하기"
   ]
  },
  {
   "cell_type": "code",
   "execution_count": 98,
   "id": "cae62c9d-d28e-4862-9030-2f5beae647b2",
   "metadata": {},
   "outputs": [],
   "source": [
    "from konlpy.tag import Okt\n",
    "\n",
    "nouns_tagger = Okt()\n",
    "nouns = nouns_tagger.nouns(apply_regular_expression(review_df['text'][0]))\n",
    "nouns"
   ]
  },
  {
   "cell_type": "code",
   "execution_count": 99,
   "id": "cf4a730f-e458-49cb-b904-50f76afdf0a3",
   "metadata": {},
   "outputs": [],
   "source": [
    "# 전체 말뭉치(corpus)에서 명사 형태소 추출\n",
    "nouns_all = nouns_tagger.nouns(apply_regular_expression(\"\".join(review_df['text'].tolist())))\n",
    "nouns_all"
   ]
  },
  {
   "cell_type": "code",
   "execution_count": 100,
   "id": "803cacc0-43ff-4496-9b6a-fe23a05befe3",
   "metadata": {},
   "outputs": [
    {
     "data": {
      "text/plain": [
       "[('호텔', 803),\n",
       " ('수', 498),\n",
       " ('것', 436),\n",
       " ('방', 330),\n",
       " ('위치', 328),\n",
       " ('우리', 327),\n",
       " ('곳', 320),\n",
       " ('공항', 307),\n",
       " ('직원', 267),\n",
       " ('매우', 264)]"
      ]
     },
     "execution_count": 100,
     "metadata": {},
     "output_type": "execute_result"
    }
   ],
   "source": [
    "from collections import Counter\n",
    "\n",
    "# 빈도 탐색\n",
    "counter = Counter(nouns_all)\n",
    "counter.most_common(10)"
   ]
  },
  {
   "cell_type": "markdown",
   "id": "dafced1b-0de1-4b7a-9e0e-361726c732af",
   "metadata": {},
   "source": [
    "----\n",
    "### 3) 한글자 키워드 필터링"
   ]
  },
  {
   "cell_type": "code",
   "execution_count": 101,
   "id": "f93b87d1-6777-4394-8225-015487c49082",
   "metadata": {},
   "outputs": [
    {
     "data": {
      "text/plain": [
       "[('호텔', 803),\n",
       " ('위치', 328),\n",
       " ('우리', 327),\n",
       " ('공항', 307),\n",
       " ('직원', 267),\n",
       " ('매우', 264),\n",
       " ('가격', 245),\n",
       " ('객실', 244),\n",
       " ('시설', 215),\n",
       " ('제주', 192)]"
      ]
     },
     "execution_count": 101,
     "metadata": {},
     "output_type": "execute_result"
    }
   ],
   "source": [
    "available_counter = Counter({x : counter[x] for x in counter if len(x) > 1})\n",
    "available_counter.most_common(10)"
   ]
  },
  {
   "cell_type": "markdown",
   "id": "8cbe5372-d309-45e2-8a41-7d9a4868bddf",
   "metadata": {},
   "source": [
    "----\n",
    "### 4) 불용어 사전 적용"
   ]
  },
  {
   "cell_type": "code",
   "execution_count": 102,
   "id": "69fd74a7-174d-491b-bb44-1a1976fa8c4e",
   "metadata": {},
   "outputs": [
    {
     "name": "stdout",
     "output_type": "stream",
     "text": [
      "['아', '휴', '아이구', '아이쿠', '아이고', '어', '나', '우리', '저희', '따라']\n"
     ]
    }
   ],
   "source": [
    "# 한국어 약식 불용어 사전 예시 파일. 출처 - (https://www.ranks.nl/stopwords/korean)\n",
    "korean_stopwords_path = \"../../dataset/korean_stopwords.txt\"\n",
    "\n",
    "# 텍스트 파일을 오픈\n",
    "with open(korean_stopwords_path, encoding='utf8') as f: \n",
    "    stopwords = f.readlines()\n",
    "    \n",
    "stopwords = [x.strip() for x in stopwords] \n",
    "print(stopwords[:10])"
   ]
  },
  {
   "cell_type": "code",
   "execution_count": 103,
   "id": "5fa87120-f405-4c63-ab27-0aa91d74823a",
   "metadata": {},
   "outputs": [
    {
     "name": "stdout",
     "output_type": "stream",
     "text": [
      "['둘', '셋', '넷', '다섯', '여섯', '일곱', '여덟', '아홉', '령', '영']\n"
     ]
    }
   ],
   "source": [
    "print(stopwords[-10:])"
   ]
  },
  {
   "cell_type": "code",
   "execution_count": 106,
   "id": "98afb688-5017-405a-97b3-652b19c92499",
   "metadata": {},
   "outputs": [],
   "source": [
    "# 데이터 특징을 반영한 불용어 추가\n",
    "jeju_hotel_stopwords = ['제주', '제주도', '호텔', '리뷰', '숙소', '여행', '트립']\n",
    "for word in jeju_hotel_stopwords:\n",
    "    stopwords.append(word)"
   ]
  },
  {
   "cell_type": "markdown",
   "id": "45302610-d6fb-4862-aa8a-040ee1170bcc",
   "metadata": {},
   "source": [
    "----\n",
    "## 1. 로지스틱 회귀 분석\n",
    "### 1) Word Counter"
   ]
  },
  {
   "cell_type": "code",
   "execution_count": 107,
   "id": "02575344-f76a-4b5e-a0b1-5ab1f9127554",
   "metadata": {},
   "outputs": [],
   "source": [
    "from sklearn.feature_extraction.text import CountVectorizer\n",
    "\n",
    "def text_cleaning(text):\n",
    "    hangul = re.compile('[^ ㄱ-ㅣ가-힣]')\n",
    "    result = hangul.sub('', text)\n",
    "    tagger = Okt()\n",
    "    nouns = nouns_tagger.nouns(result)\n",
    "    nouns = [x for x in nouns if len(x) > 1]\n",
    "    nouns = [x for x in nouns if x not in stopwords]\n",
    "    return nouns\n",
    "\n",
    "vect = CountVectorizer(tokenizer = lambda x: text_cleaning(x))\n",
    "bow_vect = vect.fit_transform(review_df['text'].tolist())"
   ]
  },
  {
   "cell_type": "code",
   "execution_count": null,
   "id": "0bcabed0-0552-4750-b09c-fdcd91f430cb",
   "metadata": {},
   "outputs": [],
   "source": [
    "bow_vect"
   ]
  },
  {
   "cell_type": "code",
   "execution_count": 108,
   "id": "f48b8942-d2d2-452a-8f64-9da9ff6d32bf",
   "metadata": {},
   "outputs": [
    {
     "data": {
      "text/plain": [
       "array([[0, 0, 0, ..., 0, 0, 0],\n",
       "       [0, 0, 0, ..., 0, 0, 0],\n",
       "       [0, 0, 0, ..., 0, 0, 0],\n",
       "       ...,\n",
       "       [0, 0, 0, ..., 0, 0, 0],\n",
       "       [0, 0, 2, ..., 0, 0, 0],\n",
       "       [0, 0, 0, ..., 0, 0, 0]])"
      ]
     },
     "execution_count": 108,
     "metadata": {},
     "output_type": "execute_result"
    }
   ],
   "source": [
    "bow_vect.toarray()"
   ]
  },
  {
   "cell_type": "code",
   "execution_count": 109,
   "id": "2926d3ad-5314-4685-add3-fbd15c371023",
   "metadata": {},
   "outputs": [
    {
     "data": {
      "text/plain": [
       "(1001, 3524)"
      ]
     },
     "execution_count": 109,
     "metadata": {},
     "output_type": "execute_result"
    }
   ],
   "source": [
    "bow_vect.toarray().shape"
   ]
  },
  {
   "cell_type": "code",
   "execution_count": 110,
   "id": "6252294d-88cf-4d29-84ad-40f0c06be629",
   "metadata": {},
   "outputs": [],
   "source": [
    "word_list = vect.get_feature_names()"
   ]
  },
  {
   "cell_type": "code",
   "execution_count": null,
   "id": "726c8088-0afb-4ab1-ada6-dd6c146149e8",
   "metadata": {},
   "outputs": [],
   "source": [
    "word_list"
   ]
  },
  {
   "cell_type": "code",
   "execution_count": 111,
   "id": "a3ecd975-8b05-4600-a6fa-1793eff15e81",
   "metadata": {},
   "outputs": [],
   "source": [
    "count_list = bow_vect.toarray().sum(axis=0)"
   ]
  },
  {
   "cell_type": "code",
   "execution_count": null,
   "id": "ad4e5398-5635-4c9a-8673-932a53a6d022",
   "metadata": {},
   "outputs": [],
   "source": [
    "count_list"
   ]
  },
  {
   "cell_type": "code",
   "execution_count": 112,
   "id": "d8ec802c-3707-4be8-b43c-00de68ee9c5a",
   "metadata": {},
   "outputs": [],
   "source": [
    "word_count_dict = dict(zip(word_list, count_list))"
   ]
  },
  {
   "cell_type": "code",
   "execution_count": null,
   "id": "22ca9a69-0b39-47a2-8434-5fbdbb0da920",
   "metadata": {},
   "outputs": [],
   "source": [
    "word_count_dict"
   ]
  },
  {
   "cell_type": "markdown",
   "id": "a8ba2998-f626-4a64-be48-16adff37f78b",
   "metadata": {},
   "source": [
    "----\n",
    "### 2) TF-IDF 임베딩 기법"
   ]
  },
  {
   "cell_type": "code",
   "execution_count": 113,
   "id": "ab920ec1-8bcd-4ca1-92b5-1e0fe70c0500",
   "metadata": {},
   "outputs": [],
   "source": [
    "from sklearn.feature_extraction.text import TfidfTransformer\n",
    "\n",
    "tfidf_vectorizer = TfidfTransformer()\n",
    "tf_idf_vect = tfidf_vectorizer.fit_transform(bow_vect)"
   ]
  },
  {
   "cell_type": "code",
   "execution_count": 114,
   "id": "43bea9be-5e54-4244-8037-caee80feda5e",
   "metadata": {},
   "outputs": [
    {
     "name": "stdout",
     "output_type": "stream",
     "text": [
      "(1001, 3524)\n",
      "  (0, 3513)\t0.3687100704220284\n",
      "  (0, 2858)\t0.266905856537877\n",
      "  (0, 2856)\t0.33100472001837805\n",
      "  (0, 2799)\t0.5048356740658604\n",
      "  (0, 2632)\t0.2377686693731329\n",
      "  (0, 2259)\t0.15939473733746998\n",
      "  (0, 1548)\t0.5048356740658604\n",
      "  (0, 1491)\t0.3026405210729485\n"
     ]
    }
   ],
   "source": [
    "print(tf_idf_vect.shape)\n",
    "print(tf_idf_vect[0])"
   ]
  },
  {
   "cell_type": "code",
   "execution_count": 115,
   "id": "c429916e-aa74-4719-80fd-74b79f6b0f11",
   "metadata": {},
   "outputs": [
    {
     "name": "stdout",
     "output_type": "stream",
     "text": [
      "{2799: '집중', 3513: '휴식', 2632: '제공', 2259: '위치', 1548: '선정', 2858: '청소', 2856: '청결', 1491: '상태', 295..\n"
     ]
    }
   ],
   "source": [
    "invert_index_vectorizer = {v: k for k, v in vect.vocabulary_.items()}\n",
    "print(str(invert_index_vectorizer)[:100]+'..')"
   ]
  },
  {
   "cell_type": "markdown",
   "id": "dbd17fa4-e486-4c81-89e4-10be1ea0b894",
   "metadata": {},
   "source": [
    "----\n",
    "### 3) Logistic Regression 데이터셋 최종 생성하기"
   ]
  },
  {
   "cell_type": "code",
   "execution_count": 117,
   "id": "9e3f4c9f-c724-415d-94a1-18b54c67885c",
   "metadata": {},
   "outputs": [
    {
     "data": {
      "text/html": [
       "<div>\n",
       "<style scoped>\n",
       "    .dataframe tbody tr th:only-of-type {\n",
       "        vertical-align: middle;\n",
       "    }\n",
       "\n",
       "    .dataframe tbody tr th {\n",
       "        vertical-align: top;\n",
       "    }\n",
       "\n",
       "    .dataframe thead th {\n",
       "        text-align: right;\n",
       "    }\n",
       "</style>\n",
       "<table border=\"1\" class=\"dataframe\">\n",
       "  <thead>\n",
       "    <tr style=\"text-align: right;\">\n",
       "      <th></th>\n",
       "      <th>rating</th>\n",
       "      <th>text</th>\n",
       "    </tr>\n",
       "  </thead>\n",
       "  <tbody>\n",
       "    <tr>\n",
       "      <th>125</th>\n",
       "      <td>3</td>\n",
       "      <td>저층인데다 공조기 벽이 가로 막구 있어서. 창밖엔 공조기 벽만 보였고 . 화장실은 ...</td>\n",
       "    </tr>\n",
       "    <tr>\n",
       "      <th>527</th>\n",
       "      <td>3</td>\n",
       "      <td>리조트 시설은 좋았지만 난방에 문제가 있었음ㆍ 다른 객실로 바꿔 주지는 않았지만 소...</td>\n",
       "    </tr>\n",
       "    <tr>\n",
       "      <th>976</th>\n",
       "      <td>4</td>\n",
       "      <td>2 암버 호텔에, 이는 일명 이비사 호텔이지만 호텔은 말 그대로 2 암버 중앙에서 ...</td>\n",
       "    </tr>\n",
       "    <tr>\n",
       "      <th>375</th>\n",
       "      <td>3</td>\n",
       "      <td>우리는 이 호텔이서 이틀밤을 있었는데 우리 단체 관광에서 짜준 대로 였다. 하지만 ...</td>\n",
       "    </tr>\n",
       "    <tr>\n",
       "      <th>167</th>\n",
       "      <td>4</td>\n",
       "      <td>방은 널찍하고 깔끔하고요, 시설이 잘 갖춰져 있습니다. 방에는 42인치 평면 TV,...</td>\n",
       "    </tr>\n",
       "  </tbody>\n",
       "</table>\n",
       "</div>"
      ],
      "text/plain": [
       "     rating                                               text\n",
       "125       3  저층인데다 공조기 벽이 가로 막구 있어서. 창밖엔 공조기 벽만 보였고 . 화장실은 ...\n",
       "527       3  리조트 시설은 좋았지만 난방에 문제가 있었음ㆍ 다른 객실로 바꿔 주지는 않았지만 소...\n",
       "976       4  2 암버 호텔에, 이는 일명 이비사 호텔이지만 호텔은 말 그대로 2 암버 중앙에서 ...\n",
       "375       3  우리는 이 호텔이서 이틀밤을 있었는데 우리 단체 관광에서 짜준 대로 였다. 하지만 ...\n",
       "167       4  방은 널찍하고 깔끔하고요, 시설이 잘 갖춰져 있습니다. 방에는 42인치 평면 TV,..."
      ]
     },
     "execution_count": 117,
     "metadata": {},
     "output_type": "execute_result"
    }
   ],
   "source": [
    "review_df.sample(5).head()"
   ]
  },
  {
   "cell_type": "code",
   "execution_count": 118,
   "id": "72c0380f-c924-4eb1-b2fe-de2e9d7d52f8",
   "metadata": {},
   "outputs": [
    {
     "data": {
      "text/plain": [
       "<AxesSubplot:>"
      ]
     },
     "execution_count": 118,
     "metadata": {},
     "output_type": "execute_result"
    },
    {
     "data": {
      "image/png": "[encoded data removed]",
      "text/plain": [
       "<Figure size 432x288 with 1 Axes>"
      ]
     },
     "metadata": {
      "needs_background": "light"
     },
     "output_type": "display_data"
    }
   ],
   "source": [
    "review_df['rating'].hist()"
   ]
  },
  {
   "cell_type": "code",
   "execution_count": 119,
   "id": "2debcde6-8f37-4675-9d3e-05301f6887d4",
   "metadata": {},
   "outputs": [
    {
     "data": {
      "text/plain": [
       "(275, 2)"
      ]
     },
     "execution_count": 119,
     "metadata": {},
     "output_type": "execute_result"
    }
   ],
   "source": [
    "review_df[review_df['rating']<4].shape"
   ]
  },
  {
   "cell_type": "code",
   "execution_count": 120,
   "id": "4ac023ba-eae0-4eb5-9ff3-badfe4b87224",
   "metadata": {},
   "outputs": [
    {
     "data": {
      "text/plain": [
       "(726, 2)"
      ]
     },
     "execution_count": 120,
     "metadata": {},
     "output_type": "execute_result"
    }
   ],
   "source": [
    "review_df[review_df['rating']>3].shape"
   ]
  },
  {
   "cell_type": "code",
   "execution_count": 121,
   "id": "0629e6a5-debd-48db-a736-4a6dd25dc668",
   "metadata": {},
   "outputs": [
    {
     "data": {
      "text/html": [
       "<div>\n",
       "<style scoped>\n",
       "    .dataframe tbody tr th:only-of-type {\n",
       "        vertical-align: middle;\n",
       "    }\n",
       "\n",
       "    .dataframe tbody tr th {\n",
       "        vertical-align: top;\n",
       "    }\n",
       "\n",
       "    .dataframe thead th {\n",
       "        text-align: right;\n",
       "    }\n",
       "</style>\n",
       "<table border=\"1\" class=\"dataframe\">\n",
       "  <thead>\n",
       "    <tr style=\"text-align: right;\">\n",
       "      <th></th>\n",
       "      <th>rating</th>\n",
       "      <th>text</th>\n",
       "      <th>y</th>\n",
       "    </tr>\n",
       "  </thead>\n",
       "  <tbody>\n",
       "    <tr>\n",
       "      <th>0</th>\n",
       "      <td>4</td>\n",
       "      <td>여행에 집중할수 있게 편안한 휴식을 제공하는 호텔이었습니다. 위치선정 또한 적당한 ...</td>\n",
       "      <td>1</td>\n",
       "    </tr>\n",
       "    <tr>\n",
       "      <th>1</th>\n",
       "      <td>4</td>\n",
       "      <td>2일 이상 연박시 침대, 이불, 베게등 침구류 교체 및 어메니티 보강이 필요해 보입...</td>\n",
       "      <td>1</td>\n",
       "    </tr>\n",
       "    <tr>\n",
       "      <th>2</th>\n",
       "      <td>4</td>\n",
       "      <td>지인에소개로온 호텔  깨끗하고 좋은거같아요 처음에는 없는게 많아 많이  당황했는데 ...</td>\n",
       "      <td>1</td>\n",
       "    </tr>\n",
       "    <tr>\n",
       "      <th>3</th>\n",
       "      <td>5</td>\n",
       "      <td>방에 딱 들어서자마자 눈이 휘둥그레질정도로 이렇게 넓은 호텔 처음 와본 것 같아요!...</td>\n",
       "      <td>1</td>\n",
       "    </tr>\n",
       "    <tr>\n",
       "      <th>4</th>\n",
       "      <td>5</td>\n",
       "      <td>저녁에 맥주한잔 하는게 좋아서 렌트 안하고 뚜벅이 하기로 했는데 호텔 바로 앞에 버...</td>\n",
       "      <td>1</td>\n",
       "    </tr>\n",
       "  </tbody>\n",
       "</table>\n",
       "</div>"
      ],
      "text/plain": [
       "   rating                                               text  y\n",
       "0       4  여행에 집중할수 있게 편안한 휴식을 제공하는 호텔이었습니다. 위치선정 또한 적당한 ...  1\n",
       "1       4  2일 이상 연박시 침대, 이불, 베게등 침구류 교체 및 어메니티 보강이 필요해 보입...  1\n",
       "2       4  지인에소개로온 호텔  깨끗하고 좋은거같아요 처음에는 없는게 많아 많이  당황했는데 ...  1\n",
       "3       5  방에 딱 들어서자마자 눈이 휘둥그레질정도로 이렇게 넓은 호텔 처음 와본 것 같아요!...  1\n",
       "4       5  저녁에 맥주한잔 하는게 좋아서 렌트 안하고 뚜벅이 하기로 했는데 호텔 바로 앞에 버...  1"
      ]
     },
     "execution_count": 121,
     "metadata": {},
     "output_type": "execute_result"
    }
   ],
   "source": [
    "def rating_to_label(rating):\n",
    "    if rating > 3:\n",
    "        return 1\n",
    "    else:\n",
    "        return 0\n",
    "\n",
    "review_df['y'] = review_df['rating'].apply(lambda x: rating_to_label(x))\n",
    "review_df.head()"
   ]
  },
  {
   "cell_type": "code",
   "execution_count": 122,
   "id": "ce2be9e3-a493-4dfd-bc5d-d4723dfeb568",
   "metadata": {},
   "outputs": [
    {
     "data": {
      "text/plain": [
       "1    726\n",
       "0    275\n",
       "Name: y, dtype: int64"
      ]
     },
     "execution_count": 122,
     "metadata": {},
     "output_type": "execute_result"
    }
   ],
   "source": [
    "review_df['y'].value_counts()"
   ]
  },
  {
   "cell_type": "markdown",
   "id": "127743b1-66ed-4830-b177-689520b1c0ad",
   "metadata": {},
   "source": [
    "----\n",
    "### 4) 데이터셋 분리"
   ]
  },
  {
   "cell_type": "code",
   "execution_count": 123,
   "id": "eda75234-f07b-4753-805c-8cda0706e44f",
   "metadata": {},
   "outputs": [],
   "source": [
    "from sklearn.model_selection import train_test_split\n",
    "\n",
    "y = review_df['y']\n",
    "x_train, x_test, y_train, y_test = train_test_split(tf_idf_vect, y, test_size=0.30)"
   ]
  },
  {
   "cell_type": "code",
   "execution_count": 124,
   "id": "fcad1a7d-3fb2-45ff-9fb5-4e8a9bd6d751",
   "metadata": {},
   "outputs": [
    {
     "name": "stdout",
     "output_type": "stream",
     "text": [
      "(700, 3524)\n",
      "(301, 3524)\n"
     ]
    }
   ],
   "source": [
    "print(x_train.shape)\n",
    "print(x_test.shape)"
   ]
  },
  {
   "cell_type": "markdown",
   "id": "1e0a051a-45d5-453f-b38b-ff8c7ac91c6f",
   "metadata": {},
   "source": [
    "----\n",
    "### 5) 모델 학습"
   ]
  },
  {
   "cell_type": "code",
   "execution_count": 125,
   "id": "28867f54-33fb-48fa-95fe-63d27e55ea7e",
   "metadata": {},
   "outputs": [],
   "source": [
    "from sklearn.linear_model import LogisticRegression\n",
    "from sklearn.metrics import accuracy_score, precision_score, recall_score, f1_score\n",
    "\n",
    "# Train LR model\n",
    "lr = LogisticRegression(random_state=0)\n",
    "lr.fit(x_train, y_train)\n",
    "\n",
    "# classifiacation predict\n",
    "y_pred = lr.predict(x_test)"
   ]
  },
  {
   "cell_type": "code",
   "execution_count": 126,
   "id": "48e2ccce-7043-47ca-8cda-43de674ffdcc",
   "metadata": {},
   "outputs": [
    {
     "data": {
      "text/plain": [
       "array([1, 1, 1, 1, 1, 1, 1, 1, 1, 1, 1, 1, 1, 1, 1, 1, 1, 1, 1, 1, 1, 1,\n",
       "       1, 1, 1, 1, 1, 1, 1, 1, 1, 1, 1, 1, 1, 1, 1, 1, 1, 1, 1, 1, 1, 0,\n",
       "       1, 1, 1, 1, 1, 1, 1, 1, 1, 0, 1, 1, 1, 1, 1, 1, 1, 1, 1, 1, 1, 1,\n",
       "       1, 1, 1, 1, 1, 1, 1, 1, 1, 1, 1, 1, 1, 1, 1, 1, 1, 1, 1, 1, 1, 1,\n",
       "       1, 1, 1, 1, 1, 1, 1, 1, 1, 1, 1, 1, 1, 1, 1, 1, 1, 1, 1, 1, 1, 1,\n",
       "       1, 1, 1, 1, 1, 1, 1, 1, 1, 1, 1, 1, 1, 1, 1, 1, 1, 1, 1, 1, 1, 1,\n",
       "       1, 0, 1, 1, 1, 1, 1, 1, 1, 1, 1, 1, 1, 1, 1, 1, 1, 1, 1, 1, 1, 1,\n",
       "       1, 1, 1, 1, 1, 1, 1, 1, 1, 1, 1, 1, 1, 1, 1, 1, 1, 1, 1, 1, 1, 1,\n",
       "       1, 1, 1, 1, 1, 1, 1, 1, 1, 1, 1, 1, 1, 1, 1, 1, 1, 1, 1, 1, 1, 1,\n",
       "       1, 1, 1, 1, 1, 1, 1, 1, 1, 1, 1, 1, 1, 1, 1, 1, 1, 1, 1, 1, 1, 1,\n",
       "       1, 1, 1, 1, 1, 1, 1, 1, 1, 1, 1, 1, 1, 1, 1, 1, 1, 1, 1, 1, 1, 1,\n",
       "       1, 1, 1, 1, 1, 1, 1, 1, 1, 1, 1, 1, 1, 1, 1, 1, 1, 1, 1, 1, 1, 1,\n",
       "       1, 1, 1, 1, 1, 1, 1, 1, 1, 1, 1, 1, 1, 1, 1, 1, 1, 1, 1, 1, 1, 1,\n",
       "       1, 1, 1, 1, 1, 1, 1, 1, 1, 1, 1, 1, 1, 1, 1])"
      ]
     },
     "execution_count": 126,
     "metadata": {},
     "output_type": "execute_result"
    }
   ],
   "source": [
    "y_pred"
   ]
  },
  {
   "cell_type": "markdown",
   "id": "bf10a380-75b9-41f8-8274-0121dad9e0eb",
   "metadata": {},
   "source": [
    "----\n",
    "### 6) 분류 모델의 평가"
   ]
  },
  {
   "cell_type": "code",
   "execution_count": 127,
   "id": "b7f4a5ac-f01f-42a0-ae93-7dbb4f7279ef",
   "metadata": {},
   "outputs": [
    {
     "name": "stdout",
     "output_type": "stream",
     "text": [
      "accuracy: 0.74\n",
      "Precision : 0.738\n",
      "Recall : 1.000\n",
      "F1 : 0.849\n"
     ]
    }
   ],
   "source": [
    "# classification result for test dataset\n",
    "print(\"accuracy: %.2f\" % accuracy_score(y_test, y_pred))\n",
    "print(\"Precision : %.3f\" % precision_score(y_test, y_pred))\n",
    "print(\"Recall : %.3f\" % recall_score(y_test, y_pred))\n",
    "print(\"F1 : %.3f\" % f1_score(y_test, y_pred))"
   ]
  },
  {
   "cell_type": "code",
   "execution_count": 128,
   "id": "fd0235fc-9ff1-479f-96bb-4f09e0018791",
   "metadata": {},
   "outputs": [
    {
     "name": "stdout",
     "output_type": "stream",
     "text": [
      "AUC : 0.806\n"
     ]
    },
    {
     "data": {
      "text/plain": [
       "<matplotlib.legend.Legend at 0x7fb06126e610>"
      ]
     },
     "execution_count": 128,
     "metadata": {},
     "output_type": "execute_result"
    },
    {
     "data": {
      "image/png": "[encoded data removed]",
      "text/plain": [
       "<Figure size 360x288 with 1 Axes>"
      ]
     },
     "metadata": {
      "needs_background": "light"
     },
     "output_type": "display_data"
    }
   ],
   "source": [
    "from sklearn.metrics import roc_curve, roc_auc_score\n",
    "\n",
    "# AUC(Area Under the Curve)를 계산하여 출력\n",
    "y_pred_probability = lr.predict_proba(x_test)[:,1]\n",
    "false_positive_rate, true_positive_rate, thresholds = roc_curve(y_test, y_pred_probability)\n",
    "roc_auc = roc_auc_score(y_test, y_pred_probability) \n",
    "print(\"AUC : %.3f\" % roc_auc)\n",
    "\n",
    "# ROC curve를 그래프로 출력\n",
    "plt.rcParams['figure.figsize'] = [5, 4]\n",
    "plt.plot(false_positive_rate, true_positive_rate, label='ROC curve (area = %0.3f)' % roc_auc, color='red', linewidth=4.0) \n",
    "plt.plot([0, 1], [0, 1], 'k--')\n",
    "plt.xlim([0.0, 1.0])\n",
    "plt.ylim([0.0, 1.0])\n",
    "plt.xlabel('False Positive Rate') \n",
    "plt.ylabel('True Positive Rate') \n",
    "plt.title('ROC curve of Logistic regression') \n",
    "plt.legend(loc=\"lower right\")"
   ]
  },
  {
   "cell_type": "code",
   "execution_count": 129,
   "id": "bf52eb99-46fb-4851-a4c5-0ef31c6ddc91",
   "metadata": {},
   "outputs": [
    {
     "name": "stdout",
     "output_type": "stream",
     "text": [
      "[[  3  78]\n",
      " [  0 220]]\n"
     ]
    }
   ],
   "source": [
    "from sklearn.metrics import confusion_matrix\n",
    "\n",
    "# print confusion matrix\n",
    "confmat = confusion_matrix(y_true=y_test, y_pred=y_pred)\n",
    "print(confmat)"
   ]
  },
  {
   "cell_type": "markdown",
   "id": "858bbe02-4106-4c09-8873-c45dc5e9e622",
   "metadata": {},
   "source": [
    "----\n",
    "### 7) 샘플링 재조정"
   ]
  },
  {
   "cell_type": "code",
   "execution_count": 130,
   "id": "5813eaa7-a8a7-42b3-8427-bd789e63b104",
   "metadata": {},
   "outputs": [],
   "source": [
    "positive_random_idx = review_df[review_df['y']==1].sample(275, random_state=33).index.tolist()\n",
    "negative_random_idx = review_df[review_df['y']==0].sample(275, random_state=33).index.tolist()"
   ]
  },
  {
   "cell_type": "code",
   "execution_count": 131,
   "id": "2a907f45-6a51-41bc-85ce-70d0714e8519",
   "metadata": {},
   "outputs": [
    {
     "data": {
      "text/plain": [
       "275"
      ]
     },
     "execution_count": 131,
     "metadata": {},
     "output_type": "execute_result"
    }
   ],
   "source": [
    "len(positive_random_idx)"
   ]
  },
  {
   "cell_type": "code",
   "execution_count": 132,
   "id": "16b6a010-04c8-47e9-9f85-03f6016bcbec",
   "metadata": {},
   "outputs": [
    {
     "data": {
      "text/plain": [
       "275"
      ]
     },
     "execution_count": 132,
     "metadata": {},
     "output_type": "execute_result"
    }
   ],
   "source": [
    "len(negative_random_idx)"
   ]
  },
  {
   "cell_type": "code",
   "execution_count": 133,
   "id": "790c4311-c925-4dbc-8966-553b28af6752",
   "metadata": {},
   "outputs": [],
   "source": [
    "random_idx = positive_random_idx + negative_random_idx"
   ]
  },
  {
   "cell_type": "code",
   "execution_count": 134,
   "id": "665b345f-45d1-4b14-9903-a708fedca5df",
   "metadata": {},
   "outputs": [
    {
     "data": {
      "text/plain": [
       "550"
      ]
     },
     "execution_count": 134,
     "metadata": {},
     "output_type": "execute_result"
    }
   ],
   "source": [
    "len(random_idx)"
   ]
  },
  {
   "cell_type": "code",
   "execution_count": 135,
   "id": "07586191-ecb0-4a68-96e2-9448994d6446",
   "metadata": {},
   "outputs": [],
   "source": [
    "X = tf_idf_vect[random_idx]"
   ]
  },
  {
   "cell_type": "code",
   "execution_count": 136,
   "id": "5583bd95-43ab-4706-8857-a51ed1445e27",
   "metadata": {},
   "outputs": [
    {
     "data": {
      "text/plain": [
       "<550x3524 sparse matrix of type '<class 'numpy.float64'>'\n",
       "\twith 10480 stored elements in Compressed Sparse Row format>"
      ]
     },
     "execution_count": 136,
     "metadata": {},
     "output_type": "execute_result"
    }
   ],
   "source": [
    "X"
   ]
  },
  {
   "cell_type": "code",
   "execution_count": 137,
   "id": "86418c64-1dbb-4376-bd41-d19757e57367",
   "metadata": {},
   "outputs": [],
   "source": [
    "# dataset split to train/test\n",
    "y = review_df['y'][random_idx]\n",
    "x_train, x_test, y_train, y_test = train_test_split(X, y, test_size=0.25, random_state=33)"
   ]
  },
  {
   "cell_type": "code",
   "execution_count": 138,
   "id": "46973a09-b51f-4e2d-b126-c64e5fcc5b3e",
   "metadata": {},
   "outputs": [
    {
     "name": "stdout",
     "output_type": "stream",
     "text": [
      "(412, 3524)\n",
      "(138, 3524)\n"
     ]
    }
   ],
   "source": [
    "print(x_train.shape)\n",
    "print(x_test.shape)"
   ]
  },
  {
   "cell_type": "markdown",
   "id": "9da6f5d5-c66c-443a-bd51-14818fee8cb7",
   "metadata": {},
   "source": [
    "----\n",
    "### 8) 모델 재학습"
   ]
  },
  {
   "cell_type": "code",
   "execution_count": 139,
   "id": "99704997-5f3c-4194-b867-95c190195e7e",
   "metadata": {},
   "outputs": [],
   "source": [
    "lr = LogisticRegression(random_state=0)\n",
    "lr.fit(x_train, y_train)\n",
    "y_pred = lr.predict(x_test)"
   ]
  },
  {
   "cell_type": "code",
   "execution_count": 140,
   "id": "6838e513-0aa8-40d9-9fcc-08fe86b5932a",
   "metadata": {},
   "outputs": [
    {
     "data": {
      "text/plain": [
       "array([1, 0, 1, 1, 1, 1, 0, 0, 0, 1, 0, 0, 1, 1, 0, 1, 0, 0, 1, 0, 1, 0,\n",
       "       1, 0, 1, 1, 1, 1, 0, 1, 0, 0, 0, 0, 1, 1, 0, 0, 1, 0, 1, 0, 1, 1,\n",
       "       1, 1, 1, 1, 0, 0, 0, 1, 0, 1, 1, 1, 1, 1, 1, 1, 1, 1, 0, 0, 0, 0,\n",
       "       1, 1, 0, 0, 1, 1, 0, 0, 1, 1, 0, 1, 1, 0, 0, 1, 0, 1, 1, 0, 0, 0,\n",
       "       0, 1, 0, 0, 0, 0, 1, 1, 0, 0, 1, 1, 1, 0, 0, 0, 1, 0, 1, 1, 0, 0,\n",
       "       1, 1, 0, 0, 0, 1, 1, 1, 1, 1, 0, 0, 1, 0, 1, 0, 1, 0, 1, 1, 1, 0,\n",
       "       1, 0, 0, 0, 1, 1])"
      ]
     },
     "execution_count": 140,
     "metadata": {},
     "output_type": "execute_result"
    }
   ],
   "source": [
    "y_pred"
   ]
  },
  {
   "cell_type": "code",
   "execution_count": 141,
   "id": "c9de970c-d4d6-4d58-b233-827268ba88d1",
   "metadata": {},
   "outputs": [
    {
     "name": "stdout",
     "output_type": "stream",
     "text": [
      "accuracy: 0.74\n",
      "Precision : 0.658\n",
      "Recall : 0.814\n",
      "F1 : 0.727\n"
     ]
    }
   ],
   "source": [
    "print(\"accuracy: %.2f\" % accuracy_score(y_test, y_pred))\n",
    "print(\"Precision : %.3f\" % precision_score(y_test, y_pred))\n",
    "print(\"Recall : %.3f\" % recall_score(y_test, y_pred))\n",
    "print(\"F1 : %.3f\" % f1_score(y_test, y_pred))"
   ]
  },
  {
   "cell_type": "code",
   "execution_count": 142,
   "id": "26685781-9aed-4859-aac3-6c74f768b524",
   "metadata": {},
   "outputs": [
    {
     "name": "stdout",
     "output_type": "stream",
     "text": [
      "AUC : 0.828\n"
     ]
    },
    {
     "data": {
      "text/plain": [
       "<matplotlib.legend.Legend at 0x7fb06126e340>"
      ]
     },
     "execution_count": 142,
     "metadata": {},
     "output_type": "execute_result"
    },
    {
     "data": {
      "image/png": "[encoded data removed]",
      "text/plain": [
       "<Figure size 360x288 with 1 Axes>"
      ]
     },
     "metadata": {
      "needs_background": "light"
     },
     "output_type": "display_data"
    }
   ],
   "source": [
    "from sklearn.metrics import roc_curve, roc_auc_score\n",
    "\n",
    "# AUC(Area Under the Curve)를 계산하여 출력\n",
    "y_pred_probability = lr.predict_proba(x_test)[:,1]\n",
    "false_positive_rate, true_positive_rate, thresholds = roc_curve(y_test, y_pred_probability)\n",
    "roc_auc = roc_auc_score(y_test, y_pred_probability) \n",
    "print(\"AUC : %.3f\" % roc_auc)\n",
    "\n",
    "# ROC curve를 그래프로 출력\n",
    "plt.rcParams['figure.figsize'] = [5, 4]\n",
    "plt.plot(false_positive_rate, true_positive_rate, label='ROC curve (area = %0.3f)' % roc_auc, color='red', linewidth=4.0) \n",
    "plt.plot([0, 1], [0, 1], 'k--')\n",
    "plt.xlim([0.0, 1.0])\n",
    "plt.ylim([0.0, 1.0])\n",
    "plt.xlabel('False Positive Rate') \n",
    "plt.ylabel('True Positive Rate') \n",
    "plt.title('ROC curve of Logistic regression') \n",
    "plt.legend(loc=\"lower right\")"
   ]
  },
  {
   "cell_type": "code",
   "execution_count": 143,
   "id": "d48ae92c-b9fc-4a95-9122-d2b3b5317761",
   "metadata": {},
   "outputs": [
    {
     "name": "stdout",
     "output_type": "stream",
     "text": [
      "[[54 25]\n",
      " [11 48]]\n"
     ]
    }
   ],
   "source": [
    "confmat = confusion_matrix(y_true=y_test, y_pred=y_pred)\n",
    "print(confmat)"
   ]
  },
  {
   "cell_type": "markdown",
   "id": "e7a29ee4-190b-4e0c-92d2-4664fbac3315",
   "metadata": {},
   "source": [
    "----\n",
    "## 2. 로지스틱 회귀 분석 결과를 이용한 감성 분석\n",
    "### 1) 긍정/부정 키워드 분석"
   ]
  },
  {
   "cell_type": "code",
   "execution_count": 144,
   "id": "b26e01b3-28a6-4516-a5de-2c7bbd611f7c",
   "metadata": {},
   "outputs": [
    {
     "data": {
      "text/plain": [
       "<BarContainer object of 3524 artists>"
      ]
     },
     "execution_count": 144,
     "metadata": {},
     "output_type": "execute_result"
    },
    {
     "data": {
      "image/png": "[encoded data removed]",
      "text/plain": [
       "<Figure size 720x576 with 1 Axes>"
      ]
     },
     "metadata": {
      "needs_background": "light"
     },
     "output_type": "display_data"
    }
   ],
   "source": [
    "# logistic regression's coef\n",
    "plt.rcParams['figure.figsize'] = [10, 8]\n",
    "plt.bar(range(len(lr.coef_[0])), lr.coef_[0])"
   ]
  },
  {
   "cell_type": "code",
   "execution_count": 145,
   "id": "2c0f4fe5-8208-4a43-afcc-d5119f404f53",
   "metadata": {},
   "outputs": [
    {
     "name": "stdout",
     "output_type": "stream",
     "text": [
      "[(1.3546616880030016, 2346), (1.138019840698415, 2908), (1.0520419332543849, 1213), (0.9659051490769771, 2888), (0.8981700174409373, 26)]\n",
      "[(-0.6724315184129809, 357), (-0.7110825548084946, 3463), (-0.7220355910100259, 1871), (-0.9885151695455561, 1259), (-1.164042051442666, 506)]\n"
     ]
    }
   ],
   "source": [
    "print(sorted(((value, index) for index, value in enumerate(lr.coef_[0])), reverse=True)[:5])\n",
    "print(sorted(((value, index) for index, value in enumerate(lr.coef_[0])), reverse=True)[-5:])"
   ]
  },
  {
   "cell_type": "code",
   "execution_count": 146,
   "id": "f5978cbd-0c1e-4184-9e35-787e5fca1adc",
   "metadata": {},
   "outputs": [],
   "source": [
    "coef_pos_index = sorted(((value, index) for index, value in enumerate(lr.coef_[0])), reverse=True)\n",
    "coef_neg_index = sorted(((value, index) for index, value in enumerate(lr.coef_[0])), reverse=False)"
   ]
  },
  {
   "cell_type": "code",
   "execution_count": 147,
   "id": "bc0e6403-17c0-493c-bf12-4e84e42b9269",
   "metadata": {},
   "outputs": [],
   "source": [
    "coef_pos_index"
   ]
  },
  {
   "cell_type": "code",
   "execution_count": 148,
   "id": "293e29cd-df49-436d-af3e-5a05ae0c927f",
   "metadata": {},
   "outputs": [
    {
     "name": "stdout",
     "output_type": "stream",
     "text": [
      "이용 1.3546616880030016\n",
      "추천 1.138019840698415\n",
      "버스 1.0520419332543849\n",
      "최고 0.9659051490769771\n",
      "가성 0.8981700174409373\n",
      "조식 0.8977045153118064\n",
      "근처 0.8542240895658539\n",
      "공간 0.7372012526817174\n",
      "위치 0.736589403484912\n",
      "맛집 0.7310974626171347\n",
      "거리 0.7250984385668585\n",
      "시설 0.7210729126357053\n",
      "바다 0.71314978187576\n",
      "분위기 0.709115408960054\n",
      "정말 0.6593095535745904\n"
     ]
    }
   ],
   "source": [
    "invert_index_vectorizer = {v: k for k, v in vect.vocabulary_.items()}\n",
    "for coef in coef_pos_index[:15]:\n",
    "    print(invert_index_vectorizer[coef[1]], coef[0])"
   ]
  },
  {
   "cell_type": "code",
   "execution_count": 149,
   "id": "9a68b01f-63fc-4865-ad0b-6f41c431e2fd",
   "metadata": {},
   "outputs": [
    {
     "name": "stdout",
     "output_type": "stream",
     "text": [
      "냄새 -1.164042051442666\n",
      "별로 -0.9885151695455561\n",
      "아무 -0.7220355910100259\n",
      "화장실 -0.7110825548084946\n",
      "그냥 -0.6724315184129809\n",
      "모기 -0.6276475666438097\n",
      "수건 -0.612691473548287\n",
      "모텔 -0.6112305419708752\n",
      "최악 -0.6096264310938102\n",
      "느낌 -0.6067466186378433\n",
      "음식 -0.5694079107974847\n",
      "주위 -0.522409746732395\n",
      "목욕 -0.5103021583277901\n",
      "발코니 -0.49984340772008756\n",
      "진짜 -0.4996253607995646\n"
     ]
    }
   ],
   "source": [
    "for coef in coef_neg_index[:15]:\n",
    "    print(invert_index_vectorizer[coef[1]], coef[0])"
   ]
  },
  {
   "cell_type": "markdown",
   "id": "c462c0bc-3ad6-4952-9b07-912d3d45e68c",
   "metadata": {},
   "source": [
    "----\n",
    "### 2) 긍정/부정 키워드 워드 클라우드 시각화"
   ]
  },
  {
   "cell_type": "code",
   "execution_count": 151,
   "id": "fc1395c3-4054-42fb-9003-207b2b459e60",
   "metadata": {},
   "outputs": [],
   "source": [
    "import pytagcloud\n",
    "import webbrowser"
   ]
  },
  {
   "cell_type": "code",
   "execution_count": 152,
   "id": "01afa3df-66c2-4bfc-8479-c6db07b10401",
   "metadata": {},
   "outputs": [],
   "source": [
    "tags = []\n",
    "for coef in coef_pos_index[:30]:\n",
    "    tags.append((invert_index_vectorizer[coef[1]], coef[0]))"
   ]
  },
  {
   "cell_type": "code",
   "execution_count": 153,
   "id": "09d81708-2e3d-405c-abea-2f9e29e9f1f6",
   "metadata": {},
   "outputs": [
    {
     "data": {
      "text/plain": [
       "[('이용', 1.3546616880030016),\n",
       " ('추천', 1.138019840698415),\n",
       " ('버스', 1.0520419332543849),\n",
       " ('최고', 0.9659051490769771),\n",
       " ('가성', 0.8981700174409373),\n",
       " ('조식', 0.8977045153118064),\n",
       " ('근처', 0.8542240895658539),\n",
       " ('공간', 0.7372012526817174),\n",
       " ('위치', 0.736589403484912),\n",
       " ('맛집', 0.7310974626171347),\n",
       " ('거리', 0.7250984385668585),\n",
       " ('시설', 0.7210729126357053),\n",
       " ('바다', 0.71314978187576),\n",
       " ('분위기', 0.709115408960054),\n",
       " ('정말', 0.6593095535745904),\n",
       " ('주차', 0.6445154290142493),\n",
       " ('리조트', 0.6397555175566342),\n",
       " ('직원', 0.6396285205584581),\n",
       " ('사장', 0.611896115550979),\n",
       " ('더블', 0.5570928635711105),\n",
       " ('지역', 0.555395880648405),\n",
       " ('기분', 0.5474612283405224),\n",
       " ('해변', 0.5433671718861962),\n",
       " ('도로', 0.5394245217979089),\n",
       " ('도움', 0.5237126229269173),\n",
       " ('주차장', 0.5199050859555683),\n",
       " ('합리', 0.5162878781016559),\n",
       " ('시장', 0.4993408218040764),\n",
       " ('걱정', 0.49746359426328635),\n",
       " ('방문', 0.4819348375261315)]"
      ]
     },
     "execution_count": 153,
     "metadata": {},
     "output_type": "execute_result"
    }
   ],
   "source": [
    "tags"
   ]
  },
  {
   "cell_type": "code",
   "execution_count": 154,
   "id": "3cfac728-6694-4547-8356-3236b699e79b",
   "metadata": {},
   "outputs": [
    {
     "data": {
      "image/jpeg": "[encoded data removed]",
      "text/plain": [
       "<IPython.core.display.Image object>"
      ]
     },
     "execution_count": 154,
     "metadata": {},
     "output_type": "execute_result"
    }
   ],
   "source": [
    "taglist = pytagcloud.make_tags(tags, maxsize = 50)\n",
    "pytagcloud.create_tag_image(taglist, 'wordcloud.jpg', size=(900, 600), fontname='NanumGothic', rectangular=False)\n",
    "\n",
    "from IPython.display import Image \n",
    "Image(filename = 'wordcloud.jpg')"
   ]
  },
  {
   "cell_type": "code",
   "execution_count": 155,
   "id": "c64f1b3f-7a46-43f5-974e-f775859fcdd2",
   "metadata": {},
   "outputs": [],
   "source": [
    "tags = []\n",
    "for coef in coef_neg_index[:30]:\n",
    "    tags.append((invert_index_vectorizer[coef[1]], coef[0]*(-1)))"
   ]
  },
  {
   "cell_type": "code",
   "execution_count": 156,
   "id": "ff5a120c-5764-4e78-8f78-d9ba9b938c7e",
   "metadata": {},
   "outputs": [
    {
     "data": {
      "text/plain": [
       "[('냄새', 1.164042051442666),\n",
       " ('별로', 0.9885151695455561),\n",
       " ('아무', 0.7220355910100259),\n",
       " ('화장실', 0.7110825548084946),\n",
       " ('그냥', 0.6724315184129809),\n",
       " ('모기', 0.6276475666438097),\n",
       " ('수건', 0.612691473548287),\n",
       " ('모텔', 0.6112305419708752),\n",
       " ('최악', 0.6096264310938102),\n",
       " ('느낌', 0.6067466186378433),\n",
       " ('음식', 0.5694079107974847),\n",
       " ('주위', 0.522409746732395),\n",
       " ('목욕', 0.5103021583277901),\n",
       " ('발코니', 0.49984340772008756),\n",
       " ('진짜', 0.4996253607995646),\n",
       " ('이틀', 0.49093403090500254),\n",
       " ('사진', 0.47800026821961655),\n",
       " ('예약', 0.46458853947179823),\n",
       " ('담배', 0.4568123571865297),\n",
       " ('제대로', 0.4523251178086479),\n",
       " ('대해', 0.4503026615173129),\n",
       " ('하루', 0.4486180359553416),\n",
       " ('사람', 0.4390787280573878),\n",
       " ('그닥', 0.4387517794092627),\n",
       " ('취소', 0.43019558958732523),\n",
       " ('에어컨', 0.42484449025006027),\n",
       " ('무난', 0.42265775386725324),\n",
       " ('곰팡이', 0.4217915620371959),\n",
       " ('이유', 0.4189971017551601),\n",
       " ('노후', 0.41478369565247986)]"
      ]
     },
     "execution_count": 156,
     "metadata": {},
     "output_type": "execute_result"
    }
   ],
   "source": [
    "tags"
   ]
  },
  {
   "cell_type": "code",
   "execution_count": 157,
   "id": "5acbb41e-e46a-4b6d-88f1-e0dd4d51608f",
   "metadata": {},
   "outputs": [
    {
     "data": {
      "image/jpeg": "[encoded data removed]",
      "text/plain": [
       "<IPython.core.display.Image object>"
      ]
     },
     "execution_count": 157,
     "metadata": {},
     "output_type": "execute_result"
    }
   ],
   "source": [
    "taglist = pytagcloud.make_tags(tags, maxsize = 50)\n",
    "pytagcloud.create_tag_image(taglist, 'wordcloud.jpg', size=(900, 600), fontname='NanumGothic', rectangular=False)\n",
    "\n",
    "from IPython.display import Image \n",
    "Image(filename = 'wordcloud.jpg')"
   ]
  },
  {
   "cell_type": "code",
   "execution_count": 173,
   "id": "e5527e0c-168b-4b3f-894c-bc54d423b796",
   "metadata": {},
   "outputs": [
    {
     "data": {
      "text/plain": [
       "[('위치', 328),\n",
       " ('우리', 327),\n",
       " ('공항', 307),\n",
       " ('직원', 267),\n",
       " ('매우', 264),\n",
       " ('가격', 245),\n",
       " ('객실', 244),\n",
       " ('시설', 215),\n",
       " ('침대', 184),\n",
       " ('조식', 172),\n",
       " ('바다', 168),\n",
       " ('근처', 164),\n",
       " ('아침', 163),\n",
       " ('이용', 160),\n",
       " ('거리', 156),\n",
       " ('예약', 144),\n",
       " ('정말', 142),\n",
       " ('바로', 133),\n",
       " ('아주', 132),\n",
       " ('버스', 125),\n",
       " ('정도', 122),\n",
       " ('제공', 117),\n",
       " ('때문', 112),\n",
       " ('추천', 109),\n",
       " ('화장실', 106),\n",
       " ('생각', 103),\n",
       " ('시간', 102),\n",
       " ('다음', 101),\n",
       " ('욕실', 101),\n",
       " ('숙박', 99),\n",
       " ('체크', 97),\n",
       " ('식사', 97),\n",
       " ('가족', 94),\n",
       " ('다시', 93),\n",
       " ('주변', 92),\n",
       " ('해변', 92),\n",
       " ('무료', 89),\n",
       " ('다른', 88),\n",
       " ('택시', 87),\n",
       " ('사람', 81),\n",
       " ('모든', 81),\n",
       " ('수영장', 78),\n",
       " ('사용', 78),\n",
       " ('또한', 76),\n",
       " ('편의점', 75),\n",
       " ('방문', 74),\n",
       " ('영어', 74),\n",
       " ('공간', 73),\n",
       " ('서비스', 72),\n",
       " ('선택', 72)]"
      ]
     },
     "execution_count": 173,
     "metadata": {},
     "output_type": "execute_result"
    }
   ],
   "source": [
    "tags = [(x, count) for x, count in available_counter.items() if x not in jeju_hotel_stopwords]\n",
    "sorted_by_value = sorted(tags, key=lambda tup: tup[1], reverse=True)[:50]\n",
    "sorted_by_value"
   ]
  },
  {
   "cell_type": "code",
   "execution_count": 172,
   "id": "bd7a27ce-e6af-4420-9844-13c39a3e97ec",
   "metadata": {},
   "outputs": [
    {
     "data": {
      "image/jpeg": "[encoded data removed]",
      "text/plain": [
       "<IPython.core.display.Image object>"
      ]
     },
     "execution_count": 172,
     "metadata": {},
     "output_type": "execute_result"
    }
   ],
   "source": [
    "taglist = pytagcloud.make_tags(sorted_by_value, maxsize = 50)\n",
    "pytagcloud.create_tag_image(taglist, 'wordcloud.jpg', size=(900, 600), fontname='NanumGothic', rectangular=False)\n",
    "\n",
    "from IPython.display import Image \n",
    "Image(filename = 'wordcloud.jpg')"
   ]
  },
  {
   "cell_type": "code",
   "execution_count": null,
   "id": "699a88eb-3d7f-4536-af7c-32f7be6135b1",
   "metadata": {},
   "outputs": [],
   "source": []
  }
 ],
 "metadata": {
  "kernelspec": {
   "display_name": "Python 3 (ipykernel)",
   "language": "python",
   "name": "python3"
  },
  "language_info": {
   "codemirror_mode": {
    "name": "ipython",
    "version": 3
   },
   "file_extension": ".py",
   "mimetype": "text/x-python",
   "name": "python",
   "nbconvert_exporter": "python",
   "pygments_lexer": "ipython3",
   "version": "3.8.10"
  }
 },
 "nbformat": 4,
 "nbformat_minor": 5
}
